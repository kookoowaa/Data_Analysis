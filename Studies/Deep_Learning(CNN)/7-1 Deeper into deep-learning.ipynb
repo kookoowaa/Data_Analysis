{
 "cells": [
  {
   "cell_type": "markdown",
   "metadata": {},
   "source": [
    "# *딥러닝*\n",
    " ## 1. 더 깊게"
   ]
  },
  {
   "cell_type": "markdown",
   "metadata": {},
   "source": [
    "### 1) 더 깊은 신경망으로\n",
    "- 손글씨 숫자를 인식하는 심층 CNN의 예시\n",
    "![](image/fig 8-1.png)"
   ]
  },
  {
   "cell_type": "markdown",
   "metadata": {},
   "source": [
    "- 위 신경망의 특성은 다음과 같음\n",
    ">- 3X3의 작은 필터 사용한 Conv Layer (층이 깊어질수록 채널수가 증가하는 것이 특징)\n",
    ">- 활성화 함수는 ReLU 사용\n",
    ">- Affine layer 뒤에서는 Dropout layer 사용\n",
    ">- Adam으로 매개변수 최적화 수행\n",
    ">- 가중치 초기값은 'He 초기값' 사용"
   ]
  },
  {
   "cell_type": "markdown",
   "metadata": {},
   "source": [
    "- 위 심층 신경망의 정답률은 99.38%임\n",
    "- 인식에 실패한 이미지로 인간과 비슷한 오류 발생\n",
    "![](image/fig 8-2.png)"
   ]
  },
  {
   "cell_type": "markdown",
   "metadata": {},
   "source": [
    "### 2) 정확도를 더 높히려면\n",
    "\n",
    "- 정확도를 높히는 방법에는 **앙상블, 학습률감소, 데이터 확장** 등의 기법 사용 가능\n",
    "- 그 중 **data augmentation(데이터 확장)**은 입력 이미지에 미세한 변화를 주어 이미지 개수 자체를 늘리며, 데이터 수가 적을 때 효과적인 수단임\n",
    "![](image/fig 8-4.png)\n",
    "- 예를 들어 이미지 일부를 잘라내는 **crop**이나 좌우를 뒤집는 **flip**, 또는 **밝기 변화나 확대/축소등의 스케일 변화**도 효과적임"
   ]
  },
  {
   "cell_type": "markdown",
   "metadata": {},
   "source": [
    "### 3) 깊게 하는 이유\n",
    "1. 매개변수의 수가 줄어듬\n",
    "\n",
    "    - 5X5 합성곱 1회는 매개변수의 수가 25개, 3X3 합성곱 2회는 매개변수의 수가 18개임(2X3X3)\n",
    "    - 작은 필터를 겹쳐 신경망을 깊게 할때 장점은 매개변수 수를 줄여 넓은 수용영역을 소화 가능\n",
    "![](image/fig 8-5.png)\n",
    "![](image/fig 8-6.png)\n",
    "\n",
    "2. 학습의 효율성 향상 (학습데이터 수 축소)\n",
    "\n",
    "    - 층을 깊게 함으로써 학습을 고속으로수행\n",
    "    - Conv layer가 정보를 layer 별로 추출 (엣지, 블롭, 텍스쳐, etc.)\n",
    "    - 계층적으로 학습 문제를 분해하여 단순한 문제들로 대체 가능\n",
    "<br>\n",
    "<br>\n",
    "3. 정보를 계층적으로 전달 가능\n",
    "\n",
    "    - 엣지 정보를 활용하여 다음층에서 문제 해결"
   ]
  }
 ],
 "metadata": {
  "kernelspec": {
   "display_name": "Python 3",
   "language": "python",
   "name": "python3"
  },
  "language_info": {
   "codemirror_mode": {
    "name": "ipython",
    "version": 3
   },
   "file_extension": ".py",
   "mimetype": "text/x-python",
   "name": "python",
   "nbconvert_exporter": "python",
   "pygments_lexer": "ipython3",
   "version": "3.6.4"
  }
 },
 "nbformat": 4,
 "nbformat_minor": 2
}
