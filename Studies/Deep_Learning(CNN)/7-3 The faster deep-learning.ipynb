{
 "cells": [
  {
   "cell_type": "markdown",
   "metadata": {},
   "source": [
    "# *딥러닝*\n",
    " ## 3. 더 빠르게(딥러닝 고속화)\n",
    " - 딥러닝 프레임워크 대부분은 GPU를 활용해 대량연산을 고속으로 처리\n",
    " - GPU 외 분산학습과 비트 줄이길 연산 속도 향상 가능\n",
    " ___"
   ]
  },
  {
   "cell_type": "markdown",
   "metadata": {},
   "source": [
    "### 1) 풀어야 할 숙제\n",
    "- AlexNet의 forward 처리 시간 비중을 보면 합성곱 계층이 대다수를 차지\n",
    "- 결국 대량의 '단일곱셈 - 누산' 처리가 중요하며, 이를 어떻게 고속으로 효율적으로 계산할지가 과제임\n",
    "![](image/fig 8-14.png)\n",
    "___"
   ]
  },
  {
   "cell_type": "markdown",
   "metadata": {},
   "source": [
    "### 2) GPU를 활용한 고속화\n",
    "- GPU는 병렬 수치 연산을 고속으로 처리할 수 있는 만큼 *(CPU는 연속적인 복잡한 계산에 유리)*, 이를 다양한 용도로 활용하는 것이 GPU 컴퓨팅의 목적\n",
    "- 실례로 GPU를 활용할 시 CPU로는 40여일이나 걸리는 AlexNet의 학습시간을 6일까지 단축\n",
    "![](image/fig 8-15.png)\n",
    "- 아직까지 딥러닝 프레임워크는 GPU 컴퓨팅용 통합 개발환경 CUDA를 사용하는 NVidia GPU에서만 활용 가능\n",
    "- cuDNN은 CUDA 위에서 동작하는 라이브러리로, 딥러닝에 최적화된 함수 등이 구현되어 있음\n",
    "___"
   ]
  },
  {
   "cell_type": "markdown",
   "metadata": {},
   "source": [
    "### 3) 분산 학습\n",
    "- GPU로 딥러닝 연산을 가속할 수 있지만, 여전히 심층 신경망은 학습에 며칠 혹은 몇주가 걸림 (+ 반복)\n",
    "- 1회 학습에 걸리는 시간을 최대한 단축하고자, 딥러닝 학습을 수평확장하는 분산학습이 탄생\n",
    "- 분산학습을 지원하는 딥러닝 프레임워크로 **구글의 Tensorflow와 MS의 CNTK**가 유명\n",
    "- GPU 수가 늘어남에 따라 아래와 같이 학습 속도 증가\n",
    "![](image/fig 8-16.png)\n",
    "___"
   ]
  },
  {
   "cell_type": "markdown",
   "metadata": {},
   "source": [
    "### 4) 연산 정밀도와 비트 줄이기\n",
    "- 계산 능력 외에도 메모리 용량과 버스 대역폭 등이 딥러닝 고속화에 병목이 될 수 있음\n",
    "- 메모리 저장 능력에 한계가 오거나, GPU 버스를 흐르는 데이터가 많아져 한계를 넘어서면 병목 발생\n",
    "- 다행히 딥러닝은 신경망의 견고성에 따라, 입력 데이터의 높은 수치정밀도를 요구하지 않음\n",
    "- 따라서 딥러닝은 32비트 단정밀도(single-precision)와 64비트 배정밀도(double-precision) 외에 16비트 반정밀도(half-precision)으로도 학습에 문제가 없음"
   ]
  }
 ],
 "metadata": {
  "kernelspec": {
   "display_name": "Python 3",
   "language": "python",
   "name": "python3"
  },
  "language_info": {
   "codemirror_mode": {
    "name": "ipython",
    "version": 3
   },
   "file_extension": ".py",
   "mimetype": "text/x-python",
   "name": "python",
   "nbconvert_exporter": "python",
   "pygments_lexer": "ipython3",
   "version": "3.6.4"
  }
 },
 "nbformat": 4,
 "nbformat_minor": 2
}
