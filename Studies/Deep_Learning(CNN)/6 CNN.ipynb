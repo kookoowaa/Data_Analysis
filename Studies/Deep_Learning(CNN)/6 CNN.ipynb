{
 "cells": [
  {
   "cell_type": "markdown",
   "metadata": {},
   "source": [
    "> - CNN은 기존의 완전연결 계층 네트워크에 합성곱 계층과 풀링 계층을 추가 (convolution & pooling)\n",
    "> - 합성곱 계층과 풀링 계층은 im2col(이미지를 행렬로 전개)을 이용하면 효율적으로 구현 가능\n",
    "> - CNN을 시각화 해 보면 계층이 깊어질수록 고급 정보를 반환\n",
    "> - 대표적인 CNN에는 LeNet(손글씨 인식)과 AlexNet(그림 인식)이 있음"
   ]
  }
 ],
 "metadata": {
  "kernelspec": {
   "display_name": "Python 3",
   "language": "python",
   "name": "python3"
  },
  "language_info": {
   "codemirror_mode": {
    "name": "ipython",
    "version": 3
   },
   "file_extension": ".py",
   "mimetype": "text/x-python",
   "name": "python",
   "nbconvert_exporter": "python",
   "pygments_lexer": "ipython3",
   "version": "3.6.4"
  }
 },
 "nbformat": 4,
 "nbformat_minor": 2
}
