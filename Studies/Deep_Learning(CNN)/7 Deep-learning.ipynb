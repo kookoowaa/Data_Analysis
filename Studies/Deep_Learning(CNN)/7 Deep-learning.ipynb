{
 "cells": [
  {
   "cell_type": "markdown",
   "metadata": {},
   "source": [
    ">- 다양한 문제에서 신경망을 더 깊게 함으로 성능 개선 가능\n",
    ">- ILSVRC(이미지 인식 기술 대회)에서는 딥러닝 기반 기법들이 상위권 독점\n",
    ">- 유명한 신경망으로는 VGG, GoogLeNet, ResNet 등이 있음\n",
    ">- GPU와 분산학습, 비트 정밀도 감소 등으로 딥러닝 고속화 가능\n",
    ">- 딥러닝으로 사물 인식 뿐 아니라 사물 검출과 분할에도 이용 중"
   ]
  }
 ],
 "metadata": {
  "kernelspec": {
   "display_name": "Python 3",
   "language": "python",
   "name": "python3"
  },
  "language_info": {
   "codemirror_mode": {
    "name": "ipython",
    "version": 3
   },
   "file_extension": ".py",
   "mimetype": "text/x-python",
   "name": "python",
   "nbconvert_exporter": "python",
   "pygments_lexer": "ipython3",
   "version": "3.6.4"
  }
 },
 "nbformat": 4,
 "nbformat_minor": 2
}
