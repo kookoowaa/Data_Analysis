{
 "cells": [
  {
   "cell_type": "markdown",
   "metadata": {},
   "source": [
    "# 관측편향\n",
    "___\n",
    "## 1. 레드라인 문제\n",
    "> - 메사추세츠의 레드라인은 캠브리지와 보스턴을 연결하는 지하철 노선임\n",
    ">- 러시아워 떄 레드라인은 평균 7~8분 간격으로 운행\n",
    ">- 역에 도착했을 당시 승객수가 없다면 7~8분 정도의 대기시간을 예상하고, 승객수가 어느 정도 있다면 곧 도착할 것을 예상함\n",
    ">- 이 과정을 베이지안으로 접근 가능"
   ]
  },
  {
   "cell_type": "markdown",
   "metadata": {},
   "source": [
    "___\n",
    "## 2. 모델"
   ]
  },
  {
   "cell_type": "markdown",
   "metadata": {},
   "source": [
    "*dataset unavailable*"
   ]
  }
 ],
 "metadata": {
  "kernelspec": {
   "display_name": "Python 3",
   "language": "python",
   "name": "python3"
  },
  "language_info": {
   "codemirror_mode": {
    "name": "ipython",
    "version": 3
   },
   "file_extension": ".py",
   "mimetype": "text/x-python",
   "name": "python",
   "nbconvert_exporter": "python",
   "pygments_lexer": "ipython3",
   "version": "3.6.4"
  }
 },
 "nbformat": 4,
 "nbformat_minor": 2
}
