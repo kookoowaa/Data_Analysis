{
 "cells": [
  {
   "cell_type": "code",
   "execution_count": 1,
   "metadata": {},
   "outputs": [
    {
     "name": "stdout",
     "output_type": "stream",
     "text": [
      "Populating the interactive namespace from numpy and matplotlib\n"
     ]
    }
   ],
   "source": [
    "%pylab inline\n",
    "pylab.rcParams['figure.figsize'] = (16, 8)\n",
    "\n",
    "import thinkbayes\n",
    "from thinkbayes import Pmf\n",
    "from thinkbayes import Suite\n",
    "import pandas as pd"
   ]
  },
  {
   "cell_type": "markdown",
   "metadata": {},
   "source": [
    "# 공산과 가산\n",
    "___\n",
    "## 1. 공산"
   ]
  },
  {
   "cell_type": "markdown",
   "metadata": {},
   "source": [
    "- **$공산^{odds}$**은 확률과 동일한 정보를 다르게 표기하는 법으로 아래와 같이 설명할 수 있음\n",
    "```python\n",
    "def Odds(p):\n",
    "    return p / (1-p)\n",
    "```\n",
    "- 이길 확률이 75%라면 이길 가능성이 질 가능성의 3배이므로 \"odds are 3:1\" 이라고 표기 가능\n",
    "- 반대의 경우 통상적으로 \"odds against are 3:1\" 이라고 표기\n",
    "- 역으로 공산을 확률로 변경할 때에는 다음과 같이 설명 가능\n",
    "```python\n",
    "def  Probability(o):\n",
    "    return o / (1+o)\n",
    "```"
   ]
  },
  {
   "cell_type": "markdown",
   "metadata": {},
   "source": [
    "___\n",
    "## 2. 베이즈 이론의 공산 형태\n",
    "\n",
    "- 베이즈 이론은 아래와 같은 확률 형태로 표기 가능\n",
    "$$\n",
    "p(H\\ |\\ D) = \\frac{p(H)\\ p(D\\ |\\ H)}{p(D)}\n",
    "$$\n",
    "<br>\n",
    "- $A$와 $B$ 라는 상호 배제적인 가설이 있을 때 사후 확률 비는 아래와 같이 표기 가능\n",
    "$$\n",
    "\\frac{p(A\\ |\\ D)}{p(B\\ |\\ D)} = \\frac{p(A)\\ p(D\\ |\\ A)}{p(B)\\ p(D\\ |\\ B)}\n",
    "$$\n",
    "<br>\n",
    "- 위 사후 공산식($o(A\\ |\\ D)$)을 정리하면 아래와 같이 표기 가능\n",
    "$$\n",
    "o(A) = \\frac{p(A)}{p(1-A)}\\\\\n",
    "o(A\\ |\\ D) = o(A)\\frac{p(D\\ |\\ A)}{p(D\\ |\\ (1-A))}\n",
    "$$\n",
    "- 즉 사후공산은 **사전공산($o(A)$)**과 **우도비($\\frac{p(D\\ |\\ A)}{p(D\\ |\\ (1-A)}$)**의 곱으로 표기 가능\n",
    "- 위 계산을 쿠키 문제에 대입하면 다음과 같음\n",
    "> 쿠키 그릇 1에는30개의 바닐라 쿠키와 10개의 초콜렛 쿠키가 있고, 그릇 2에는 각각 20개씩 있음  \n",
    "> ```{'Bowl 1': {'vanila': 0.75, 'chocolate': 0.25}, 'Bowl 2': {'vanila': 0.5, 'chocolate':0.5}} ```  \n",
    "> 우도비 $\\frac{p(D\\ |\\ A)}{p(D\\ |\\ (1-A)} = \\frac{3/4}{1/2} = 1.5$  \n",
    ">  \n",
    "> 랜덤으로 쿠키 1개를 골랐을 때  쿠키를 그릇 1에서 골랐을 확률은?  \n",
    "> 사전공산 $o(A) = 0.5 / (1-0.5) = 1$\n",
    ">  \n",
    "> 사후공산 $o(A\\ |\\ D)$는 $3:2$, 사후 확률 $p(A\\ |\\ D)$는 $3/5$로 정리 가능"
   ]
  },
  {
   "cell_type": "markdown",
   "metadata": {},
   "source": [
    "___\n",
    "## 3. 올리버의 혈액형"
   ]
  },
  {
   "cell_type": "markdown",
   "metadata": {},
   "source": [
    ">-  범죄현장에서 O형과 AB형 혈흔이 발견됨\n",
    ">- O형은 인구의 60% 빈도로, AB형은 인구의 1%빈도로 나타남\n",
    ">- 용의자 올리버의 혈액형은 O형\n",
    ">- 위 데이터가 올리버가 법인 중 한명이라는 질문의 증거가 될 수 있을까?"
   ]
  },
  {
   "cell_type": "markdown",
   "metadata": {},
   "source": [
    "- 쿠키 문제에서 사전 공산은 1:1, 확률은 50%, 사후 공산은 3:2, 확률은 60%임\n",
    "- 따라서, 바닐라 쿠키는 그릇 1에서 나온 가설에 대한 증거라고 할 수 있음\n",
    "- $\\frac{o(A\\ |\\ D)}{o(A)} = \\frac{p(D\\ |\\ A)}{p(D\\ |\\ B}$ 를 **베이즈 요인(Bayes facter)** 라고 함\n",
    "- 사후공산과 사전 공산의 비, 혹은 우도비로 베이즈요인이 1보다 크면, 데이터는 A가정에 더 가깝다고 해석할 수 있음"
   ]
  },
  {
   "cell_type": "markdown",
   "metadata": {},
   "source": [
    ">- 올리버가 범인일 시 데이터의 확률은 임의의 'AB'형 혈액을 가진 사람의 확률과 동일 $= 0.01$\n",
    ">- 올리버가 범인이 아닐 시, 데이터의 확률은 2개의 샘플에서 각각 한명이 'O'형이고 한명이 'AB일 확률과 동일 $2 * (0.6)*(0.01) = 0.012$\n",
    ">- 후자의 우도가 더 높으므로, 데이터는 범인다는 가설에 반증이 될 수 있음"
   ]
  },
  {
   "cell_type": "markdown",
   "metadata": {},
   "source": [
    "___\n",
    "## 4. 가산\n",
    "- 베이지안 통계의 기본 연산은 Update에서 사전분포와 데이터를 가지고 사후 분포를 생성하는 것임\n",
    "- 다만, 실제 문제에서는 정규화 덧셈, 최대값 등 다양한 수치 연산을 포함\n",
    "- 본 페이지에서는 덧셈과 최대값에 대하여 설명"
   ]
  },
  {
   "cell_type": "markdown",
   "metadata": {},
   "source": [
    ">- *던전 앤 드래곤*에서는 게임 시작 전 6면체 주사위 3개를 굴린 후 이 값으로 캐릭터의 속성값을 결정\n",
    ">- 이때 3개의 주사위의 합의 분포는?"
   ]
  },
  {
   "cell_type": "markdown",
   "metadata": {},
   "source": [
    "- 이를 계산할 수 있는 방법은 두가지가 있음  \n",
    "    **1. 시뮬레이션**  \n",
    "    하나의 Pmf가 주어졌을 때 이를 사용해서 랜덤 샘플을 만들어서 분포를 구함  \n",
    "    **2. 나열**  \n",
    "    모든 경우의 수를 나열하고 이 합의 분포를 구함"
   ]
  },
  {
   "cell_type": "code",
   "execution_count": 2,
   "metadata": {},
   "outputs": [],
   "source": [
    "class Die(thinkbayes.Pmf):\n",
    "    def __init__(self, sides):\n",
    "        thinkbayes.Pmf.__init__(self)\n",
    "        for x in range(1, sides+1):\n",
    "            self.Set(x, 1)\n",
    "        self. Normalize()"
   ]
  },
  {
   "cell_type": "code",
   "execution_count": 3,
   "metadata": {},
   "outputs": [],
   "source": [
    "d6 = Die(6)"
   ]
  },
  {
   "cell_type": "code",
   "execution_count": 4,
   "metadata": {},
   "outputs": [
    {
     "data": {
      "text/plain": [
       "[<__main__.Die at 0x2117f0c78d0>,\n",
       " <__main__.Die at 0x2117f0c78d0>,\n",
       " <__main__.Die at 0x2117f0c78d0>]"
      ]
     },
     "execution_count": 4,
     "metadata": {},
     "output_type": "execute_result"
    }
   ],
   "source": [
    "dice = [d6]*3\n",
    "dice"
   ]
  },
  {
   "cell_type": "markdown",
   "metadata": {},
   "source": [
    "#### 1. 시뮬레이션\n",
    "- ```SampleSum```은 분포 리스트와 샘플 크기 n을 사용\n",
    "```python\n",
    "def SampleSum(dists, n):\n",
    "    pmf = MakePmfFromList(RandomSum(dists) for i in range(n))\n",
    "    return pmf\n",
    "```\n",
    "- ```SampleSum```은 ```RandomSum```을 사용\n",
    "```python\n",
    "def RandomSum(dists):\n",
    "    total = sum(dist.Random() for dist in dists)\n",
    "    return total\n",
    "```\n",
    "- n개의 시뮬레이션 값을 생성한 후 이 분포를 Pmf 객체로 반환\n",
    "- 시뮬레이션의 문제점은 결과가 근사값을 보여줄 뿐 정확하지는 않음"
   ]
  },
  {
   "cell_type": "code",
   "execution_count": 5,
   "metadata": {
    "scrolled": true
   },
   "outputs": [
    {
     "data": {
      "text/plain": [
       "{3: 0.004,\n",
       " 4: 0.014,\n",
       " 5: 0.023,\n",
       " 6: 0.049,\n",
       " 7: 0.07200000000000001,\n",
       " 8: 0.096,\n",
       " 9: 0.10400000000000001,\n",
       " 10: 0.121,\n",
       " 11: 0.11800000000000001,\n",
       " 12: 0.14,\n",
       " 13: 0.093,\n",
       " 14: 0.078,\n",
       " 15: 0.044,\n",
       " 16: 0.032,\n",
       " 17: 0.008,\n",
       " 18: 0.004}"
      ]
     },
     "execution_count": 5,
     "metadata": {},
     "output_type": "execute_result"
    }
   ],
   "source": [
    "three = thinkbayes.SampleSum(dice, 1000)\n",
    "three.d"
   ]
  },
  {
   "cell_type": "markdown",
   "metadata": {},
   "source": [
    "#### 2. 나열\n",
    "- 모든 값의 쌍을 나열하고 각 쌍의 확률을 계산하는 방법은 `Pmf.__add__`에 구현\n",
    "```python\n",
    "# class Pmf\n",
    "    def __add__(self, other):\n",
    "    for v1, p1 in self.Items():\n",
    "        for v2, p2 in other.Items():\n",
    "            pmf.Incr(v1+v2, p1*p2)\n",
    "    return pmf\n",
    "```\n",
    "- 함수를 사용하는 방식은 단순히 pmf 객체를 더하여 사용"
   ]
  },
  {
   "cell_type": "code",
   "execution_count": 6,
   "metadata": {},
   "outputs": [
    {
     "data": {
      "text/plain": [
       "{3: 0.004629629629629629,\n",
       " 4: 0.013888888888888888,\n",
       " 5: 0.027777777777777776,\n",
       " 6: 0.046296296296296294,\n",
       " 7: 0.06944444444444445,\n",
       " 8: 0.09722222222222222,\n",
       " 9: 0.11574074074074073,\n",
       " 10: 0.125,\n",
       " 11: 0.125,\n",
       " 12: 0.11574074074074074,\n",
       " 13: 0.09722222222222224,\n",
       " 14: 0.06944444444444445,\n",
       " 15: 0.046296296296296294,\n",
       " 16: 0.027777777777777776,\n",
       " 17: 0.013888888888888888,\n",
       " 18: 0.004629629629629629}"
      ]
     },
     "execution_count": 6,
     "metadata": {},
     "output_type": "execute_result"
    }
   ],
   "source": [
    "three_exact = d6 + d6 + d6\n",
    "three_exact.d"
   ]
  },
  {
   "cell_type": "code",
   "execution_count": 7,
   "metadata": {
    "scrolled": false
   },
   "outputs": [
    {
     "data": {
      "text/plain": [
       "Text(0.5,1,'approximation and real pmf for three 6-side dice roll\\n')"
      ]
     },
     "execution_count": 7,
     "metadata": {},
     "output_type": "execute_result"
    },
    {
     "data": {
      "image/png": "[encoded data removed]",
      "text/plain": [
       "<matplotlib.figure.Figure at 0x21179116198>"
      ]
     },
     "metadata": {},
     "output_type": "display_data"
    }
   ],
   "source": [
    "pd.Series(three_exact.d, index = three_exact.d.keys()).plot(ls = '-.', label = 'Real pmf')\n",
    "pd.Series(three.d, index = three.d.keys()).sort_index().plot(ls = ':', label = 'Simulated pmf')\n",
    "plt.legend()\n",
    "plt.title('approximation and real pmf for three 6-side dice roll\\n')"
   ]
  },
  {
   "cell_type": "markdown",
   "metadata": {},
   "source": [
    "- 단, `Pmf.__add__`는 각 Pmf로부터 랜덤섬택이 독립적이라는 가정하에서 만들어짐"
   ]
  },
  {
   "cell_type": "markdown",
   "metadata": {},
   "source": [
    "___\n",
    "## 5. 최대값"
   ]
  },
  {
   "cell_type": "markdown",
   "metadata": {},
   "source": [
    "- 케릭터 생성에 있어서는 최고 속성이 중요함\n",
    "- 따라서 속성의 최대값 분포만 따로 확인\n",
    "- 이를 계산하는 방법은 세가지가 있음  \n",
    "    **1. 시뮬레이션**  \n",
    "    Pmf를 사용한 랜덤 샘플링을 통해 최대값 분포 누적  \n",
    "    **2. 나열**  \n",
    "    모든 경우의 수를 나열하여 최대값을 분포 계산  \n",
    "    **3. 멱법(Exponentiation)**  \n",
    "    Pmf를 Cdf로 바꿀 때 최대값에서 Cdf를 구하는 알고리즘 사용"
   ]
  },
  {
   "cell_type": "markdown",
   "metadata": {},
   "source": [
    "#### 1. 시뮬레이션\n",
    "- 최대값을 시뮬레이션하는 코드는 합을 시뮬레이션하는 코드와 거의 동일\n",
    "```python\n",
    "def RandomMax(dists):\n",
    "    total = max(dist.Random() for dist in dists)\n",
    "    return total\n",
    "def SampleMax(dists, n):\n",
    "    pmf = MakePmfFromList(RandomMax(dists) for i in range(n))\n",
    "    return pmf\n",
    "```"
   ]
  },
  {
   "cell_type": "markdown",
   "metadata": {},
   "source": [
    "#### 2. 나열\n",
    "- 나열 역시 마찬가지로 for문 안의 첫번째 변수값만 조정해 주면 됨\n",
    "```python\n",
    "def PmfMax(pmf1, pmf2):\n",
    "  res = thinkbayes.Pmf()\n",
    "  for v1, p1 in pmf1.Items():\n",
    "      for v2, p2 in pmf2.Items():\n",
    "          res.Incr(max(v1, v2), p1*p2)\n",
    "  return res\n",
    "```\n",
    "- 다만, 위 함수는 실행 시간이 Pmf가 m개의 값을 가질 때 실행시간이 $m^2$에 비례함\n",
    "- 만약 $k$개중 최대값을 찾으려한다면 $km^2$만큼의 시간 소요"
   ]
  },
  {
   "cell_type": "markdown",
   "metadata": {},
   "source": [
    "#### 3. 멱법(exponentiation)\n",
    "- Pmf를 Cdf로 변경하면 동일한 계산을 훨씬 빠르게 가능  \n",
    "    $CDF(x) = p(X \\le x)$\n",
    "    \n",
    "    \n",
    "- 이때, $CDF_1(X)$, $CDF_2(Y)$, Z=max(X,Y)일 때 Z가 5 이하인 경우는 다음 식이 성립함 (X,Y 독립시)  \n",
    "    $CDF_3(Z) = CDF_1(X)CDF_2(Y)$  \n",
    "    \n",
    "    \n",
    "- 만일 CDF의 분포가 같다면, 다음과 같은 식이 성립  \n",
    "    $CDF_k(Z) = CDF_1(Z)^k$\n"
   ]
  },
  {
   "cell_type": "markdown",
   "metadata": {},
   "source": [
    "- thinkbayes의 Cdf 클래스는 위의 기능을 아래와 같이 구현\n",
    "```python\n",
    "#class Cdf\n",
    "    def Max(self, k):\n",
    "        cdf = self.Copy()\n",
    "        cdf.ps = [p*k for p in cdf.ps]\n",
    "        return cdf\n",
    "```\n",
    "- `Pmf.Max()`도 유사한 기능을 수행하나 Pmf에서 Cdf로 변환하는 추가작업 시간이 필요\n",
    "- 이하 캐릭터의 최고 속성값의 분포를 계산하는 예"
   ]
  },
  {
   "cell_type": "code",
   "execution_count": 8,
   "metadata": {},
   "outputs": [
    {
     "data": {
      "text/plain": [
       "<matplotlib.axes._subplots.AxesSubplot at 0x2117f415da0>"
      ]
     },
     "execution_count": 8,
     "metadata": {},
     "output_type": "execute_result"
    },
    {
     "data": {
      "image/png": "[encoded data removed]",
      "text/plain": [
       "<matplotlib.figure.Figure at 0x2117f473908>"
      ]
     },
     "metadata": {},
     "output_type": "display_data"
    }
   ],
   "source": [
    "## Pmf를 Cdf로 전환하여 최대값의 분포 계산\n",
    "best_attr_cdf = three_exact.Max(6)\n",
    "pd.Series(best_attr_cdf.ps, index = range(3,19)).plot()"
   ]
  },
  {
   "cell_type": "code",
   "execution_count": 9,
   "metadata": {},
   "outputs": [
    {
     "data": {
      "text/plain": [
       "Text(0.5,1,'distribution of maximum value from 6 3-rice rolls\\n ')"
      ]
     },
     "execution_count": 9,
     "metadata": {},
     "output_type": "execute_result"
    },
    {
     "data": {
      "image/png": "[encoded data removed]",
      "text/plain": [
       "<matplotlib.figure.Figure at 0x2117f0c7f28>"
      ]
     },
     "metadata": {},
     "output_type": "display_data"
    }
   ],
   "source": [
    "## Cdf를 Pmf로 재전환\n",
    "best_attr_pmf = best_attr_cdf.MakePmf()\n",
    "pd.Series(best_attr_pmf.d, index = range(3, 19)).plot()\n",
    "plt.title('distribution of maximum value from 6 3-rice rolls\\n ')"
   ]
  },
  {
   "cell_type": "code",
   "execution_count": 10,
   "metadata": {},
   "outputs": [
    {
     "data": {
      "text/plain": [
       "0.027458253422613543"
      ]
     },
     "execution_count": 10,
     "metadata": {},
     "output_type": "execute_result"
    }
   ],
   "source": [
    "best_attr_pmf.d[18]"
   ]
  },
  {
   "cell_type": "code",
   "execution_count": 11,
   "metadata": {},
   "outputs": [
    {
     "data": {
      "text/plain": [
       "0.004629629629629629"
      ]
     },
     "execution_count": 11,
     "metadata": {},
     "output_type": "execute_result"
    }
   ],
   "source": [
    "three_exact.d[18]"
   ]
  },
  {
   "cell_type": "markdown",
   "metadata": {},
   "source": [
    "- 주사위를 3개 던졌을 때 최대값이 나올 확률은 0.4%\n",
    "- 주사위를 3개 던지는 활동을 6번(속성 수) 할 때 적어도 한번 최대값이 나올 확률은 2.7%"
   ]
  },
  {
   "cell_type": "markdown",
   "metadata": {},
   "source": [
    "___\n",
    "## 6. 혼합"
   ]
  },
  {
   "cell_type": "markdown",
   "metadata": {},
   "source": [
    "- 주사위의 종류가 다양한 경우 결과 값의 분포 역시 당연히 달라짐\n",
    "> #### [4면체(5개), 6면체(4개), 8면체(3개), 12면체(2개), 20면체(1개)] 총5개의 주사위 중 하나를 골라서 굴리는 경우의 분포"
   ]
  },
  {
   "cell_type": "markdown",
   "metadata": {},
   "source": [
    "- 어떤 주사위라 굴려진지 모르기 때문에 결과 분포는 서로 다른 범위의 균등분포의 혼합 형태로 나타남\n",
    "- 이는 단순한 수학적 모델로 설명할 순 없지만, Pmf 형태로 분포를 계산할 수 있음"
   ]
  },
  {
   "cell_type": "markdown",
   "metadata": {},
   "source": [
    "- 6면체와 8면체 두개의 주사위만 있는 간단한 버전의 문제로 시작"
   ]
  },
  {
   "cell_type": "code",
   "execution_count": 12,
   "metadata": {},
   "outputs": [],
   "source": [
    "d6 = Die(6)\n",
    "d8 = Die(8)"
   ]
  },
  {
   "cell_type": "markdown",
   "metadata": {},
   "source": [
    "- 혼합 형태를 나타내는 Pmf 생성\n",
    "- 2중 반복문을 사용하여 첫번째 반복에서 주사위를 나열하고, 두번째 반복에서 결과와 확률을 나열\n",
    "- 두번째 반복에서 Incr 메서드로 분포의 결과를 합산"
   ]
  },
  {
   "cell_type": "code",
   "execution_count": 13,
   "metadata": {},
   "outputs": [
    {
     "data": {
      "text/plain": [
       "{1: 0.14583333333333334,\n",
       " 2: 0.14583333333333334,\n",
       " 3: 0.14583333333333334,\n",
       " 4: 0.14583333333333334,\n",
       " 5: 0.14583333333333334,\n",
       " 6: 0.14583333333333334,\n",
       " 7: 0.06250000000000001,\n",
       " 8: 0.06250000000000001}"
      ]
     },
     "execution_count": 13,
     "metadata": {},
     "output_type": "execute_result"
    }
   ],
   "source": [
    "mix = thinkbayes.Pmf()\n",
    "for die in [d6, d8]:\n",
    "    for outcome, prob in die.Items():\n",
    "        mix.Incr(outcome, prob)\n",
    "mix.Normalize()\n",
    "mix.d"
   ]
  },
  {
   "cell_type": "code",
   "execution_count": 14,
   "metadata": {},
   "outputs": [
    {
     "data": {
      "text/plain": [
       "Text(0.5,1,'Pmf of dice-roll[6,8]\\n')"
      ]
     },
     "execution_count": 14,
     "metadata": {},
     "output_type": "execute_result"
    },
    {
     "data": {
      "image/png": "[encoded data removed]",
      "text/plain": [
       "<matplotlib.figure.Figure at 0x2117f59ed68>"
      ]
     },
     "metadata": {},
     "output_type": "display_data"
    }
   ],
   "source": [
    "plt.bar(x = list(mix.d.keys()), height = pd.Series(mix.d))\n",
    "plt.title('Pmf of dice-roll[6,8]\\n')"
   ]
  },
  {
   "cell_type": "markdown",
   "metadata": {},
   "source": [
    "- 위 예제와는 다르게 실제 문제에서는 각 주사위의 확률이 동일하지 않음\n",
    "- 각 결과에 가중치를 부여하여 주사위의 선택 확률 보정"
   ]
  },
  {
   "cell_type": "code",
   "execution_count": 35,
   "metadata": {},
   "outputs": [
    {
     "data": {
      "text/plain": [
       "{1: 0.1672222222222222,\n",
       " 2: 0.1672222222222222,\n",
       " 3: 0.1672222222222222,\n",
       " 4: 0.1672222222222222,\n",
       " 5: 0.08388888888888883,\n",
       " 6: 0.08388888888888883,\n",
       " 7: 0.03944444444444443,\n",
       " 8: 0.03944444444444443,\n",
       " 9: 0.014444444444444439,\n",
       " 10: 0.014444444444444439,\n",
       " 11: 0.014444444444444439,\n",
       " 12: 0.014444444444444439,\n",
       " 13: 0.0033333333333333322,\n",
       " 14: 0.0033333333333333322,\n",
       " 15: 0.0033333333333333322,\n",
       " 16: 0.0033333333333333322,\n",
       " 17: 0.0033333333333333322,\n",
       " 18: 0.0033333333333333322,\n",
       " 19: 0.0033333333333333322,\n",
       " 20: 0.0033333333333333322}"
      ]
     },
     "execution_count": 35,
     "metadata": {},
     "output_type": "execute_result"
    }
   ],
   "source": [
    "pmf_dice = thinkbayes.Pmf()\n",
    "for i, j  in [(4,5), (6,4), (8,3), (12,2), (20,1)]:    #### i = 면체, j = 가중치(갯수)\n",
    "    for outcome, prob in Die(i).Items():\n",
    "        for k in range(j):\n",
    "            pmf_dice.Incr(outcome, prob)\n",
    "pmf_dice.Normalize()\n",
    "pmf_dice.d"
   ]
  },
  {
   "cell_type": "code",
   "execution_count": 36,
   "metadata": {},
   "outputs": [
    {
     "data": {
      "text/plain": [
       "Text(0.5,1,'Pmf of dice-roll[6,8] with weight\\n')"
      ]
     },
     "execution_count": 36,
     "metadata": {},
     "output_type": "execute_result"
    },
    {
     "data": {
      "image/png": "[encoded data removed]",
      "text/plain": [
       "<matplotlib.figure.Figure at 0x2117f729ba8>"
      ]
     },
     "metadata": {},
     "output_type": "display_data"
    }
   ],
   "source": [
    "plt.bar(x = list(pmf_dice.d.keys()), height = pd.Series(pmf_dice.d))\n",
    "plt.title('Pmf of dice-roll[6,8] with weight\\n')"
   ]
  },
  {
   "cell_type": "markdown",
   "metadata": {},
   "source": [
    "- 모든 주사위에서 값이 나올 수 있는 1~4는 가장 높은 확률을 보임 16.7%\n",
    "- 주사위 1개에서만 나올 수 있는 12 이상의 값은 거의 나올 확률이 없음 0.3%"
   ]
  }
 ],
 "metadata": {
  "kernelspec": {
   "display_name": "Python 3",
   "language": "python",
   "name": "python3"
  },
  "language_info": {
   "codemirror_mode": {
    "name": "ipython",
    "version": 3
   },
   "file_extension": ".py",
   "mimetype": "text/x-python",
   "name": "python",
   "nbconvert_exporter": "python",
   "pygments_lexer": "ipython3",
   "version": "3.6.4"
  }
 },
 "nbformat": 4,
 "nbformat_minor": 2
}
