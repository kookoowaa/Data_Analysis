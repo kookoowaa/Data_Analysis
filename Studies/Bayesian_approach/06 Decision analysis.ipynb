{
 "cells": [
  {
   "cell_type": "code",
   "execution_count": 6,
   "metadata": {},
   "outputs": [
    {
     "name": "stdout",
     "output_type": "stream",
     "text": [
      "Populating the interactive namespace from numpy and matplotlib\n"
     ]
    }
   ],
   "source": [
    "import thinkbayes\n",
    "from thinkbayes import Pmf\n",
    "from thinkbayes import Suite\n",
    "import pandas as pd\n",
    "import seaborn as sns\n",
    "\n",
    "%pylab inline\n",
    "pylab.rcParams['figure.figsize'] = (16, 8)"
   ]
  },
  {
   "cell_type": "markdown",
   "metadata": {},
   "source": [
    "# 의사 결정 분석\n",
    "___\n",
    "## 1. '$The\\ Price\\ is\\ Right$*(그 가격이 적당해요)*' 문제"
   ]
  },
  {
   "cell_type": "markdown",
   "metadata": {},
   "source": [
    ">- A와 B가 진열대 위 물건의 가격을 맞추는 게임에 참가\n",
    ">- 진열대 가격을 넘기 않는 한도 내에서 가장 가까운 가격을 부르는 사람이 승리\n",
    ">- A는 \\$26,000을 예상하였고 실제 가격은 \\$25,347\n",
    ">- B는 \\$21,500을 예상하였고 실제 가격은 \\$21,578\n",
    ">- B는 -\\$78 차이로 승리했을 뿐 아니라 예상가와 금액차이가 \\$250 보다 작아 A의 진열대 물건까지 확보(게임룰)"
   ]
  },
  {
   "cell_type": "markdown",
   "metadata": {},
   "source": [
    "- 베이지안 사고 방식을 갖고 있는 사람들에게, 위 시나리오는 다음 3가지 질문을 던짐\n",
    "> 1. 결과를 보기 전에, 진열대 가격에 대한 사전분포를 얼마나 믿고 있었을까?\n",
    "> 2. 결과 확인 후 가격에 대한 믿음의 사후분포가 바뀌었을까?\n",
    "> 3. 사후분포에 따르면 참가자는 얼마를 부르는 것이 유리한가?"
   ]
  },
  {
   "cell_type": "markdown",
   "metadata": {},
   "source": [
    "___\n",
    "## 2. 사전 분포"
   ]
  },
  {
   "cell_type": "markdown",
   "metadata": {},
   "source": [
    "- '$The\\ Price\\ is\\ Right$'의 [2011년](http://thinkbayes.com/showcases.2011.csv), [2012년](http://thinkbayes.com/showcases.2012.csv) 시즌 별 각 회차의 금액과 참가자들의 예상가는 링크 에서 확인 가능\n",
    "- KDE로 다듬어진 분포는 아래 그래프에서 확인 가능"
   ]
  },
  {
   "cell_type": "code",
   "execution_count": 2,
   "metadata": {},
   "outputs": [],
   "source": [
    "biddings = pd.merge(pd.read_csv('data/showcases.2011.csv')[2:10],pd.read_csv('data/showcases.2012.csv')[1:9], on = 'Unnamed: 0')\n",
    "biddings.index = biddings['Unnamed: 0']\n",
    "biddings.index.name = ''\n",
    "biddings = biddings.iloc[:,1:]\n",
    "biddings = biddings.iloc[[0,1,6,7,8,9],:]\n",
    "biddings = biddings.astype(int)\n",
    "biddings = biddings.T"
   ]
  },
  {
   "cell_type": "code",
   "execution_count": 3,
   "metadata": {
    "scrolled": false
   },
   "outputs": [
    {
     "data": {
      "text/plain": [
       "Text(0,0.5,'PDF')"
      ]
     },
     "execution_count": 3,
     "metadata": {},
     "output_type": "execute_result"
    },
    {
     "data": {
      "image/png": "[encoded data removed]",
      "text/plain": [
       "<matplotlib.figure.Figure at 0x20f39b99400>"
      ]
     },
     "metadata": {},
     "output_type": "display_data"
    }
   ],
   "source": [
    "sns.set_style('white')\n",
    "sns.distplot(biddings['Showcase 1'], label = 'Showcase 1', hist = False)\n",
    "sns.distplot(biddings['Showcase 2'], label = 'Showcase 2', hist = False)\n",
    "plt.legend()\n",
    "plt.title(\"PDF of 'The Price is Right'\\n\")\n",
    "plt.xlabel(\"Price($)\")\n",
    "plt.ylabel('PDF')\n",
    "#plt.set(xlabel= 'Price($)', ylabel = 'PDF')"
   ]
  },
  {
   "cell_type": "markdown",
   "metadata": {},
   "source": [
    "___\n",
    "## 3. 확률 밀도 함수 (PDF)"
   ]
  },
  {
   "cell_type": "markdown",
   "metadata": {},
   "source": [
    "- 그동안은 이산형 밀도 함수인 PMF를 다뤄왔고, 각 Pmf object별로 확률값을 반환함\n",
    "- **연속확률함수(PDF)**은 연속형 PMF로 보통 함수 형식으로 표시함\n",
    "- 다음은 평균이 0이고 표준편차가 1인 가우시간 분포의 PDF를 나타낸 것 $N(0, 1)$\n",
    "$$\n",
    "f(x) = \\frac{1}{\\sqrt{2\\pi}}exp(-x^2/2)\n",
    "$$"
   ]
  },
  {
   "cell_type": "markdown",
   "metadata": {},
   "source": [
    "- 위 함수는 주어진 $x$에 대한 확률 밀도를 계산\n",
    "- PDF는 값이 클수록 근사값에 가까워지지만, 0부터 무한대까지 값을 가질 수 있어 확률로 볼 수는 없음\n",
    "- 다만 이를 연속적 범위로 적분한다면 확률로 반환은 가능"
   ]
  },
  {
   "cell_type": "markdown",
   "metadata": {},
   "source": [
    "___\n",
    "## 4. PDF 나타내기"
   ]
  },
  {
   "cell_type": "markdown",
   "metadata": {},
   "source": [
    "- thinkbayes는 `Pdf`라는 클래스를 통해 **추상형** 인터페이스 구축\n",
    "- `Pdf` 인터페이스는 `Density`와 `MakePmf` 두가지 방법을 포함\n",
    "```python\n",
    "class Pdf(object):\n",
    "    \n",
    "    def Density(self, x):\n",
    "        raise UnimplmentedMethodException()\n",
    "    \n",
    "    def MakePmf(self, xs):\n",
    "        pmf = Pmf()\n",
    "        for  x  in xs:\n",
    "            pmf.Set(x, self.Density(x))\n",
    "        pmf.Normalize()\n",
    "        return pmf\n",
    "```"
   ]
  },
  {
   "cell_type": "markdown",
   "metadata": {},
   "source": [
    "- `Density`는 값 x를 받아서 이에 해당하는 확률 밀도를 반환\n",
    "- `MakePmf`는 PDF의 이산형 추정값을 반환"
   ]
  },
  {
   "cell_type": "markdown",
   "metadata": {},
   "source": [
    "- 가우시안 PDF 같은 경우는 간단한 수학 함수로 정의되어 구현하기도 쉬움 (실생활에서 빈번하게 나타나기도 함)\n",
    "- 하지만 실제 데이터의 분포를 다른 함수로 나타낼 수 있다는 보장은 없으며, **전체 PDF를 추정하기 위해 샘플을 사용**\n",
    "- $The\\ Price\\ is\\ Right$ 예제에서는 1회차에 대해 313개의 데이터가 있으며, 순서대로 나열할 시 아래같이 나타남"
   ]
  },
  {
   "cell_type": "code",
   "execution_count": 4,
   "metadata": {},
   "outputs": [
    {
     "data": {
      "text/html": [
       "<div>\n",
       "<style scoped>\n",
       "    .dataframe tbody tr th:only-of-type {\n",
       "        vertical-align: middle;\n",
       "    }\n",
       "\n",
       "    .dataframe tbody tr th {\n",
       "        vertical-align: top;\n",
       "    }\n",
       "\n",
       "    .dataframe thead th {\n",
       "        text-align: right;\n",
       "    }\n",
       "</style>\n",
       "<table border=\"1\" class=\"dataframe\">\n",
       "  <thead>\n",
       "    <tr style=\"text-align: right;\">\n",
       "      <th></th>\n",
       "      <th>Showcase 1</th>\n",
       "      <th>Showcase 2</th>\n",
       "      <th>Bid 1</th>\n",
       "      <th>Bid 2</th>\n",
       "      <th>Difference 1</th>\n",
       "      <th>Difference 2</th>\n",
       "    </tr>\n",
       "  </thead>\n",
       "  <tbody>\n",
       "    <tr>\n",
       "      <th>Jan. 13</th>\n",
       "      <td>19563</td>\n",
       "      <td>33551</td>\n",
       "      <td>28500</td>\n",
       "      <td>30000</td>\n",
       "      <td>-8937</td>\n",
       "      <td>3551</td>\n",
       "    </tr>\n",
       "    <tr>\n",
       "      <th>Dec. 23</th>\n",
       "      <td>19612</td>\n",
       "      <td>23084</td>\n",
       "      <td>17500</td>\n",
       "      <td>21000</td>\n",
       "      <td>2112</td>\n",
       "      <td>2084</td>\n",
       "    </tr>\n",
       "    <tr>\n",
       "      <th>Apr. 17</th>\n",
       "      <td>20408</td>\n",
       "      <td>34453</td>\n",
       "      <td>18200</td>\n",
       "      <td>36100</td>\n",
       "      <td>2208</td>\n",
       "      <td>-1647</td>\n",
       "    </tr>\n",
       "    <tr>\n",
       "      <th>Mar. 20_x</th>\n",
       "      <td>20418</td>\n",
       "      <td>25541</td>\n",
       "      <td>24622</td>\n",
       "      <td>23000</td>\n",
       "      <td>-4204</td>\n",
       "      <td>2541</td>\n",
       "    </tr>\n",
       "    <tr>\n",
       "      <th>Jan. 16_x</th>\n",
       "      <td>20418</td>\n",
       "      <td>29524</td>\n",
       "      <td>22000</td>\n",
       "      <td>22750</td>\n",
       "      <td>-1582</td>\n",
       "      <td>6774</td>\n",
       "    </tr>\n",
       "  </tbody>\n",
       "</table>\n",
       "</div>"
      ],
      "text/plain": [
       "           Showcase 1  Showcase 2  Bid 1  Bid 2  Difference 1  Difference 2\n",
       "Jan. 13         19563       33551  28500  30000         -8937          3551\n",
       "Dec. 23         19612       23084  17500  21000          2112          2084\n",
       "Apr. 17         20408       34453  18200  36100          2208         -1647\n",
       "Mar. 20_x       20418       25541  24622  23000         -4204          2541\n",
       "Jan. 16_x       20418       29524  22000  22750         -1582          6774"
      ]
     },
     "execution_count": 4,
     "metadata": {},
     "output_type": "execute_result"
    }
   ],
   "source": [
    "biddings.sort_values('Showcase 1').head()"
   ]
  },
  {
   "cell_type": "markdown",
   "metadata": {},
   "source": [
    "- 이 경우 `[19563, 19612, 20408, 20418, 20418]`의 관측값이 있으며, 19564가 관측되지 않았다고 해서 나올 일이 없다고 판단내릴 근거가 없음\n",
    "- 배경 지식을 기반으로 범위 내 값일 가능성이 있는 모든 값을 예상해야 하며, 이는 곧 **PDF 곡선을 부드럽게 유추하는 과정**으로 볼 수 있음\n",
    "- **KDE(커널 밀도 추정)**은 샘플로 데이터에 적합한 추정PDF를 찾아내는 것임"
   ]
  },
  {
   "cell_type": "code",
   "execution_count": 5,
   "metadata": {},
   "outputs": [
    {
     "data": {
      "text/html": [
       "<div>\n",
       "<style scoped>\n",
       "    .dataframe tbody tr th:only-of-type {\n",
       "        vertical-align: middle;\n",
       "    }\n",
       "\n",
       "    .dataframe tbody tr th {\n",
       "        vertical-align: top;\n",
       "    }\n",
       "\n",
       "    .dataframe thead th {\n",
       "        text-align: right;\n",
       "    }\n",
       "</style>\n",
       "<table border=\"1\" class=\"dataframe\">\n",
       "  <thead>\n",
       "    <tr style=\"text-align: right;\">\n",
       "      <th></th>\n",
       "      <th>Showcase 1</th>\n",
       "      <th>Showcase 2</th>\n",
       "    </tr>\n",
       "    <tr>\n",
       "      <th></th>\n",
       "      <th></th>\n",
       "      <th></th>\n",
       "    </tr>\n",
       "  </thead>\n",
       "  <tbody>\n",
       "    <tr>\n",
       "      <th>0.0</th>\n",
       "      <td>5.313183e-20</td>\n",
       "      <td>5.313183e-20</td>\n",
       "    </tr>\n",
       "    <tr>\n",
       "      <th>750.0</th>\n",
       "      <td>8.964307e-19</td>\n",
       "      <td>8.964307e-19</td>\n",
       "    </tr>\n",
       "    <tr>\n",
       "      <th>1500.0</th>\n",
       "      <td>1.358400e-17</td>\n",
       "      <td>1.358400e-17</td>\n",
       "    </tr>\n",
       "    <tr>\n",
       "      <th>2250.0</th>\n",
       "      <td>1.849389e-16</td>\n",
       "      <td>1.849389e-16</td>\n",
       "    </tr>\n",
       "    <tr>\n",
       "      <th>3000.0</th>\n",
       "      <td>2.262964e-15</td>\n",
       "      <td>2.262964e-15</td>\n",
       "    </tr>\n",
       "  </tbody>\n",
       "</table>\n",
       "</div>"
      ],
      "text/plain": [
       "          Showcase 1    Showcase 2\n",
       "                                  \n",
       "0.0     5.313183e-20  5.313183e-20\n",
       "750.0   8.964307e-19  8.964307e-19\n",
       "1500.0  1.358400e-17  1.358400e-17\n",
       "2250.0  1.849389e-16  1.849389e-16\n",
       "3000.0  2.262964e-15  2.262964e-15"
      ]
     },
     "execution_count": 5,
     "metadata": {},
     "output_type": "execute_result"
    }
   ],
   "source": [
    "price = biddings[['Showcase 1', 'Showcase 2']]\n",
    "pdf1 = thinkbayes.EstimatedPdf(price['Showcase 1'])\n",
    "pdf2 = thinkbayes.EstimatedPdf(price['Showcase 1'])\n",
    "bins = np.linspace(0, 75000, 101)\n",
    "pmf1 = pdf1.MakePmf(bins)\n",
    "pmf2 = pdf2.MakePmf(bins)\n",
    "\n",
    "pmf = pd.DataFrame([pmf1.d, pmf2.d], columns = pmf1, index = ['Showcase 1', 'Showcase 2']).T\n",
    "pmf.head()"
   ]
  },
  {
   "cell_type": "markdown",
   "metadata": {},
   "source": [
    "- 비어 있는 관측값이 있으므로 0~75,000까지의 범위로 PDF 생성\n",
    "- PDF로부터 역으로 PMF 생성"
   ]
  },
  {
   "cell_type": "code",
   "execution_count": 7,
   "metadata": {
    "scrolled": false
   },
   "outputs": [
    {
     "data": {
      "text/plain": [
       "<matplotlib.legend.Legend at 0x20f39ce3588>"
      ]
     },
     "execution_count": 7,
     "metadata": {},
     "output_type": "execute_result"
    },
    {
     "data": {
      "image/png": "[encoded data removed]",
      "text/plain": [
       "<matplotlib.figure.Figure at 0x20f39cd35c0>"
      ]
     },
     "metadata": {},
     "output_type": "display_data"
    }
   ],
   "source": [
    "sns.lineplot(x = pmf.index, y = pmf.iloc[:,0], label = 'Showcase 1')\n",
    "sns.lineplot(x = pmf.index, y = pmf.iloc[:,1], label = 'Showcase 2')\n",
    "plt.title('PMF estimated from PDF\\n')\n",
    "plt.xlabel('Price($)')\n",
    "plt.ylabel('Probability')\n",
    "plt.legend()"
   ]
  },
  {
   "cell_type": "markdown",
   "metadata": {},
   "source": [
    "___\n",
    "## 5. 참가자 모델링"
   ]
  },
  {
   "cell_type": "markdown",
   "metadata": {},
   "source": [
    "- 틀린 정보가 주어졌을 때 이를 기반으로 금액을 추측하기 위한 모델 생성\n",
    "> 1. 어떤 데이터를 고려해야 하고, 어떤 데이터를 수치화 해야 할까?\n",
    "> 2. 우도 함수를 계산할 수 있을까?  \n",
    ">    즉, 각 price에 대한 가설 값을 정하면서 데이터의 상태우도를 계산할 수 있을까?"
   ]
  },
  {
   "cell_type": "markdown",
   "metadata": {},
   "source": [
    "- 실제 가격이 $price$, 참가자의 추정이 $guess$일 때, 우도는 다음과 같이 정의 가능  \n",
    "$error = price - guess$\n",
    "- $error$의 우도를 구하는데에는 과거의 데이터를 참조할 필요가 있음\n",
    "- 데이터에는 실제 가격 $price$와 참가자들의 배당 금액에 해당하는 $bid$가 정의되어 있고, 그 차이인 $diff$도 확인 가능  \n",
    "$diff = price - bid$"
   ]
  },
  {
   "cell_type": "code",
   "execution_count": 8,
   "metadata": {
    "scrolled": true
   },
   "outputs": [
    {
     "data": {
      "text/html": [
       "<div>\n",
       "<style scoped>\n",
       "    .dataframe tbody tr th:only-of-type {\n",
       "        vertical-align: middle;\n",
       "    }\n",
       "\n",
       "    .dataframe tbody tr th {\n",
       "        vertical-align: top;\n",
       "    }\n",
       "\n",
       "    .dataframe thead th {\n",
       "        text-align: right;\n",
       "    }\n",
       "</style>\n",
       "<table border=\"1\" class=\"dataframe\">\n",
       "  <thead>\n",
       "    <tr style=\"text-align: right;\">\n",
       "      <th></th>\n",
       "      <th>0</th>\n",
       "      <th>1</th>\n",
       "    </tr>\n",
       "  </thead>\n",
       "  <tbody>\n",
       "    <tr>\n",
       "      <th>-30000.0</th>\n",
       "      <td>3.169212e-15</td>\n",
       "      <td>0.000076</td>\n",
       "    </tr>\n",
       "    <tr>\n",
       "      <th>-29200.0</th>\n",
       "      <td>4.226390e-14</td>\n",
       "      <td>0.000143</td>\n",
       "    </tr>\n",
       "    <tr>\n",
       "      <th>-28400.0</th>\n",
       "      <td>4.931661e-13</td>\n",
       "      <td>0.000235</td>\n",
       "    </tr>\n",
       "    <tr>\n",
       "      <th>-27600.0</th>\n",
       "      <td>5.035540e-12</td>\n",
       "      <td>0.000337</td>\n",
       "    </tr>\n",
       "    <tr>\n",
       "      <th>-26800.0</th>\n",
       "      <td>4.499474e-11</td>\n",
       "      <td>0.000424</td>\n",
       "    </tr>\n",
       "  </tbody>\n",
       "</table>\n",
       "</div>"
      ],
      "text/plain": [
       "                     0         1\n",
       "-30000.0  3.169212e-15  0.000076\n",
       "-29200.0  4.226390e-14  0.000143\n",
       "-28400.0  4.931661e-13  0.000235\n",
       "-27600.0  5.035540e-12  0.000337\n",
       "-26800.0  4.499474e-11  0.000424"
      ]
     },
     "execution_count": 8,
     "metadata": {},
     "output_type": "execute_result"
    }
   ],
   "source": [
    "diff = biddings[['Difference 1', 'Difference 2']]\n",
    "diff\n",
    "diff_bins = np.linspace(-30000, 50000, 101)\n",
    "diff1 = thinkbayes.EstimatedPdf(diff['Difference 1']).MakePmf(diff_bins).d\n",
    "diff2 = thinkbayes.EstimatedPdf(diff['Difference 2']).MakePmf(diff_bins).d\n",
    "diff_pmf = pd.DataFrame([diff1, diff2], columns = diff1.keys()).T\n",
    "diff_pmf.head()"
   ]
  },
  {
   "cell_type": "code",
   "execution_count": 9,
   "metadata": {},
   "outputs": [
    {
     "data": {
      "text/plain": [
       "<matplotlib.collections.LineCollection at 0x20f3a0524a8>"
      ]
     },
     "execution_count": 9,
     "metadata": {},
     "output_type": "execute_result"
    },
    {
     "data": {
      "image/png": "[encoded data removed]",
      "text/plain": [
       "<matplotlib.figure.Figure at 0x20f3a00a7f0>"
      ]
     },
     "metadata": {},
     "output_type": "display_data"
    }
   ],
   "source": [
    "sns.lineplot(x = diff_pmf.index, y = diff_pmf.cumsum().iloc[:,0], label = 'Showcase 1')\n",
    "sns.lineplot(x = diff_pmf.index, y = diff_pmf.cumsum().iloc[:,1], label = 'Showcase 2')\n",
    "plt.title('CDF of diff between contestants\\n')\n",
    "plt.legend()\n",
    "plt.xlabel('Difference($)')\n",
    "plt.ylabel('Probability')\n",
    "plt.vlines(x = 0, ymin = 0, ymax = 1)"
   ]
  },
  {
   "cell_type": "markdown",
   "metadata": {},
   "source": [
    "- 입찰금액과 실제금액간의 차이를 보면 양수 쪽으로 치우쳐져 있는 것을 볼수 있음\n",
    "- 이는 입찰금액이 실제금액보다 높으면 탈락이라는 게임 룰이 반영된 현상으로 볼 수 있음"
   ]
  },
  {
   "cell_type": "code",
   "execution_count": 10,
   "metadata": {},
   "outputs": [
    {
     "data": {
      "text/plain": [
       "(0.24600638977635783, 0.29073482428115016)"
      ]
     },
     "execution_count": 10,
     "metadata": {},
     "output_type": "execute_result"
    }
   ],
   "source": [
    "sum(diff.iloc[:,0]<0)/ len(diff), sum(diff.iloc[:,1]<0) / len(diff)"
   ]
  },
  {
   "cell_type": "markdown",
   "metadata": {},
   "source": [
    "- 각각 전체에서 25%, 29%만 입찰금액에 실제 금액보다 높게 나타남"
   ]
  },
  {
   "cell_type": "markdown",
   "metadata": {},
   "source": [
    "- 마지막으로 분포를 사용하여 참가자들의 추측 신뢰도를 확인 해 볼 수 있음\n",
    "- 단, error의 분포는 $N(0,1)$을 따른다고 가정"
   ]
  },
  {
   "cell_type": "code",
   "execution_count": 11,
   "metadata": {},
   "outputs": [],
   "source": [
    "class Players(object):\n",
    "    def __init__(self, prices, bids, diffs):\n",
    "        self.pdf_price = thinkbayes.EstimatedPdf(prices)\n",
    "        self.cdf_diff = thinkbayes.MakeCdfFromList(diffs)\n",
    "        \n",
    "        mu = 0\n",
    "        sigma = np.std(diffs)\n",
    "        self.pdf_error = thinkbayes.GaussianPdf(mu, sigma)"
   ]
  },
  {
   "cell_type": "markdown",
   "metadata": {},
   "source": [
    "- `pdf_price`는 KDE로 추정한 가격에 대해서 평활화된 PDF임\n",
    "- `cdf_diff`는 diff의 누적분포로 아래 그래프와 같음\n",
    "- `pdf_error`는 error의 분포를 나타낸 PDF임 ($N(0,std(diff))$를 따르는)"
   ]
  },
  {
   "cell_type": "code",
   "execution_count": 12,
   "metadata": {},
   "outputs": [],
   "source": [
    "p1 = Players(prices = biddings['Showcase 1'], bids = biddings['Bid 1'], diffs = biddings['Difference 1'])\n",
    "p2 = Players(prices = biddings['Showcase 2'], bids = biddings['Bid 2'], diffs = biddings['Difference 2'])"
   ]
  },
  {
   "cell_type": "code",
   "execution_count": 13,
   "metadata": {},
   "outputs": [
    {
     "data": {
      "text/plain": [
       "<matplotlib.collections.LineCollection at 0x20f3a037978>"
      ]
     },
     "execution_count": 13,
     "metadata": {},
     "output_type": "execute_result"
    },
    {
     "data": {
      "image/png": "[encoded data removed]",
      "text/plain": [
       "<matplotlib.figure.Figure at 0x20f3a037c50>"
      ]
     },
     "metadata": {},
     "output_type": "display_data"
    }
   ],
   "source": [
    "sns.lineplot(x = p1.cdf_diff.Values(), y = p1.cdf_diff.ps, label = 'Player1')\n",
    "sns.lineplot(x = p2.cdf_diff.Values(), y = p2.cdf_diff.ps, label = 'Player2')\n",
    "plt.title('CDF of differnce from data\\n')\n",
    "plt.xlabel('Difference($)')\n",
    "plt.ylabel('Probability')\n",
    "plt.vlines(x = 0, ymin = 0, ymax = 1)"
   ]
  },
  {
   "cell_type": "markdown",
   "metadata": {},
   "source": [
    "___\n",
    "## 6. 우도 / 7. 갱신"
   ]
  },
  {
   "cell_type": "code",
   "execution_count": 14,
   "metadata": {},
   "outputs": [],
   "source": [
    "class Price(thinkbayes.Suite):\n",
    "    \n",
    "    def __init__(self, pmf, player):\n",
    "        thinkbayes.Suite.__init__(self, pmf)\n",
    "        self.player = player\n",
    "        \n",
    "    def Likelihood(self, data, hypo):\n",
    "        price = hypo\n",
    "        guess = data\n",
    "        \n",
    "        error = price - guess\n",
    "        like = self.player.ErrorDensity(error)\n",
    "        \n",
    "        return like\n"
   ]
  },
  {
   "cell_type": "markdown",
   "metadata": {},
   "source": [
    "- `thinkbayes.Suite`을 확장한 새 클래스를 정의\n",
    "- `pmf`는 사전 분포를 나타냄\n",
    "- `player`는 앞장에서 정의한 `Player`객체로 추가로 기능 정의 예정\n",
    "```python\n",
    "class Price(thinkbayes.Suite):\n",
    "\n",
    "    def __init__(self, pmf, player):\n",
    "        thinkbayes.Suite.__init__(self.pmf)\n",
    "        self.player = player\n",
    "```"
   ]
  },
  {
   "cell_type": "markdown",
   "metadata": {},
   "source": [
    "___\n",
    "#### 우도\n",
    "- `Price.Likelihood`는 다음과 같음\n",
    "- `hypo`는 진열장의 가격, `data`는 참가자들이 추정한 값, `error`는 차이값, `like`은 해당 가설에 대한 데이터의 우도\n",
    "```python\n",
    "#class Price:\n",
    "    def Likelihood(self, data, hypo):\n",
    "        price = hypo\n",
    "        guess = data\n",
    "\n",
    "        error = price - guess\n",
    "        like = self.player.ErrorDensity(error)\n",
    "\n",
    "        return like\n",
    "```"
   ]
  },
  {
   "cell_type": "code",
   "execution_count": 15,
   "metadata": {},
   "outputs": [],
   "source": [
    "class Players(object):\n",
    "    def __init__(self, prices, bids, diffs):\n",
    "        self.pdf_price = thinkbayes.EstimatedPdf(prices)\n",
    "        self.cdf_diff = thinkbayes.MakeCdfFromList(diffs)\n",
    "        \n",
    "        mu = 0\n",
    "        sigma = np.std(diffs)\n",
    "        self.pdf_error = thinkbayes.GaussianPdf(mu, sigma)\n",
    "        \n",
    "    def ErrorDensity(self, error):\n",
    "        return self.pdf_error.Density(error)\n",
    "    \n",
    "    def MakeBeliefs(self, guess):\n",
    "        pmf = self.PmfPrice()\n",
    "        self.prior = Price(pmf, self)\n",
    "        self.posterior = self.prior.Copy()\n",
    "        self.posterior.Update(guess)\n",
    "        \n",
    "    n = 101\n",
    "    price_xs = numpy.linspace(0, 75000, n)\n",
    "    \n",
    "    def PmfPrice(self):\n",
    "        return self.pdf_price.MakePmf(self.price_xs)\n"
   ]
  },
  {
   "cell_type": "markdown",
   "metadata": {},
   "source": [
    "- `Player.ErrorDensity`는 주어진 `error`값들에 대해 PDF를 계산\n",
    "- `ErrorDensity`값은 확률밀도값으로 비율에 해당 (정규화를 통해 확률로 전환)\n",
    "```python\n",
    "#class Player:\n",
    "    def ErrorDensity(self, error):\n",
    "        return self.pdf_error.Density(error)\n",
    "```\n"
   ]
  },
  {
   "cell_type": "markdown",
   "metadata": {},
   "source": [
    "___\n",
    "#### 갱신\n",
    "- `Player.MakeBeliefs`는 아래와 같음\n",
    "- `Player` 클래스를 통해 참가자의 예측값을 가지고 사후확률을 산출\n",
    "- `Player.PmfPrice()`는 `Pdf.MakePmf` 함수를 사용해서 가격의 PDF 근사치를 만들어내고 이는 곧 사전확률임\n",
    "- `Player.PmfPrice()`는 `pdf_price = thinkbayes.EstimatedPdf(prices)`를 물려받아서 연산\n",
    "- 사후확률을 만들기 위해 사전확률의 `copy`를 만들고 `Update`메서드로 우도를 반영\n",
    "```python\n",
    "#class Player\n",
    "    def MakeBeliefs(self, guess):\n",
    "        pmf = self.PmfPrice()\n",
    "        self.prior = Price(pmf, self)\n",
    "        self.posterior = self.prior.Copy()\n",
    "        self.posterior.Update(guess)\n",
    "    \n",
    "    n = 101\n",
    "    \n",
    "    price_xs = np.linspace(0, 75000, n)\n",
    "    \n",
    "    def PmfPrice(self):\n",
    "        return self.pdf_price.MakePmf(self.price_xs)\n",
    "    ```"
   ]
  },
  {
   "cell_type": "markdown",
   "metadata": {},
   "source": [
    "- 실제 문제로 돌아와서 Player1이 진열대 가격을 \\$20,000으로 예측하였다면, 사후분포를 아래와 같이 업데이트 가능"
   ]
  },
  {
   "cell_type": "code",
   "execution_count": 16,
   "metadata": {},
   "outputs": [],
   "source": [
    "p1 = Players(prices = biddings['Showcase 1'], bids = biddings['Bid 1'], diffs = biddings['Difference 1'])\n",
    "p2 = Players(prices = biddings['Showcase 2'], bids = biddings['Bid 2'], diffs = biddings['Difference 2'])\n",
    "p1.MakeBeliefs(20000)"
   ]
  },
  {
   "cell_type": "code",
   "execution_count": 17,
   "metadata": {},
   "outputs": [
    {
     "data": {
      "text/plain": [
       "<matplotlib.legend.Legend at 0x20f3a4f1b00>"
      ]
     },
     "execution_count": 17,
     "metadata": {},
     "output_type": "execute_result"
    },
    {
     "data": {
      "image/png": "[encoded data removed]",
      "text/plain": [
       "<matplotlib.figure.Figure at 0x20f3a2b65f8>"
      ]
     },
     "metadata": {},
     "output_type": "display_data"
    }
   ],
   "source": [
    "sns.lineplot(x = list(p1.prior.d.keys()), y = list(p1.prior.d.values()), label = 'prior')\n",
    "sns.lineplot(x = list(p1.posterior.d.keys()), y = list(p1.posterior.d.values()), label = 'posterior')\n",
    "plt.vlines(x = p1.posterior.Mean(), ymin = 0, ymax = 0.08, label = 'mean of posterior', colors = 'green')\n",
    "plt.vlines(x = p1.posterior.MaximumLikelihood(), ymin = 0, ymax = 0.08, label = 'most-liklihood of posterior', color = 'purple')\n",
    "plt.legend()"
   ]
  },
  {
   "cell_type": "markdown",
   "metadata": {},
   "source": [
    "- 사전 분포에서 최대 우도 값이 \\$27,750일 때, \\$20,000으로 우도를 갱신하여 사후분포를 산출\n",
    "- 사후 분포의 평균은 \\$25,096, 사후분포의 최대우도는 \\$24,000이 최적의 값이라고 주장"
   ]
  },
  {
   "cell_type": "code",
   "execution_count": 18,
   "metadata": {},
   "outputs": [
    {
     "data": {
      "text/plain": [
       "(27750.0, 25096.41181620624, 24000.0)"
      ]
     },
     "execution_count": 18,
     "metadata": {},
     "output_type": "execute_result"
    }
   ],
   "source": [
    "p1.prior.MaximumLikelihood(), p1.posterior.Mean(), p1.posterior.MaximumLikelihood()"
   ]
  },
  {
   "cell_type": "markdown",
   "metadata": {},
   "source": [
    "- 위 의사결정에서 중요한 점은 두 정보를 잘 조합해야 한다는 것임\n",
    "> 1. 쇼케이스의 과거 데이터\n",
    "> 2. 추측한 진열장 아이템 가격  \n",
    "- 이전까지는 1번을 **'사전분포'**로 두고, 2번 정보로 **'갱신'**하여 **'사후분포'**를 산출\n",
    "- 2번을 **'사전분포'**로, 1번 정보로 **'갱신'**하여 '사후분포'를 산출하게되면 다른 결과를 기대할 수 있으며, 보다 합리적인 결과가 나올 수도 있음"
   ]
  },
  {
   "cell_type": "markdown",
   "metadata": {},
   "source": [
    "___\n",
    "## 8. 최적 입찰"
   ]
  },
  {
   "cell_type": "markdown",
   "metadata": {},
   "source": [
    "- Expected return을 최대로 하는 예상가를 정의하여 최적 입찰 수행"
   ]
  },
  {
   "cell_type": "code",
   "execution_count": 19,
   "metadata": {},
   "outputs": [],
   "source": [
    "class GainCalculator(object):\n",
    "    \n",
    "    \n",
    "    def __init__(self, player, opponent):\n",
    "        self.player = player\n",
    "        self.opponent = opponent\n",
    "        #player와 opponent는 Player 객체\n",
    "        \n",
    "        \n",
    "    def ExpectedGains(self, low = 0, high = 75000, n = 101):\n",
    "        bids = np.linspace(low, high, n)\n",
    "        \n",
    "        gains = [self.ExpectedGain(bid) for bid in bids]\n",
    "        return bids, gains\n",
    "    \n",
    "    \n",
    "    def ExpectedGain(self, bid):\n",
    "        suite = self.player.posterior\n",
    "        total = 0\n",
    "        for price, prob in sorted(suite.Items()):\n",
    "            gain = self.Gain(bid, price)\n",
    "            total += prob * gain\n",
    "        return total\n",
    "    \n",
    "    \n",
    "    def Gain(self, bid, price):\n",
    "        if bid > price:\n",
    "            return 0\n",
    "        \n",
    "        diff = price - bid\n",
    "        prob = self.ProbWin(diff)\n",
    "        \n",
    "        if diff <=250:\n",
    "            return 2 * price * prob\n",
    "        else:\n",
    "            return price * prob\n",
    "        \n",
    "        \n",
    "    def ProbWin(self, diff):\n",
    "        prob = (self.opponent.ProbOverbid() +\n",
    "               self.opponent.ProbWorseThan(diff))\n",
    "        return prob"
   ]
  },
  {
   "cell_type": "markdown",
   "metadata": {},
   "source": [
    "- `ExpectedGains`는 입찰금(`bid`)과 예상이익(`gain`)의 배열을 반환\n",
    "```python \n",
    "    def ExpectedGains(self, low = 0, high = 7500, n = 101):\n",
    "        bids = np.linspace(low, high, n)\n",
    "        \n",
    "        gains = [self.ExpectedGain(bid) for bid in bids]\n",
    "        return bids, gains\n",
    "```"
   ]
  },
  {
   "cell_type": "markdown",
   "metadata": {},
   "source": [
    "- `ExpectedGain`은 예상이익(`total`)을 계산\n",
    "- `ExpectedGain`은 사후확률(`suite`)을 호출하고, 입찰금(`bid`) 별로 예상이익(`gain`)을 계산\n",
    "``` python\n",
    "    def ExpectedGain(self, bid):\n",
    "        suite = self.player.posterior\n",
    "        total = 0\n",
    "        for price, prob in sorted(suite.Items()):\n",
    "            gain = self.Gain(bid, price)\n",
    "            total += prob * gain\n",
    "        return total\n",
    "```"
   ]
  },
  {
   "cell_type": "markdown",
   "metadata": {},
   "source": [
    "- 예상이익(`ExpectedGain.total`)은 `Gain`을 호출해서 계산\n",
    "- `Gain`은 입찰금액(`bid`)과 실제가격(`price`)을 인수로 받음\n",
    "- 너무 높게 입찰을 했다면 0을 반환, 입찰액과 실제금액이 \\$250 미만으로 차이가 난다면 2개의 진열장을 모두 획득하며 2배의 예상이익을 가정\n",
    "```python\n",
    "    def Gain(self, bid, price):\n",
    "        if bid > price:\n",
    "            return 0\n",
    "        \n",
    "        diff = price - bid\n",
    "        prov = self.ProbWin(diff)\n",
    "        \n",
    "        if diff <=250:\n",
    "            return 2 * price * prob\n",
    "        else:\n",
    "            return price * prob\n",
    "            ```"
   ]
  },
  {
   "cell_type": "markdown",
   "metadata": {},
   "source": [
    "- 사후확률(`Gain.prob`)는 `ProbWin`을 통해 계산\n",
    "- 상대방이 실제가격보다 높게 입찰할 경우의 확률과, 상대방이 내 차이(`diff`)보다 더 낮게 예상할 확률의 합으로 이길 확률을 계산\n",
    "- `Player`의 메서드 `ProbOverbid()`와 `ProbWorseThan()` 메서드로 확률 계산\n",
    "```python\n",
    "def ProbWin(self, diff):\n",
    "        prob = (self.opponent.ProbOverbid() +\n",
    "               self.opponent.ProbWorseThan(diff))\n",
    "        return prob\n",
    "```"
   ]
  },
  {
   "cell_type": "code",
   "execution_count": 20,
   "metadata": {},
   "outputs": [],
   "source": [
    "class Players(object):\n",
    "    def __init__(self, prices, bids, diffs):\n",
    "        self.pdf_price = thinkbayes.EstimatedPdf(prices)\n",
    "        self.cdf_diff = thinkbayes.MakeCdfFromList(diffs)\n",
    "        \n",
    "        mu = 0\n",
    "        sigma = np.std(diffs)\n",
    "        self.pdf_error = thinkbayes.GaussianPdf(mu, sigma)\n",
    "        \n",
    "        \n",
    "    def ErrorDensity(self, error):\n",
    "        return self.pdf_error.Density(error)\n",
    "    \n",
    "    \n",
    "    def MakeBeliefs(self, guess):\n",
    "        pmf = self.PmfPrice()\n",
    "        self.prior = Price(pmf, self)\n",
    "        self.posterior = self.prior.Copy()\n",
    "        self.posterior.Update(guess)\n",
    "        \n",
    "    n = 101\n",
    "    price_xs = numpy.linspace(0, 75000, n)\n",
    "    \n",
    "    \n",
    "    def PmfPrice(self):\n",
    "        return self.pdf_price.MakePmf(self.price_xs)\n",
    "\n",
    "    \n",
    "    def ProbOverbid(self):\n",
    "        return self.cdf_diff.Prob(-1)\n",
    "    \n",
    "    \n",
    "    def ProbWorseThan(self, diff):\n",
    "        return 1 - self.cdf_diff.Prob(diff)\n",
    "    \n",
    "    \n",
    "    def OptimalBid(self, guess, opponent):\n",
    "        self.MakeBeliefs(guess)\n",
    "        calc = GainCalculator(self, opponent)\n",
    "        bids, gains = calc.ExpectedGains()\n",
    "        gain, bid = max(zip(gains, bids))\n",
    "        return bid, gain"
   ]
  },
  {
   "cell_type": "markdown",
   "metadata": {},
   "source": [
    "- `ProbOverbid`과 `ProbWorseThan`는 상대방 관점에서 확률 계산\n",
    "- CDF에서 상대방의 `diff`(price-bid)가 -1보다 작거나 같으면 overbid로 승리 (`cdf_diff`에서 x가 -1보다 낮을 확률)\n",
    "- 혹은, CDF에서 내 `diff`보다 크게 예측할 경우 승리 (`cdf_diff`에서 x가 diff보다 높을 확률)\n",
    "\n",
    "```python\n",
    "    def ProbOverbid(self):\n",
    "        return self.cdf_diff.Prob(-1)\n",
    "    \n",
    "    \n",
    "    def ProbWorseThan(self, diff):\n",
    "        return 1 - self.cdf_diff.Prob(diff)\n",
    "```"
   ]
  },
  {
   "cell_type": "markdown",
   "metadata": {},
   "source": [
    "- `OptimalBid`는 위 함수들을 사용해서 최적의 예상가를 산출\n",
    "- `MakeBeliefs`로 사후분포를 계산하고, `GainCalculator`로 `(gain, bid)`를 산출하고, 그 중 최적의 값을 반환\n",
    "```python\n",
    " def OptimalBid(self, guess, opponent):\n",
    "        self.MakeBeliefs(guess)\n",
    "        calc = GainCalculator(self, opponent)\n",
    "        bids, gains = calc.ExpectedGains()\n",
    "        gain, bid = max(zip(gains, bids))\n",
    "        return bid, gain\n",
    "```"
   ]
  },
  {
   "cell_type": "markdown",
   "metadata": {},
   "source": [
    "___\n",
    "#### 의사결정\n",
    "\n",
    "- player1의 guess는 \\$20,000이고, player2의 guess는 \\$40,000 일때 예상가와 예상이익을 추측할 수 있음"
   ]
  },
  {
   "cell_type": "code",
   "execution_count": 21,
   "metadata": {},
   "outputs": [],
   "source": [
    "p1 = Players(prices = biddings['Showcase 1'], bids = biddings['Bid 1'], diffs = biddings['Difference 1'])\n",
    "p2 = Players(prices = biddings['Showcase 2'], bids = biddings['Bid 2'], diffs = biddings['Difference 2'])"
   ]
  },
  {
   "cell_type": "markdown",
   "metadata": {},
   "source": [
    "- player1의 예상가는 \\$20,000이지만, \\$21,000으로 추정했을 때의 예상이익이 약 \\$16,700으로 최적이라 할 수 있음\n",
    "- player2의 예상가는 \\$40,000이지만, \\$31,500으로 추정했을 때의 예상이익이 약 \\$19,365로 최적이라 할 수 있음"
   ]
  },
  {
   "cell_type": "code",
   "execution_count": 22,
   "metadata": {},
   "outputs": [
    {
     "data": {
      "text/plain": [
       "(21000.0, 16668.78146356438)"
      ]
     },
     "execution_count": 22,
     "metadata": {},
     "output_type": "execute_result"
    }
   ],
   "source": [
    "p1.OptimalBid(guess = 20000, opponent = p2)"
   ]
  },
  {
   "cell_type": "code",
   "execution_count": 23,
   "metadata": {},
   "outputs": [
    {
     "data": {
      "text/plain": [
       "(31500.0, 19365.95359088567)"
      ]
     },
     "execution_count": 23,
     "metadata": {},
     "output_type": "execute_result"
    }
   ],
   "source": [
    "p2.OptimalBid(guess = 40000, opponent = p1)"
   ]
  },
  {
   "cell_type": "markdown",
   "metadata": {},
   "source": [
    "- 위 결과를 그래프로 표현하면 아래와 같음"
   ]
  },
  {
   "cell_type": "code",
   "execution_count": null,
   "metadata": {},
   "outputs": [],
   "source": [
    "p1.MakeBeliefs(20000)\n",
    "x, p1_prob = GainCalculator(p1, p2).ExpectedGains()\n",
    "p2.MakeBeliefs(40000)\n",
    "p2_prob = GainCalculator(p2, p1).ExpectedGains()[1]"
   ]
  },
  {
   "cell_type": "code",
   "execution_count": 29,
   "metadata": {},
   "outputs": [
    {
     "data": {
      "text/plain": [
       "Text(0.5,1,'Expected gains from player1 bid($20,000) & p2 bid($40,000)\\n')"
      ]
     },
     "execution_count": 29,
     "metadata": {},
     "output_type": "execute_result"
    },
    {
     "data": {
      "image/png": "[encoded data removed]",
      "text/plain": [
       "<matplotlib.figure.Figure at 0x20f3c5cc278>"
      ]
     },
     "metadata": {},
     "output_type": "display_data"
    }
   ],
   "source": [
    "sns.lineplot(x = x, y = p1_prob, label = 'player1')\n",
    "sns.lineplot(x = x, y = p2_prob, label = 'player2')\n",
    "plt.vlines(x = p1.OptimalBid(guess = 20000, opponent = p2)[0], ymin = 0, ymax = 20000, colors = 'purple')\n",
    "plt.vlines(x = p2.OptimalBid(guess = 40000, opponent = p2)[0], ymin = 0, ymax = 20000, colors = 'green')\n",
    "plt.title('Expected gains from player1 bid($20,000) & p2 bid($40,000)\\n')"
   ]
  },
  {
   "cell_type": "markdown",
   "metadata": {},
   "source": [
    "___\n",
    "## 9. 정리\n",
    "- 베이지안 추정의 장점은 결과가 사후 분포의 형태롤 나온다는 것\n",
    "- 전통적인 추정법은 보통 단일 점 추정, 혹은 신뢰구간 추정으로 이루어짐\n",
    "- 이는 효과적일 수 있으나, 다른 분석의 입력값으로 사용할 때에는 큰 도움이 되지 못함\n",
    "- 위의 예제는 **비대칭적이고 이산적**인 특성을 띄며, 하나하나 분석해서 풀기는 어려우나 **계산식**으로 풀기는 상대적으로 용이\n",
    "- 베이지안을 처음 접하는 사람은 사후확률의 평균, 우도, 등만을 요약하려는 경향을 보이지만, 그렇다면 처음부터 베이지안 접근이 효율적이지 못할 수 있음"
   ]
  }
 ],
 "metadata": {
  "kernelspec": {
   "display_name": "Python 3",
   "language": "python",
   "name": "python3"
  },
  "language_info": {
   "codemirror_mode": {
    "name": "ipython",
    "version": 3
   },
   "file_extension": ".py",
   "mimetype": "text/x-python",
   "name": "python",
   "nbconvert_exporter": "python",
   "pygments_lexer": "ipython3",
   "version": "3.6.4"
  }
 },
 "nbformat": 4,
 "nbformat_minor": 2
}
