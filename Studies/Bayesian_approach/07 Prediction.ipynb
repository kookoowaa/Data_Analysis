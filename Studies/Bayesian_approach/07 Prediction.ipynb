{
 "cells": [
  {
   "cell_type": "code",
   "execution_count": 1,
   "metadata": {},
   "outputs": [
    {
     "name": "stdout",
     "output_type": "stream",
     "text": [
      "Populating the interactive namespace from numpy and matplotlib\n"
     ]
    }
   ],
   "source": [
    "import thinkbayes\n",
    "import pandas as pd\n",
    "import seaborn as sns\n",
    "\n",
    "%pylab inline\n",
    "pylab.rcParams['figure.figsize'] = (16, 8)"
   ]
  },
  {
   "cell_type": "markdown",
   "metadata": {},
   "source": [
    "# 예측\n",
    "___\n",
    "## 1. 보스턴 브루인스 문제"
   ]
  },
  {
   "cell_type": "markdown",
   "metadata": {},
   "source": [
    ">- 2010-11 하키리그 결승전에서 보스턴 브루인스와 벤쿠버 캐넉스를 만남\n",
    ">- 7전 4선승제에서 처음 두 경기를 0-1, 2-3으로 패배\n",
    ">- 이후 두 경기를 8-1, 4-0으로 승리\n",
    ">- 다음 경기를 이길 확률과, 결승전을 승리할 확률은 어떻게 되는가?"
   ]
  },
  {
   "cell_type": "markdown",
   "metadata": {},
   "source": [
    "- 위 문제에 답하기 위해선 두가지 가정을 해야 함\n",
    "    > 1. 경기 중 어떤 때든 골이 들어갈 확률은 동일하다고 보는 포아송 분포를 따름  \n",
    "    > 2. 특정 상대에 대해 각 팀의 장기적 평균 골 수는 $\\lambda$를 따름"
   ]
  },
  {
   "cell_type": "markdown",
   "metadata": {},
   "source": [
    "- 위 문제에 답하기 위한 절차는 다음과 같음\n",
    "> 1. $\\lambda$에 대한 사전 분포를 고르기 위해 전 게임에 대한 통계를 확인  \n",
    "> 2. 각 팀에 대한 $\\lambda$ 추정을 위해 처음 네 게임의 점수를 사용  \n",
    "> 3. $\\lambda$의 사후 분포를 통해 각 팀 별 골의 분포 골 차이의 분포, 각 팀이 다음에 이길 확률을 계산  \n",
    "> 4. 각 팀이 이번 시리즈에서 이길 확률을 계산"
   ]
  },
  {
   "cell_type": "markdown",
   "metadata": {},
   "source": [
    "___\n",
    "- 사전분포는 NHL 2010-11 시즌의 팀장 평균 골 수를 사용하여 근사\n",
    "- 분포는 $N(2.8, 0.3)$의 가우시안 분포를 따름\n",
    "- 가우시안 분포는 연속형이나, `thinkbayes.MakeGaussianPmf`를 통해 이산 Pmf로 추정\n",
    "- 여기서 `mu`는 평균, `sigma`는 표준편차, `num_sigma`는 표준편차의 배수('2'sigma, '6'sigma), `n`은 이산 Pmf의 범위 갯수\n",
    "```python\n",
    "def MakeGaussianPmf(mu, sigma, num_sigmas, n = 101):\n",
    "    pmf = Pmf()\n",
    "    low = mu - num_sigmas * sigma\n",
    "    high = mu + num_sigmas * sigma\n",
    "    \n",
    "    for x in np.linspace(low, high, n):\n",
    "        p = scipy.stats.norm.pdf(mu, sigma, x)\n",
    "        pmf.Set(x, p)\n",
    "    pmf.Normalize()\n",
    "    return pmf\n",
    "```"
   ]
  },
  {
   "cell_type": "markdown",
   "metadata": {},
   "source": [
    "- 하키 문제로 돌아가서 $\\lambda*$에 대한 suite의 정의는 아래와 같이 내릴 수 있음\n",
    "- 사전분포는 평균 2.7에 표준편차가 0.3인 가우시안 분포를 따르고, 4 sigma의 범위로 pmf를 구성"
   ]
  },
  {
   "cell_type": "code",
   "execution_count": 2,
   "metadata": {},
   "outputs": [],
   "source": [
    "class Hockey(thinkbayes.Suite):\n",
    "    \n",
    "    def __init__(self):\n",
    "        pmf = thinkbayes.MakeGaussianPmf(mu = 2.7, sigma = 0.3, num_sigmas= 4)\n",
    "        thinkbayes.Suite.__init__(self, pmf)"
   ]
  },
  {
   "cell_type": "code",
   "execution_count": 3,
   "metadata": {},
   "outputs": [
    {
     "data": {
      "text/plain": [
       "Text(0.5,1,'Prior of $\\\\lambda$ following $N(2.7,0.3)$\\n')"
      ]
     },
     "execution_count": 3,
     "metadata": {},
     "output_type": "execute_result"
    },
    {
     "data": {
      "image/png": "[encoded data removed]",
      "text/plain": [
       "<matplotlib.figure.Figure at 0x214623c6208>"
      ]
     },
     "metadata": {},
     "output_type": "display_data"
    }
   ],
   "source": [
    "bins = []\n",
    "vals = []\n",
    "for i in Hockey().Items():\n",
    "    x, y = i\n",
    "    bins.append(x)\n",
    "    vals.append(y)\n",
    "    \n",
    "\n",
    "sns.lineplot(x = bins, y = vals)\n",
    "plt.title('Prior of $\\lambda$ following $N(2.7,0.3)$\\n')"
   ]
  },
  {
   "cell_type": "markdown",
   "metadata": {},
   "source": [
    "___\n",
    "## 2. 포아송 프로세스"
   ]
  },
  {
   "cell_type": "markdown",
   "metadata": {},
   "source": [
    "- 포아송 프로세스는 베르누이 프로세스의 연속형으로, 사건이 어떤 시점에서든 동일한 확률로 발생할 수 있음\n",
    "- 가게에 손님이 방문 할 확률, 버스정류장에 버스가 도착할 확률, 하키 게임에서 골이 들어갈 확률 등이 이에 속할 수 있음\n",
    "- 물론, 현실에서는 시간에 따라 확률이 다르지만 모든 모델이 단순화에서 기인한 만큼, 본 경우는 하키게임을 포아송 프로세스로 단순화\n",
    "- 단순화된 포아송 프로세스를 활용한 모델링을 사용하게 되면, 보다 효율적으로 '게임당 골'의 분포를 계산할 수 있고, '골 간의 시간' 분포도 계산할 수 있음 (포아송 PMF로)"
   ]
  },
  {
   "cell_type": "markdown",
   "metadata": {},
   "source": [
    "- 게임 당 평균 골 수($\\lambda$)가 `lam`이라면, `lam`의 분포는 포아송 PMF로 주어짐 (`thinkbayes.EvalPoissonPmf`)\n",
    "```python\n",
    "def EvalPoissonPmf(lam, k):\n",
    "    return (lam)**k * math.exp(-lam)/math.factorial(k)\n",
    "```"
   ]
  },
  {
   "cell_type": "markdown",
   "metadata": {},
   "source": [
    "- '골 간의 시간' 분포는 지수 PDF를 따름 (`thinkbayes.EvalExponentialPdf`)\n",
    "```python\n",
    "def EvalExponentialPdf(lam, x):\n",
    "    return lam * math.exp(-lam*x)\n",
    "```"
   ]
  },
  {
   "cell_type": "markdown",
   "metadata": {},
   "source": [
    "___\n",
    "## 3. 사후 분포"
   ]
  },
  {
   "cell_type": "markdown",
   "metadata": {},
   "source": [
    "- 게임에서 $k$개의 골을 넣을 때, `lam`의 가설값을 갖는 `Hockey` 객체의 우도를 구할 수 있음 (갱신)  \n",
    "```python\n",
    "\n",
    " #class Hockey\n",
    "    def Likelihood(self, data, hypo):\n",
    "        lam = hypo\n",
    "        k = data\n",
    "        like = thinkbayes.EvalPoissonPmf(lam, k)\n",
    "        return like\n",
    "```\n",
    "    "
   ]
  },
  {
   "cell_type": "code",
   "execution_count": 4,
   "metadata": {},
   "outputs": [],
   "source": [
    "class Hockey(thinkbayes.Suite):\n",
    "    \n",
    "    def __init__(self):\n",
    "        pmf = thinkbayes.MakeGaussianPmf(mu = 2.7, sigma = 0.3, num_sigmas= 4)\n",
    "        thinkbayes.Suite.__init__(self, pmf)\n",
    "        \n",
    "    \n",
    "    def Likelihood(self, data, hypo):\n",
    "        lam = hypo\n",
    "        k = data\n",
    "        like = thinkbayes.EvalPoissonPmf(k, lam)\n",
    "        return like"
   ]
  },
  {
   "cell_type": "markdown",
   "metadata": {},
   "source": [
    "- 위의 예제를 우도로 변환하여 갱신 (0-1, 2-3, 8-1, 4-0)\n",
    "- lam의 근사값은(MaximumLikelihood) Canucks의 경우 2.52, Bruins의 경우 2.80임"
   ]
  },
  {
   "cell_type": "code",
   "execution_count": 5,
   "metadata": {},
   "outputs": [
    {
     "data": {
      "text/plain": [
       "0.0005725202359080637"
      ]
     },
     "execution_count": 5,
     "metadata": {},
     "output_type": "execute_result"
    }
   ],
   "source": [
    "bruins = Hockey()\n",
    "bruins.UpdateSet([0, 2, 8, 4])\n",
    "canucks = Hockey()\n",
    "canucks.UpdateSet([1, 3, 1, 0])"
   ]
  },
  {
   "cell_type": "code",
   "execution_count": 44,
   "metadata": {},
   "outputs": [
    {
     "data": {
      "text/plain": [
       "Text(0.5,1,'Posteriors of number of goals per game after 4 games\\n')"
      ]
     },
     "execution_count": 44,
     "metadata": {},
     "output_type": "execute_result"
    },
    {
     "data": {
      "image/png": "[encoded data removed]",
      "text/plain": [
       "<matplotlib.figure.Figure at 0x2146987ad30>"
      ]
     },
     "metadata": {},
     "output_type": "display_data"
    }
   ],
   "source": [
    "sns.lineplot(list(bruins.d.keys()), list(bruins.d.values()), label = 'posterior(Bruins)')\n",
    "sns.lineplot(list(canucks.d.keys()), list(canucks.d.values()), label = 'posterior(Canucks)')\n",
    "sns.lineplot(x = bins, y = vals, label = 'prior')\n",
    "\n",
    "plt.vlines(x = bruins.MaximumLikelihood(), ymin = 0, ymax = max(bruins.d.values()))\n",
    "plt.text(x = bruins.MaximumLikelihood(), y = max(bruins.d.values())*1.01, s = round(bruins.MaximumLikelihood(),2))\n",
    "plt.vlines(x = canucks.MaximumLikelihood(), ymin = 0, ymax = max(canucks.d.values()))\n",
    "plt.text(x = canucks.MaximumLikelihood(), y = max(canucks.d.values())*1.01, s = round(canucks.MaximumLikelihood(),2))\n",
    "\n",
    "plt.title('Posteriors of number of goals per game after 4 games\\n')"
   ]
  },
  {
   "cell_type": "markdown",
   "metadata": {},
   "source": [
    "___\n",
    "## 4. 골의 분포"
   ]
  },
  {
   "cell_type": "markdown",
   "metadata": {},
   "source": [
    "- 각 팀이 다음 경기에서 이길 확률을 계산하려면 각 팀의 골의 분포를 계산해야 함\n",
    "- 만약 $\\lambda$ 값을 정확히 알고 있다면 포아송 분포를 다시 사용할 수 있음\n",
    "- thinkbayes에서는 0부터 high까지를 범위로, 포아송 분포의 절단 근사값을 계산하는 메서드를 제공\n",
    "```python\n",
    "def MakePoissonPmf(lam, high):\n",
    "    pmf = Pmf()\n",
    "    for k in range(0, high+1):\n",
    "        p = EvalPoissonsPmf(lam, k)\n",
    "        pmf.Set(k, p)\n",
    "    pmf.Normalize()\n",
    "    return pmf\n",
    "    ```"
   ]
  },
  {
   "cell_type": "markdown",
   "metadata": {},
   "source": [
    "- $\\lambda$가 3.4라면, 다음과 같이 계산 가능\n",
    "- 한게임에서 10골 이상 나올 가능성은 매우 낮으므로 high를 10으로 설정\n",
    "```python\n",
    "lam = 3.4\n",
    "goal_dist = thinkbayes.MakePoissonPmf(lam, 10)\n",
    "```"
   ]
  },
  {
   "cell_type": "markdown",
   "metadata": {},
   "source": [
    "- 문제는, $\\lambda$를 정확하게 모른다는 것인데, 대신 $\\lambda$가 가능한 값들에 대한 분포가 있음\n",
    "- 따라서, 각 $\\lambda$에 대해 포아송 분포를 구하고, 골 의 전체 분포는 포아송 분포의 혼합형으로, $\\lambda$의 분포 확률에 따라 가중치를 부여\n",
    "- $\\lambda$의 사후 분포에 대해 골의 분포를 생성하는 코드는 다음과 같음"
   ]
  },
  {
   "cell_type": "code",
   "execution_count": 39,
   "metadata": {},
   "outputs": [],
   "source": [
    "def MakeGoalPmf(suite):\n",
    "    '''\n",
    "    lambda 별로 0-10 pmf를 만들고,\n",
    "    각 값(이 경우 정수)마다 확률과 lambda 별 가중치를 곱하여 합산\n",
    "    합산한 결과값은 정규화 하여 혼합 분포 추정\n",
    "\n",
    "    책의 예제는 python 2.5에서는 작동할지 몰라도 Set 안에 pmf object가 들어가면 dict key에 object를 지정할 수 없어 에러 반환\n",
    "    '''\n",
    "    \n",
    "    metapmf = thinkbayes.Pmf()\n",
    "\n",
    "    for lam, weight in suite.Items():\n",
    "        pmf = thinkbayes.MakePoissonPmf(lam, 10)\n",
    "        for val, prob in pmf.Items():\n",
    "            metapmf.Incr(val, prob*weight)\n",
    "    \n",
    "        \n",
    "    metapmf.Normalize()\n",
    "    return metapmf\n",
    "\n",
    "#def MakeGoalPmf(suite):\n",
    "#    metapmf = thinkbayes.Pmf()\n",
    "#    \n",
    "#    for lam, prob in suite.Items():\n",
    "#        pmf = thinkbayes.MakePoissonPmf(lam, 10)\n",
    "#        metapmf.Set(pmf, prob)    -->    Set(x, y) 는 dict[x] = y를 수행하는데, python 3.0+ 에서는 x에 object가 들어가면 에러 발생 \n",
    "#        \n",
    "#    mix = thinkbayes.MakeMixture(metapmf.d)\n",
    "#    return mix"
   ]
  },
  {
   "cell_type": "code",
   "execution_count": 29,
   "metadata": {},
   "outputs": [],
   "source": [
    "bruins_goal = MakeGoalPmf(bruins)\n",
    "canucks_goal = MakeGoalPmf(canucks)"
   ]
  },
  {
   "cell_type": "code",
   "execution_count": 43,
   "metadata": {},
   "outputs": [
    {
     "data": {
      "text/plain": [
       "(0, 0.25)"
      ]
     },
     "execution_count": 43,
     "metadata": {},
     "output_type": "execute_result"
    },
    {
     "data": {
      "image/png": "[encoded data removed]",
      "text/plain": [
       "<matplotlib.figure.Figure at 0x214693372b0>"
      ]
     },
     "metadata": {},
     "output_type": "display_data"
    }
   ],
   "source": [
    "sns.lineplot(x = list(bruins_goal.d.keys()), y = list(bruins_goal.d.values()), label = 'Bruins')\n",
    "sns.lineplot(x = list(canucks_goal.d.keys()), y = list(canucks_goal.d.values()), label = 'Canucks')\n",
    "plt.title('Distribution of goals in a single game\\n')\n",
    "plt.vlines(x = 3, ymin = 0, ymax = 0.25)\n",
    "plt.xlim(0,10)\n",
    "plt.ylim(0, 0.25)"
   ]
  },
  {
   "cell_type": "markdown",
   "metadata": {},
   "source": [
    "- 위 그래프를 해석하자면, Bruins는 다음 게임에서 3점 이상으로 득점할 확률이 Canunkcs보다 높고, 그 이하로 득점할 확률은 Canunkcs보다 낮음"
   ]
  },
  {
   "cell_type": "markdown",
   "metadata": {},
   "source": [
    "___\n",
    "## 5. 이길 확률"
   ]
  },
  {
   "cell_type": "markdown",
   "metadata": {},
   "source": [
    "- 승패 확률을 구하는 것은 골수 차이의 분포가 ($x$가) 0보다 크거나 작을 경우를 구하는 것과 동일\n",
    "- 골 수 차이는 위에서 구해 둔 분포로 계산 가능"
   ]
  },
  {
   "cell_type": "code",
   "execution_count": 51,
   "metadata": {},
   "outputs": [
    {
     "data": {
      "text/plain": [
       "Text(0.5,1,'Distribution of goal difference(or winning probability)\\n')"
      ]
     },
     "execution_count": 51,
     "metadata": {},
     "output_type": "execute_result"
    },
    {
     "data": {
      "image/png": "[encoded data removed]",
      "text/plain": [
       "<matplotlib.figure.Figure at 0x214698b2ba8>"
      ]
     },
     "metadata": {},
     "output_type": "display_data"
    }
   ],
   "source": [
    "diff = bruins_goal - canucks_goal\n",
    "\n",
    "sns.lineplot(x = list(diff.d.keys()), y = list(diff.d.values()))\n",
    "plt.xlim = (-10, 10)\n",
    "plt.title('Distribution of goal difference(or winning probability)\\n')"
   ]
  },
  {
   "cell_type": "code",
   "execution_count": 53,
   "metadata": {},
   "outputs": [
    {
     "data": {
      "text/plain": [
       "(0.46, 0.17, 0.37)"
      ]
     },
     "execution_count": 53,
     "metadata": {},
     "output_type": "execute_result"
    }
   ],
   "source": [
    "round(diff.ProbGreater(0),2), round(diff.Prob(0),2), round(diff.ProbLess(0),2)"
   ]
  },
  {
   "cell_type": "markdown",
   "metadata": {},
   "source": [
    "- Bruins가 승리할 확률은 0.46, 비길 확률은 0.17, 질 확률은 0.37로 추정할 수 있음"
   ]
  },
  {
   "cell_type": "markdown",
   "metadata": {},
   "source": [
    "___\n",
    "## 6. 서든 데스"
   ]
  },
  {
   "cell_type": "markdown",
   "metadata": {},
   "source": [
    "- 서든데스에서 중요한 통계치는, 골 수가 아니라 골을 넣기까지 걸리는 시간임\n",
    "- 골 수가 Poisson을 따른다면 골간의 시간은 지수함수를 따른다고 볼 수 있음\n",
    "- `thinkbayes.MakeExponentialPmf`를 사용하여 다음과 같이 골 간의 시간을 계산 가능\n",
    "- 2경기 이상 서든데스 갈 확률은 적으므로 high는 2를 가정"
   ]
  },
  {
   "cell_type": "code",
   "execution_count": 55,
   "metadata": {},
   "outputs": [],
   "source": [
    "lam = 3.4\n",
    "time_dist = thinkbayes.MakeExponentialPmf(lam, high = 2, n = 101)"
   ]
  },
  {
   "cell_type": "code",
   "execution_count": 56,
   "metadata": {},
   "outputs": [
    {
     "data": {
      "text/plain": [
       "<matplotlib.axes._subplots.AxesSubplot at 0x214693e4278>"
      ]
     },
     "execution_count": 56,
     "metadata": {},
     "output_type": "execute_result"
    },
    {
     "data": {
      "image/png": "[encoded data removed]",
      "text/plain": [
       "<matplotlib.figure.Figure at 0x21469243208>"
      ]
     },
     "metadata": {},
     "output_type": "display_data"
    }
   ],
   "source": [
    "sns.lineplot(x = list(time_dist.d.keys()), y = list(time_dist.d.values()))"
   ]
  },
  {
   "cell_type": "markdown",
   "metadata": {},
   "source": [
    "- 앞선 예제와 동일하게 가능한 값들의 사후분포만 있기에, 각 값별로 분포를 구해서 혼합분포를 계산"
   ]
  },
  {
   "cell_type": "code",
   "execution_count": 57,
   "metadata": {},
   "outputs": [],
   "source": [
    "def MakeGoalTimePmf(suite):\n",
    "    '''\n",
    "    위의 MakeGoalPmf 참조\n",
    "    '''\n",
    "    \n",
    "    metapmf = thinkbayes.Pmf()\n",
    "\n",
    "    for lam, weight in suite.Items():\n",
    "        pmf = thinkbayes.MakeExponentialPmf(lam, high = 2, n = 2001)\n",
    "        for val, prob in pmf.Items():\n",
    "            metapmf.Incr(val, prob*weight)\n",
    "    \n",
    "        \n",
    "    metapmf.Normalize()\n",
    "    return metapmf"
   ]
  },
  {
   "cell_type": "code",
   "execution_count": 58,
   "metadata": {},
   "outputs": [],
   "source": [
    "bruins_time = MakeGoalTimePmf(bruins)\n",
    "canucks_time = MakeGoalTimePmf(canucks)"
   ]
  },
  {
   "cell_type": "code",
   "execution_count": 68,
   "metadata": {},
   "outputs": [
    {
     "data": {
      "text/plain": [
       "Text(0.5,0,'Game until goal')"
      ]
     },
     "execution_count": 68,
     "metadata": {},
     "output_type": "execute_result"
    },
    {
     "data": {
      "image/png": "[encoded data removed]",
      "text/plain": [
       "<matplotlib.figure.Figure at 0x21468d29ba8>"
      ]
     },
     "metadata": {},
     "output_type": "display_data"
    }
   ],
   "source": [
    "sns.lineplot(x = list(bruins_time.d.keys()), y = list(bruins_time.d.values()), label = 'Bruins')\n",
    "sns.lineplot(x = list(canucks_time.d.keys()), y = list(canucks_time.d.values()), label = 'Canucks')\n",
    "plt.title('Distribution of time between goals\\n')\n",
    "plt.xlabel('Game until goal')"
   ]
  },
  {
   "cell_type": "code",
   "execution_count": 72,
   "metadata": {},
   "outputs": [
    {
     "data": {
      "text/plain": [
       "0.5241042376724303"
      ]
     },
     "execution_count": 72,
     "metadata": {},
     "output_type": "execute_result"
    }
   ],
   "source": [
    "thinkbayes.PmfProbLess(bruins_time, canucks_time)    ## bruins_time이 canucks_time보다 작을 확률"
   ]
  },
  {
   "cell_type": "markdown",
   "metadata": {},
   "source": [
    "- Bruins가 Canucks보다 먼저 골을 넣을 확률은 52%임"
   ]
  },
  {
   "cell_type": "markdown",
   "metadata": {},
   "source": [
    "___\n",
    "- 다음 경기에서 이길 확률은 다음 두 경우로 구분할 수 있음:  \n",
    "    1) 경기 시간 내 이길 확률\n",
    "    ```python\n",
    "    diff.ProbGreater(0)\n",
    "    ```\n",
    "    2) 서든데스에서 이길 확률\n",
    "    ```python\n",
    "    diff.Prob(0) * thinkbayes.PmfProbLess(bruins_time, canucks_time)\n",
    "```"
   ]
  },
  {
   "cell_type": "code",
   "execution_count": 74,
   "metadata": {},
   "outputs": [
    {
     "data": {
      "text/plain": [
       "0.4584444631603826"
      ]
     },
     "execution_count": 74,
     "metadata": {},
     "output_type": "execute_result"
    }
   ],
   "source": [
    "p_win1 = diff.ProbGreater(0)\n",
    "p_win1"
   ]
  },
  {
   "cell_type": "code",
   "execution_count": 75,
   "metadata": {},
   "outputs": [
    {
     "data": {
      "text/plain": [
       "0.09152324406242175"
      ]
     },
     "execution_count": 75,
     "metadata": {},
     "output_type": "execute_result"
    }
   ],
   "source": [
    "p_win2 = diff.Prob(0) * thinkbayes.PmfProbLess(bruins_time, canucks_time)\n",
    "p_win2"
   ]
  },
  {
   "cell_type": "code",
   "execution_count": 78,
   "metadata": {},
   "outputs": [
    {
     "data": {
      "text/plain": [
       "0.5499677072228044"
      ]
     },
     "execution_count": 78,
     "metadata": {},
     "output_type": "execute_result"
    }
   ],
   "source": [
    "p_win = p_win1 + p_win2\n",
    "p_win"
   ]
  },
  {
   "cell_type": "markdown",
   "metadata": {},
   "source": [
    "- Bruins가 다음 경기에서 이길 확률은 약 55.0%로 추정 가능"
   ]
  },
  {
   "cell_type": "markdown",
   "metadata": {},
   "source": [
    "___\n",
    "- 시리즈에서 이길 확률은 다음 두 경우로 구분할 수 있음:  \n",
    "    1) 두경기 먼저 이길 경우\n",
    "    ```python\n",
    "    p_win **2\n",
    "```\n",
    "    2) 한경기 씩 이기고 진 후 마지막 경기를 이기는 경우\n",
    "    ```python\n",
    "    2 * p_win * (1-p_win) * p_win # win-lose-win, lose-win-win\n",
    "```"
   ]
  },
  {
   "cell_type": "code",
   "execution_count": 80,
   "metadata": {},
   "outputs": [
    {
     "data": {
      "text/plain": [
       "0.5747020449130849"
      ]
     },
     "execution_count": 80,
     "metadata": {},
     "output_type": "execute_result"
    }
   ],
   "source": [
    "p_series = p_win**2 + 2* p_win * (1-p_win) * p_win\n",
    "p_series"
   ]
  },
  {
   "cell_type": "markdown",
   "metadata": {},
   "source": [
    "- Bruins가 시리즈에서 이길 확률은 약 57.5% 추정 가능하며, 실제로 2011년 우승 팀은 Bruins 였음"
   ]
  }
 ],
 "metadata": {
  "kernelspec": {
   "display_name": "Python 3",
   "language": "python",
   "name": "python3"
  },
  "language_info": {
   "codemirror_mode": {
    "name": "ipython",
    "version": 3
   },
   "file_extension": ".py",
   "mimetype": "text/x-python",
   "name": "python",
   "nbconvert_exporter": "python",
   "pygments_lexer": "ipython3",
   "version": "3.6.4"
  }
 },
 "nbformat": 4,
 "nbformat_minor": 2
}
