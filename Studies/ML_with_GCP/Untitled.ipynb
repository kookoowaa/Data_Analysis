{
 "cells": [
  {
   "cell_type": "markdown",
   "metadata": {},
   "source": [
    "## Clound ML Engine으로 2층 CNN 학습하기\n",
    "\n",
    "### 사전 준비\n",
    "- ML Engine API 활성화 하기\n",
    "https://console.cloud.google.com/apis/api/ml.googleapis.com/overview\n",
    "- cloudml-magic 확장 프로그램 설치하기\n",
    "- 다음 코드 셀 **!pip install cloudmlmagic**을 실행하고, 노트 세션을 리셋합니다.\n",
    "- **일단은 datalab에서 구동 확인**"
   ]
  },
  {
   "cell_type": "code",
   "execution_count": 2,
   "metadata": {},
   "outputs": [
    {
     "name": "stdout",
     "output_type": "stream",
     "text": [
      "Collecting cloudmlmagic\n",
      "  Downloading https://files.pythonhosted.org/packages/e9/08/3e788722d1f0afdb094ae77481a0da36ffa504028347c9e6a8dbfe7ad80d/cloudmlmagic-0.0.5.tar.gz\n",
      "Collecting google-api-python-client (from cloudmlmagic)\n",
      "  Downloading https://files.pythonhosted.org/packages/56/04/5259a17a16a779426f6e2ac62796135b0d4a59cf8033a21037fd4ba5bf81/google_api_python_client-1.7.4-py3-none-any.whl (55kB)\n",
      "Collecting google-auth>=1.4.1 (from google-api-python-client->cloudmlmagic)\n",
      "  Downloading https://files.pythonhosted.org/packages/24/62/8b9612b1055cfbecd577e252446fe5f939f6818d0b7ddc27bb872f233cd4/google_auth-1.6.1-py2.py3-none-any.whl (68kB)\n",
      "Collecting uritemplate<4dev,>=3.0.0 (from google-api-python-client->cloudmlmagic)\n",
      "  Using cached https://files.pythonhosted.org/packages/e5/7d/9d5a640c4f8bf2c8b1afc015e9a9d8de32e13c9016dcc4b0ec03481fb396/uritemplate-3.0.0-py2.py3-none-any.whl\n",
      "Requirement already satisfied: six<2dev,>=1.6.1 in c:\\programming\\anaconda3\\lib\\site-packages (from google-api-python-client->cloudmlmagic) (1.11.0)\n",
      "Collecting google-auth-httplib2>=0.0.3 (from google-api-python-client->cloudmlmagic)\n",
      "  Downloading https://files.pythonhosted.org/packages/33/49/c814d6d438b823441552198f096fcd0377fd6c88714dbed34f1d3c8c4389/google_auth_httplib2-0.0.3-py2.py3-none-any.whl\n",
      "Collecting httplib2<1dev,>=0.9.2 (from google-api-python-client->cloudmlmagic)\n",
      "  Downloading https://files.pythonhosted.org/packages/ce/ed/803905d670b52fa0edfdd135337e545b4496c2ab3a222f1449b7256eb99f/httplib2-0.12.0.tar.gz (218kB)\n",
      "Collecting rsa>=3.1.4 (from google-auth>=1.4.1->google-api-python-client->cloudmlmagic)\n",
      "  Using cached https://files.pythonhosted.org/packages/02/e5/38518af393f7c214357079ce67a317307936896e961e35450b70fad2a9cf/rsa-4.0-py2.py3-none-any.whl\n",
      "Requirement already satisfied: pyasn1-modules>=0.2.1 in c:\\programming\\anaconda3\\lib\\site-packages (from google-auth>=1.4.1->google-api-python-client->cloudmlmagic) (0.2.2)\n",
      "Collecting cachetools>=2.0.0 (from google-auth>=1.4.1->google-api-python-client->cloudmlmagic)\n",
      "  Downloading https://files.pythonhosted.org/packages/76/7e/08cd3846bebeabb6b1cfc4af8aae649d90249b4aeed080bddb5297f1d73b/cachetools-3.0.0-py2.py3-none-any.whl\n",
      "Requirement already satisfied: pyasn1>=0.1.3 in c:\\programming\\anaconda3\\lib\\site-packages (from rsa>=3.1.4->google-auth>=1.4.1->google-api-python-client->cloudmlmagic) (0.4.4)\n",
      "Building wheels for collected packages: cloudmlmagic, httplib2\n",
      "  Running setup.py bdist_wheel for cloudmlmagic: started\n",
      "  Running setup.py bdist_wheel for cloudmlmagic: finished with status 'done'\n",
      "  Stored in directory: C:\\Users\\박찬우\\AppData\\Local\\pip\\Cache\\wheels\\b2\\55\\88\\fbb2119a451eb8fedac05ac630eeda698f34e29fbfa2b21d86\n",
      "  Running setup.py bdist_wheel for httplib2: started\n",
      "  Running setup.py bdist_wheel for httplib2: finished with status 'done'\n",
      "  Stored in directory: C:\\Users\\박찬우\\AppData\\Local\\pip\\Cache\\wheels\\6d\\41\\4b\\2b369d6e2b7eaebcdd423516d3fb659c7658c16a2be8fd04ec\n",
      "Successfully built cloudmlmagic httplib2\n",
      "Installing collected packages: rsa, cachetools, google-auth, uritemplate, httplib2, google-auth-httplib2, google-api-python-client, cloudmlmagic\n",
      "Successfully installed cachetools-3.0.0 cloudmlmagic-0.0.5 google-api-python-client-1.7.4 google-auth-1.6.1 google-auth-httplib2-0.0.3 httplib2-0.12.0 rsa-4.0 uritemplate-3.0.0\n"
     ]
    }
   ],
   "source": [
    "! pip install cloudmlmagic"
   ]
  },
  {
   "cell_type": "markdown",
   "metadata": {},
   "source": [
    "노트북 세션을 리셋 해 주세요  \n",
    "다음 셀을 리셋 후에 실행해 주세요"
   ]
  },
  {
   "cell_type": "code",
   "execution_count": 3,
   "metadata": {},
   "outputs": [
    {
     "name": "stdout",
     "output_type": "stream",
     "text": [
      "The cloudmlmagic module is not an IPython extension.\n"
     ]
    }
   ],
   "source": [
    "#확장 프로그램 읽어 들이기\n",
    "%load_ext cloudmlmagic"
   ]
  },
  {
   "cell_type": "markdown",
   "metadata": {},
   "source": [
    "- 프로젝트 ID, GCS 버킷을 설명합니다.\n",
    "\n",
    "- <font color=\"red\">**PROJECTID**, **BUCKET**</font>을 변경해주세요."
   ]
  },
  {
   "cell_type": "code",
   "execution_count": 4,
   "metadata": {},
   "outputs": [
    {
     "name": "stderr",
     "output_type": "stream",
     "text": [
      "UsageError: Line magic function `%ml_init` not found.\n"
     ]
    }
   ],
   "source": [
    "%ml_init -projectId PROJECTID -bucket BUCKET -region asia-east1 -scaleTier BASIC_GPU"
   ]
  },
  {
   "cell_type": "markdown",
   "metadata": {},
   "source": [
    "다음 코드는 ML Engine으로 실행됩니다.  \n",
    "일반적으로 몇 분 만에 처리가 끝납니다. 하지만 리소스 확보를 못하면 가끔 오류가 발생하기도 합니다.  \n",
    "이 때는 다시 실행해주세요."
   ]
  },
  {
   "cell_type": "code",
   "execution_count": null,
   "metadata": {},
   "outputs": [],
   "source": [
    "%%ml_run cloud\n",
    "# 이 셀 코드는 ML Engine으로 실행됩니다.\n",
    "\n",
    "import tensorflow as tf\n",
    "from tensorflow.examples.tutorials.mnist import input_data\n",
    "mnist = input_data.read_data_sets(\\\"./mnist/\\\")\n",
    "\n",
    "batch_size = 50\n",
    "\n",
    "with tf.Graph().as_default():\n",
    "    X = tf.placeholder(tf.float32, [None, 784], name='X')\n",
    "    y = tf.placeholder(tf.float32, [None, ], name='y')\n",
    "\n",
    "    X_image = tf.reshape(X, [-1, 28, 28, 1])\n",
    "\n",
    "    # 합성곱층 1번째\n",
    "    conv1 = tf.layers.conv2d(\n",
    "        inputs=X_image,\n",
    "        filters=32,\n",
    "        kernel_size=[5, 5],\n",
    "        padding=\\\"SAME\\\",\n",
    "        activation=tf.nn.relu)\n",
    "\n",
    "    # 풀링층 1번째\n",
    "    pool1 = tf.layers.max_pooling2d(inputs=conv1, pool_size=[2, 2], strides=2)\n",
    " \n",
    "    # 합성곱층 1번째\n",
    "    conv2 = tf.layers.conv2d(\n",
    "        inputs=pool1,\n",
    "        filters=64,\n",
    "        kernel_size=[5, 5],\n",
    "        padding=\\\"SAME\\\",\n",
    "        activation=tf.nn.relu)\n",
    " \n",
    "    # 풀링층 2번째\n",
    "    pool2 = tf.layers.max_pooling2d(inputs=conv2, pool_size=[2, 2], strides=2)\n",
    " \n",
    "    # 전결합층\n",
    "    pool2_flat = tf.reshape(pool2, [-1, 7 * 7 * 64])\n",
    "    dense = tf.layers.dense(\n",
    "        inputs=pool2_flat, units=1024, activation=tf.nn.relu)\n",
    " \n",
    "    # 드롭아웃층\n",
    "    dropout = tf.layers.dropout(\n",
    "        inputs=dense, rate=0.5, training=True)\n",
    " \n",
    "    # 출력층\n",
    "    logits = tf.layers.dense(inputs=dropout, units=10, name='output')\n",
    "    predict = tf.argmax(logits, 1)\n",
    " \n",
    "    # 손실\n",
    "    with tf.name_scope('calc_loss'):\n",
    "        onehot_labels = tf.one_hot(indices=tf.cast(y, tf.int32), depth=10)\n",
    "        cross_entropy = tf.nn.softmax_cross_entropy_with_logits(\n",
    "            labels=onehot_labels, logits=logits, name='xentropy')\n",
    "        loss = tf.reduce_mean(cross_entropy, name='xentropy_mean')\n",
    " \n",
    "    # 손실 최소화 하기\n",
    "    train_op = tf.train.AdamOptimizer(0.0001).minimize(loss)\n",
    " \n",
    "    # 정답률 계산하기\n",
    "    with tf.name_scope('calc_accuracy'):\n",
    "        correct_prediction = tf.equal(\n",
    "            tf.argmax(logits, 1), tf.argmax(onehot_labels, 1))\n",
    "        accuracy = tf.reduce_mean(tf.cast(correct_prediction, tf.float32))\n",
    " \n",
    "    with tf.Session() as sess:\n",
    "        sess.run(tf.global_variables_initializer())\n",
    "        total_batch = int(mnist.train.num_examples // batch_size)\n",
    "        for epoch in range(20):\n",
    "            for step in range(total_batch):\n",
    "                batch_xs, batch_ys = mnist.train.next_batch(batch_size)\n",
    "                _, loss_value = sess.run([train_op, loss],\n",
    "                                         feed_dict={X: batch_xs, y: batch_ys})\n",
    "            print('Step: %d, Loss: %f' % (step, loss_value))\n",
    "    \n",
    "        # test\n",
    "        _a = sess.run(accuracy, feed_dict={\n",
    "                      X: mnist.test.images, y: mnist.test.labels})\n",
    "            print('Accuracy: %f' % _a)"
   ]
  },
  {
   "cell_type": "markdown",
   "metadata": {},
   "source": [
    "결과는 다음 URL에서 확인할 수 있습니다.  \n",
    "https://console.cloud.google.com/mlengine/jobs"
   ]
  },
  {
   "cell_type": "code",
   "execution_count": null,
   "metadata": {},
   "outputs": [],
   "source": []
  }
 ],
 "metadata": {
  "kernelspec": {
   "display_name": "Python 3",
   "language": "python",
   "name": "python3"
  },
  "language_info": {
   "codemirror_mode": {
    "name": "ipython",
    "version": 3
   },
   "file_extension": ".py",
   "mimetype": "text/x-python",
   "name": "python",
   "nbconvert_exporter": "python",
   "pygments_lexer": "ipython3",
   "version": "3.7.0"
  }
 },
 "nbformat": 4,
 "nbformat_minor": 2
}
