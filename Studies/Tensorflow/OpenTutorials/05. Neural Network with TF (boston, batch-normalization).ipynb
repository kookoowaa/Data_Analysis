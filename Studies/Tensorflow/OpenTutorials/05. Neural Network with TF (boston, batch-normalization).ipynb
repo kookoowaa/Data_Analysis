{
 "cells": [
  {
   "cell_type": "code",
   "execution_count": 1,
   "metadata": {},
   "outputs": [],
   "source": [
    "import pandas as pd\n",
    "import tensorflow as tf"
   ]
  },
  {
   "cell_type": "markdown",
   "metadata": {},
   "source": [
    "## 배치 정규화 and/or Batch Normalization\n",
    "- 배치 정규화는 각 층에서 활성화 값이 적당히 분포되도록 조정하는 것을 목표로 함\n",
    "- 각 층 사이에 정규화 함수를 사용하여 (가급적이면 활성화 함수 이전에) 정규화 효과를 극대화\n",
    "- 정규화로 인한 기대 효과는:\n",
    "> 1. 오버피팅을 억제하고,\n",
    "> 2. 학습 속도를 향상 시키고\n",
    "> 3. 학습 효율성도 높임\n",
    "___"
   ]
  },
  {
   "cell_type": "markdown",
   "metadata": {},
   "source": [
    "## 데이터 준비"
   ]
  },
  {
   "cell_type": "code",
   "execution_count": 2,
   "metadata": {},
   "outputs": [],
   "source": [
    "directory = 'https://raw.githubusercontent.com/blackdew/tensorflow1/master/csv/boston.csv'\n",
    "boston = pd.read_csv(directory)"
   ]
  },
  {
   "cell_type": "code",
   "execution_count": 3,
   "metadata": {},
   "outputs": [
    {
     "data": {
      "text/html": [
       "<div>\n",
       "<style scoped>\n",
       "    .dataframe tbody tr th:only-of-type {\n",
       "        vertical-align: middle;\n",
       "    }\n",
       "\n",
       "    .dataframe tbody tr th {\n",
       "        vertical-align: top;\n",
       "    }\n",
       "\n",
       "    .dataframe thead th {\n",
       "        text-align: right;\n",
       "    }\n",
       "</style>\n",
       "<table border=\"1\" class=\"dataframe\">\n",
       "  <thead>\n",
       "    <tr style=\"text-align: right;\">\n",
       "      <th></th>\n",
       "      <th>crim</th>\n",
       "      <th>zn</th>\n",
       "      <th>indus</th>\n",
       "      <th>chas</th>\n",
       "      <th>nox</th>\n",
       "      <th>rm</th>\n",
       "      <th>age</th>\n",
       "      <th>dis</th>\n",
       "      <th>rad</th>\n",
       "      <th>tax</th>\n",
       "      <th>ptratio</th>\n",
       "      <th>b</th>\n",
       "      <th>lstat</th>\n",
       "      <th>medv</th>\n",
       "    </tr>\n",
       "  </thead>\n",
       "  <tbody>\n",
       "    <tr>\n",
       "      <th>0</th>\n",
       "      <td>0.00632</td>\n",
       "      <td>18.0</td>\n",
       "      <td>2.31</td>\n",
       "      <td>0</td>\n",
       "      <td>0.538</td>\n",
       "      <td>6.575</td>\n",
       "      <td>65.2</td>\n",
       "      <td>4.0900</td>\n",
       "      <td>1</td>\n",
       "      <td>296</td>\n",
       "      <td>15.3</td>\n",
       "      <td>396.90</td>\n",
       "      <td>4.98</td>\n",
       "      <td>24.0</td>\n",
       "    </tr>\n",
       "    <tr>\n",
       "      <th>1</th>\n",
       "      <td>0.02731</td>\n",
       "      <td>0.0</td>\n",
       "      <td>7.07</td>\n",
       "      <td>0</td>\n",
       "      <td>0.469</td>\n",
       "      <td>6.421</td>\n",
       "      <td>78.9</td>\n",
       "      <td>4.9671</td>\n",
       "      <td>2</td>\n",
       "      <td>242</td>\n",
       "      <td>17.8</td>\n",
       "      <td>396.90</td>\n",
       "      <td>9.14</td>\n",
       "      <td>21.6</td>\n",
       "    </tr>\n",
       "    <tr>\n",
       "      <th>2</th>\n",
       "      <td>0.02729</td>\n",
       "      <td>0.0</td>\n",
       "      <td>7.07</td>\n",
       "      <td>0</td>\n",
       "      <td>0.469</td>\n",
       "      <td>7.185</td>\n",
       "      <td>61.1</td>\n",
       "      <td>4.9671</td>\n",
       "      <td>2</td>\n",
       "      <td>242</td>\n",
       "      <td>17.8</td>\n",
       "      <td>392.83</td>\n",
       "      <td>4.03</td>\n",
       "      <td>34.7</td>\n",
       "    </tr>\n",
       "    <tr>\n",
       "      <th>3</th>\n",
       "      <td>0.03237</td>\n",
       "      <td>0.0</td>\n",
       "      <td>2.18</td>\n",
       "      <td>0</td>\n",
       "      <td>0.458</td>\n",
       "      <td>6.998</td>\n",
       "      <td>45.8</td>\n",
       "      <td>6.0622</td>\n",
       "      <td>3</td>\n",
       "      <td>222</td>\n",
       "      <td>18.7</td>\n",
       "      <td>394.63</td>\n",
       "      <td>2.94</td>\n",
       "      <td>33.4</td>\n",
       "    </tr>\n",
       "    <tr>\n",
       "      <th>4</th>\n",
       "      <td>0.06905</td>\n",
       "      <td>0.0</td>\n",
       "      <td>2.18</td>\n",
       "      <td>0</td>\n",
       "      <td>0.458</td>\n",
       "      <td>7.147</td>\n",
       "      <td>54.2</td>\n",
       "      <td>6.0622</td>\n",
       "      <td>3</td>\n",
       "      <td>222</td>\n",
       "      <td>18.7</td>\n",
       "      <td>396.90</td>\n",
       "      <td>5.33</td>\n",
       "      <td>36.2</td>\n",
       "    </tr>\n",
       "  </tbody>\n",
       "</table>\n",
       "</div>"
      ],
      "text/plain": [
       "      crim    zn  indus  chas    nox     rm   age     dis  rad  tax  ptratio  \\\n",
       "0  0.00632  18.0   2.31     0  0.538  6.575  65.2  4.0900    1  296     15.3   \n",
       "1  0.02731   0.0   7.07     0  0.469  6.421  78.9  4.9671    2  242     17.8   \n",
       "2  0.02729   0.0   7.07     0  0.469  7.185  61.1  4.9671    2  242     17.8   \n",
       "3  0.03237   0.0   2.18     0  0.458  6.998  45.8  6.0622    3  222     18.7   \n",
       "4  0.06905   0.0   2.18     0  0.458  7.147  54.2  6.0622    3  222     18.7   \n",
       "\n",
       "        b  lstat  medv  \n",
       "0  396.90   4.98  24.0  \n",
       "1  396.90   9.14  21.6  \n",
       "2  392.83   4.03  34.7  \n",
       "3  394.63   2.94  33.4  \n",
       "4  396.90   5.33  36.2  "
      ]
     },
     "execution_count": 3,
     "metadata": {},
     "output_type": "execute_result"
    }
   ],
   "source": [
    "boston.head()"
   ]
  },
  {
   "cell_type": "code",
   "execution_count": 4,
   "metadata": {},
   "outputs": [],
   "source": [
    "ind_var = boston.iloc[:,:-1]\n",
    "dep_var = boston.iloc[:,-1:]"
   ]
  },
  {
   "cell_type": "code",
   "execution_count": 5,
   "metadata": {},
   "outputs": [
    {
     "name": "stdout",
     "output_type": "stream",
     "text": [
      "(506, 13) (506, 1)\n"
     ]
    }
   ],
   "source": [
    "print(ind_var.shape, dep_var.shape)"
   ]
  },
  {
   "cell_type": "markdown",
   "metadata": {},
   "source": [
    "## 모델의 구조 만들기"
   ]
  },
  {
   "cell_type": "code",
   "execution_count": 11,
   "metadata": {},
   "outputs": [],
   "source": [
    "# 3개의 은닉층이 있는 신경망 모델을 다음과 같이 변경\n",
    "#X = tf.keras.layers.Input([13])\n",
    "#H = tf.keras.layers.Dense(5, activation='swish')(X) \n",
    "#H = tf.keras.layers.Dense(5, activation='swish')(H)\n",
    "#H = tf.keras.layers.Dense(5, activation='swish')(H)\n",
    "#y = tf.keras.layers.Dense(1)(H)\n",
    "\n",
    "\n",
    "X = tf.keras.layers.Input([13])\n",
    "### 이하 하나의 은닉층 구성\n",
    "### 기존에는 Dense 함수로 활성화 함수까지 한번에 해결하였으나,\n",
    "### 확성화 단계를 분리하고 중간에 배치정규화 단계을 삽입\n",
    "H1 = tf.keras.layers.Dense(5)(X) \n",
    "H1 = tf.keras.layers.BatchNormalization()(H1)\n",
    "H1 = tf.keras.layers.Activation('swish')(H1) \n",
    "### 은닉층 2\n",
    "H2 = tf.keras.layers.Dense(5)(H1) \n",
    "H2 = tf.keras.layers.BatchNormalization()(H2)\n",
    "H2 = tf.keras.layers.Activation('swish')(H2) \n",
    "### 은닉층 3\n",
    "H3 = tf.keras.layers.Dense(5)(H2) \n",
    "H3 = tf.keras.layers.BatchNormalization()(H3)\n",
    "H3 = tf.keras.layers.Activation('swish')(H3) \n",
    "\n",
    "y = tf.keras.layers.Dense(1)(H3)"
   ]
  },
  {
   "cell_type": "code",
   "execution_count": 12,
   "metadata": {},
   "outputs": [],
   "source": [
    "model = tf.keras.models.Model(X, y)\n",
    "model.compile(loss='mse')"
   ]
  },
  {
   "cell_type": "markdown",
   "metadata": {},
   "source": [
    "## 모델 학습하기"
   ]
  },
  {
   "cell_type": "code",
   "execution_count": 13,
   "metadata": {},
   "outputs": [
    {
     "name": "stdout",
     "output_type": "stream",
     "text": [
      "Epoch 1/10\n",
      "16/16 [==============================] - 0s 997us/step - loss: 14.8014\n",
      "Epoch 2/10\n",
      "16/16 [==============================] - 0s 873us/step - loss: 15.1680\n",
      "Epoch 3/10\n",
      "16/16 [==============================] - 0s 811us/step - loss: 13.9301\n",
      "Epoch 4/10\n",
      "16/16 [==============================] - 0s 748us/step - loss: 14.0738\n",
      "Epoch 5/10\n",
      "16/16 [==============================] - 0s 748us/step - loss: 15.5350\n",
      "Epoch 6/10\n",
      "16/16 [==============================] - 0s 686us/step - loss: 13.4166\n",
      "Epoch 7/10\n",
      "16/16 [==============================] - 0s 686us/step - loss: 12.0875\n",
      "Epoch 8/10\n",
      "16/16 [==============================] - 0s 686us/step - loss: 14.3019\n",
      "Epoch 9/10\n",
      "16/16 [==============================] - 0s 686us/step - loss: 14.4109\n",
      "Epoch 10/10\n",
      "16/16 [==============================] - 0s 748us/step - loss: 13.8509\n"
     ]
    },
    {
     "data": {
      "text/plain": [
       "<tensorflow.python.keras.callbacks.History at 0x1fcd8333ca0>"
      ]
     },
     "execution_count": 13,
     "metadata": {},
     "output_type": "execute_result"
    }
   ],
   "source": [
    "model.fit(ind_var, dep_var, epochs=1000, verbose=0)\n",
    "model.fit(ind_var, dep_var, epochs=10)"
   ]
  },
  {
   "cell_type": "markdown",
   "metadata": {},
   "source": [
    "## 기타 신경망 모델과 성능 비교"
   ]
  },
  {
   "cell_type": "code",
   "execution_count": 14,
   "metadata": {},
   "outputs": [
    {
     "name": "stdout",
     "output_type": "stream",
     "text": [
      "Epoch 1/10\n",
      " 1/16 [>.............................] - ETA: 0s - loss: 17.2962WARNING:tensorflow:Callbacks method `on_train_batch_end` is slow compared to the batch time (batch time: 0.0000s vs `on_train_batch_end` time: 0.0010s). Check your callbacks.\n",
      "16/16 [==============================] - 0s 623us/step - loss: 27.3344\n",
      "Epoch 2/10\n",
      "16/16 [==============================] - 0s 748us/step - loss: 27.6151\n",
      "Epoch 3/10\n",
      "16/16 [==============================] - 0s 748us/step - loss: 27.4164\n",
      "Epoch 4/10\n",
      "16/16 [==============================] - 0s 748us/step - loss: 27.2049\n",
      "Epoch 5/10\n",
      "16/16 [==============================] - 0s 686us/step - loss: 26.9364\n",
      "Epoch 6/10\n",
      "16/16 [==============================] - 0s 561us/step - loss: 27.6076\n",
      "Epoch 7/10\n",
      "16/16 [==============================] - 0s 561us/step - loss: 27.1145\n",
      "Epoch 8/10\n",
      "16/16 [==============================] - 0s 499us/step - loss: 27.4070\n",
      "Epoch 9/10\n",
      "16/16 [==============================] - 0s 561us/step - loss: 27.1861\n",
      "Epoch 10/10\n",
      "16/16 [==============================] - 0s 624us/step - loss: 27.6177\n"
     ]
    },
    {
     "data": {
      "text/plain": [
       "<tensorflow.python.keras.callbacks.History at 0x1fcd5a86130>"
      ]
     },
     "execution_count": 14,
     "metadata": {},
     "output_type": "execute_result"
    }
   ],
   "source": [
    "## 단층\n",
    "X = tf.keras.layers.Input([13])\n",
    "y = tf.keras.layers.Dense(1)(X)\n",
    "model2 = tf.keras.models.Model(X, y)\n",
    "model2.compile(loss='mse')\n",
    "model2.fit(ind_var, dep_var, epochs=1000, verbose=0)\n",
    "model2.fit(ind_var, dep_var, epochs=10)"
   ]
  },
  {
   "cell_type": "code",
   "execution_count": 15,
   "metadata": {},
   "outputs": [
    {
     "name": "stdout",
     "output_type": "stream",
     "text": [
      "Epoch 1/10\n",
      "16/16 [==============================] - 0s 686us/step - loss: 17.2474\n",
      "Epoch 2/10\n",
      "16/16 [==============================] - 0s 748us/step - loss: 16.7583\n",
      "Epoch 3/10\n",
      "16/16 [==============================] - 0s 810us/step - loss: 17.4714\n",
      "Epoch 4/10\n",
      "16/16 [==============================] - 0s 810us/step - loss: 17.0718\n",
      "Epoch 5/10\n",
      "16/16 [==============================] - 0s 748us/step - loss: 16.6776\n",
      "Epoch 6/10\n",
      "16/16 [==============================] - 0s 623us/step - loss: 17.2957\n",
      "Epoch 7/10\n",
      "16/16 [==============================] - 0s 685us/step - loss: 16.8425\n",
      "Epoch 8/10\n",
      "16/16 [==============================] - 0s 623us/step - loss: 17.1420\n",
      "Epoch 9/10\n",
      "16/16 [==============================] - 0s 499us/step - loss: 16.5484\n",
      "Epoch 10/10\n",
      "16/16 [==============================] - 0s 623us/step - loss: 16.9835\n"
     ]
    },
    {
     "data": {
      "text/plain": [
       "<tensorflow.python.keras.callbacks.History at 0x1fcd9940700>"
      ]
     },
     "execution_count": 15,
     "metadata": {},
     "output_type": "execute_result"
    }
   ],
   "source": [
    "## 다층 (3)\n",
    "X = tf.keras.layers.Input([13])\n",
    "H = tf.keras.layers.Dense(5, activation='swish')(X)\n",
    "H = tf.keras.layers.Dense(5, activation='swish')(H) \n",
    "H = tf.keras.layers.Dense(5, activation='swish')(H) \n",
    "y = tf.keras.layers.Dense(1)(H)\n",
    "model3 = tf.keras.models.Model(X, y)\n",
    "model3.compile(loss='mse')\n",
    "model3.fit(ind_var, dep_var, epochs=1000, verbose=0)\n",
    "model3.fit(ind_var, dep_var, epochs=10)"
   ]
  },
  {
   "cell_type": "markdown",
   "metadata": {},
   "source": [
    "- 각각 loss를 살펴보면 근소하지만, 정규화 모델이 우수한 결과를 보여주는 것을 확인 가능\n",
    "> 1. 단층: 27.6\n",
    "> 2. 다층(3): 17.0\n",
    "> 3. 다층 정규화(3): 13.9"
   ]
  }
 ],
 "metadata": {
  "kernelspec": {
   "display_name": "Python 3",
   "language": "python",
   "name": "python3"
  },
  "language_info": {
   "codemirror_mode": {
    "name": "ipython",
    "version": 3
   },
   "file_extension": ".py",
   "mimetype": "text/x-python",
   "name": "python",
   "nbconvert_exporter": "python",
   "pygments_lexer": "ipython3",
   "version": "3.8.3"
  }
 },
 "nbformat": 4,
 "nbformat_minor": 4
}
