{
 "cells": [
  {
   "cell_type": "code",
   "execution_count": 1,
   "metadata": {},
   "outputs": [],
   "source": [
    "import pandas as pd\n",
    "import tensorflow as tf"
   ]
  },
  {
   "cell_type": "markdown",
   "metadata": {},
   "source": [
    "## 딥러닝 Hidden layer\n",
    "\n",
    "- 기존의 단층 신경망에서 **출력 값**을 바로 이어서 **입력 값**으로 받는 여러개의 단층 신경망 구조\n",
    "- 중간의 신경망들은 사실상 잘 드러나지 않다보니 이를 은닉층이라고 지칭\n",
    "![](fig/Hidden_layer.png)\n",
    "___"
   ]
  },
  {
   "cell_type": "markdown",
   "metadata": {},
   "source": [
    "## 데이터 준비"
   ]
  },
  {
   "cell_type": "code",
   "execution_count": 2,
   "metadata": {},
   "outputs": [],
   "source": [
    "directory = 'https://raw.githubusercontent.com/blackdew/tensorflow1/master/csv/boston.csv'\n",
    "boston = pd.read_csv(directory)"
   ]
  },
  {
   "cell_type": "code",
   "execution_count": 3,
   "metadata": {},
   "outputs": [
    {
     "data": {
      "text/html": [
       "<div>\n",
       "<style scoped>\n",
       "    .dataframe tbody tr th:only-of-type {\n",
       "        vertical-align: middle;\n",
       "    }\n",
       "\n",
       "    .dataframe tbody tr th {\n",
       "        vertical-align: top;\n",
       "    }\n",
       "\n",
       "    .dataframe thead th {\n",
       "        text-align: right;\n",
       "    }\n",
       "</style>\n",
       "<table border=\"1\" class=\"dataframe\">\n",
       "  <thead>\n",
       "    <tr style=\"text-align: right;\">\n",
       "      <th></th>\n",
       "      <th>crim</th>\n",
       "      <th>zn</th>\n",
       "      <th>indus</th>\n",
       "      <th>chas</th>\n",
       "      <th>nox</th>\n",
       "      <th>rm</th>\n",
       "      <th>age</th>\n",
       "      <th>dis</th>\n",
       "      <th>rad</th>\n",
       "      <th>tax</th>\n",
       "      <th>ptratio</th>\n",
       "      <th>b</th>\n",
       "      <th>lstat</th>\n",
       "      <th>medv</th>\n",
       "    </tr>\n",
       "  </thead>\n",
       "  <tbody>\n",
       "    <tr>\n",
       "      <th>0</th>\n",
       "      <td>0.00632</td>\n",
       "      <td>18.0</td>\n",
       "      <td>2.31</td>\n",
       "      <td>0</td>\n",
       "      <td>0.538</td>\n",
       "      <td>6.575</td>\n",
       "      <td>65.2</td>\n",
       "      <td>4.0900</td>\n",
       "      <td>1</td>\n",
       "      <td>296</td>\n",
       "      <td>15.3</td>\n",
       "      <td>396.90</td>\n",
       "      <td>4.98</td>\n",
       "      <td>24.0</td>\n",
       "    </tr>\n",
       "    <tr>\n",
       "      <th>1</th>\n",
       "      <td>0.02731</td>\n",
       "      <td>0.0</td>\n",
       "      <td>7.07</td>\n",
       "      <td>0</td>\n",
       "      <td>0.469</td>\n",
       "      <td>6.421</td>\n",
       "      <td>78.9</td>\n",
       "      <td>4.9671</td>\n",
       "      <td>2</td>\n",
       "      <td>242</td>\n",
       "      <td>17.8</td>\n",
       "      <td>396.90</td>\n",
       "      <td>9.14</td>\n",
       "      <td>21.6</td>\n",
       "    </tr>\n",
       "    <tr>\n",
       "      <th>2</th>\n",
       "      <td>0.02729</td>\n",
       "      <td>0.0</td>\n",
       "      <td>7.07</td>\n",
       "      <td>0</td>\n",
       "      <td>0.469</td>\n",
       "      <td>7.185</td>\n",
       "      <td>61.1</td>\n",
       "      <td>4.9671</td>\n",
       "      <td>2</td>\n",
       "      <td>242</td>\n",
       "      <td>17.8</td>\n",
       "      <td>392.83</td>\n",
       "      <td>4.03</td>\n",
       "      <td>34.7</td>\n",
       "    </tr>\n",
       "    <tr>\n",
       "      <th>3</th>\n",
       "      <td>0.03237</td>\n",
       "      <td>0.0</td>\n",
       "      <td>2.18</td>\n",
       "      <td>0</td>\n",
       "      <td>0.458</td>\n",
       "      <td>6.998</td>\n",
       "      <td>45.8</td>\n",
       "      <td>6.0622</td>\n",
       "      <td>3</td>\n",
       "      <td>222</td>\n",
       "      <td>18.7</td>\n",
       "      <td>394.63</td>\n",
       "      <td>2.94</td>\n",
       "      <td>33.4</td>\n",
       "    </tr>\n",
       "    <tr>\n",
       "      <th>4</th>\n",
       "      <td>0.06905</td>\n",
       "      <td>0.0</td>\n",
       "      <td>2.18</td>\n",
       "      <td>0</td>\n",
       "      <td>0.458</td>\n",
       "      <td>7.147</td>\n",
       "      <td>54.2</td>\n",
       "      <td>6.0622</td>\n",
       "      <td>3</td>\n",
       "      <td>222</td>\n",
       "      <td>18.7</td>\n",
       "      <td>396.90</td>\n",
       "      <td>5.33</td>\n",
       "      <td>36.2</td>\n",
       "    </tr>\n",
       "  </tbody>\n",
       "</table>\n",
       "</div>"
      ],
      "text/plain": [
       "      crim    zn  indus  chas    nox     rm   age     dis  rad  tax  ptratio  \\\n",
       "0  0.00632  18.0   2.31     0  0.538  6.575  65.2  4.0900    1  296     15.3   \n",
       "1  0.02731   0.0   7.07     0  0.469  6.421  78.9  4.9671    2  242     17.8   \n",
       "2  0.02729   0.0   7.07     0  0.469  7.185  61.1  4.9671    2  242     17.8   \n",
       "3  0.03237   0.0   2.18     0  0.458  6.998  45.8  6.0622    3  222     18.7   \n",
       "4  0.06905   0.0   2.18     0  0.458  7.147  54.2  6.0622    3  222     18.7   \n",
       "\n",
       "        b  lstat  medv  \n",
       "0  396.90   4.98  24.0  \n",
       "1  396.90   9.14  21.6  \n",
       "2  392.83   4.03  34.7  \n",
       "3  394.63   2.94  33.4  \n",
       "4  396.90   5.33  36.2  "
      ]
     },
     "execution_count": 3,
     "metadata": {},
     "output_type": "execute_result"
    }
   ],
   "source": [
    "boston.head()"
   ]
  },
  {
   "cell_type": "code",
   "execution_count": 5,
   "metadata": {},
   "outputs": [],
   "source": [
    "ind_var = boston.iloc[:,:-1]\n",
    "dep_var = boston.iloc[:,-1:]"
   ]
  },
  {
   "cell_type": "code",
   "execution_count": 6,
   "metadata": {},
   "outputs": [
    {
     "name": "stdout",
     "output_type": "stream",
     "text": [
      "(506, 13) (506, 1)\n"
     ]
    }
   ],
   "source": [
    "print(ind_var.shape, dep_var.shape)"
   ]
  },
  {
   "cell_type": "markdown",
   "metadata": {},
   "source": [
    "## 모델의 구조 만들기"
   ]
  },
  {
   "cell_type": "code",
   "execution_count": 7,
   "metadata": {},
   "outputs": [],
   "source": [
    "#아래 코드를 다음과 같이 변경\n",
    "#X = tf.keras.layers.Input([13])\n",
    "#y = tf.keras.layers.Dense(1)(X)\n",
    "\n",
    "X = tf.keras.layers.Input([13])\n",
    "H = tf.keras.layers.Dense(5, activation='swish')(X) #5 = 은닉층의 perceptron 갯수\n",
    "y = tf.keras.layers.Dense(1)(H) #Input 값을 X에서 H로 변경"
   ]
  },
  {
   "cell_type": "markdown",
   "metadata": {},
   "source": [
    "- `swish` 함수는 `ReLU`에서 변형된 activation 함수로, 최근 좋은 성능으로 주목받고 있음\n",
    "- 기타 함수로는 `ReLU`, `Sigmoid`, `Softmax` 등이 있음"
   ]
  },
  {
   "cell_type": "code",
   "execution_count": 8,
   "metadata": {},
   "outputs": [],
   "source": [
    "model = tf.keras.models.Model(X, y)\n",
    "model.compile(loss='mse')"
   ]
  },
  {
   "cell_type": "markdown",
   "metadata": {},
   "source": [
    "## 모델 학습하기"
   ]
  },
  {
   "cell_type": "code",
   "execution_count": 12,
   "metadata": {},
   "outputs": [
    {
     "name": "stdout",
     "output_type": "stream",
     "text": [
      "Epoch 1/10\n",
      "16/16 [==============================] - 0s 810us/step - loss: 23.5045\n",
      "Epoch 2/10\n",
      "16/16 [==============================] - 0s 1ms/step - loss: 22.2645\n",
      "Epoch 3/10\n",
      "16/16 [==============================] - 0s 873us/step - loss: 24.2757\n",
      "Epoch 4/10\n",
      "16/16 [==============================] - 0s 873us/step - loss: 23.0770\n",
      "Epoch 5/10\n",
      "16/16 [==============================] - 0s 873us/step - loss: 21.8883\n",
      "Epoch 6/10\n",
      "16/16 [==============================] - 0s 686us/step - loss: 22.4812\n",
      "Epoch 7/10\n",
      "16/16 [==============================] - 0s 748us/step - loss: 21.9173\n",
      "Epoch 8/10\n",
      "16/16 [==============================] - 0s 810us/step - loss: 22.6905\n",
      "Epoch 9/10\n",
      "16/16 [==============================] - 0s 873us/step - loss: 23.5971\n",
      "Epoch 10/10\n",
      "16/16 [==============================] - 0s 873us/step - loss: 22.3279\n"
     ]
    },
    {
     "data": {
      "text/plain": [
       "<tensorflow.python.keras.callbacks.History at 0x2b47da6ddf0>"
      ]
     },
     "execution_count": 12,
     "metadata": {},
     "output_type": "execute_result"
    }
   ],
   "source": [
    "model.fit(ind_var, dep_var, epochs=1000, verbose=0)\n",
    "model.fit(ind_var, dep_var, epochs=10)"
   ]
  },
  {
   "cell_type": "markdown",
   "metadata": {},
   "source": [
    "## 기타 신경망 모델과 성능 비교"
   ]
  },
  {
   "cell_type": "code",
   "execution_count": 14,
   "metadata": {},
   "outputs": [
    {
     "name": "stdout",
     "output_type": "stream",
     "text": [
      "Epoch 1/10\n",
      "16/16 [==============================] - 0s 624us/step - loss: 26.7896\n",
      "Epoch 2/10\n",
      "16/16 [==============================] - 0s 623us/step - loss: 26.9838\n",
      "Epoch 3/10\n",
      "16/16 [==============================] - 0s 686us/step - loss: 27.2461\n",
      "Epoch 4/10\n",
      "16/16 [==============================] - 0s 686us/step - loss: 27.1200\n",
      "Epoch 5/10\n",
      "16/16 [==============================] - 0s 686us/step - loss: 27.0661\n",
      "Epoch 6/10\n",
      "16/16 [==============================] - 0s 623us/step - loss: 27.1052\n",
      "Epoch 7/10\n",
      "16/16 [==============================] - 0s 686us/step - loss: 26.5555\n",
      "Epoch 8/10\n",
      "16/16 [==============================] - 0s 686us/step - loss: 26.7189\n",
      "Epoch 9/10\n",
      "16/16 [==============================] - 0s 686us/step - loss: 27.2970\n",
      "Epoch 10/10\n",
      "16/16 [==============================] - 0s 561us/step - loss: 27.4429\n"
     ]
    },
    {
     "data": {
      "text/plain": [
       "<tensorflow.python.keras.callbacks.History at 0x2b47db42b20>"
      ]
     },
     "execution_count": 14,
     "metadata": {},
     "output_type": "execute_result"
    }
   ],
   "source": [
    "## 단층\n",
    "X = tf.keras.layers.Input([13])\n",
    "y = tf.keras.layers.Dense(1)(X)\n",
    "model2 = tf.keras.models.Model(X, y)\n",
    "model2.compile(loss='mse')\n",
    "model2.fit(ind_var, dep_var, epochs=1000, verbose=0)\n",
    "model2.fit(ind_var, dep_var, epochs=10)"
   ]
  },
  {
   "cell_type": "code",
   "execution_count": 16,
   "metadata": {},
   "outputs": [
    {
     "name": "stdout",
     "output_type": "stream",
     "text": [
      "Epoch 1/10\n",
      "16/16 [==============================] - 0s 686us/step - loss: 14.7875\n",
      "Epoch 2/10\n",
      "16/16 [==============================] - 0s 997us/step - loss: 14.4020\n",
      "Epoch 3/10\n",
      "16/16 [==============================] - 0s 935us/step - loss: 14.3902\n",
      "Epoch 4/10\n",
      "16/16 [==============================] - 0s 873us/step - loss: 14.6678\n",
      "Epoch 5/10\n",
      "16/16 [==============================] - 0s 686us/step - loss: 14.8079\n",
      "Epoch 6/10\n",
      "16/16 [==============================] - 0s 686us/step - loss: 14.8110\n",
      "Epoch 7/10\n",
      "16/16 [==============================] - 0s 499us/step - loss: 14.4358\n",
      "Epoch 8/10\n",
      "16/16 [==============================] - 0s 623us/step - loss: 15.3664\n",
      "Epoch 9/10\n",
      "16/16 [==============================] - 0s 561us/step - loss: 14.7162\n",
      "Epoch 10/10\n",
      "16/16 [==============================] - 0s 686us/step - loss: 14.2125\n"
     ]
    },
    {
     "data": {
      "text/plain": [
       "<tensorflow.python.keras.callbacks.History at 0x2b47eeb7910>"
      ]
     },
     "execution_count": 16,
     "metadata": {},
     "output_type": "execute_result"
    }
   ],
   "source": [
    "## 다층 (3)\n",
    "X = tf.keras.layers.Input([13])\n",
    "H = tf.keras.layers.Dense(5, activation='swish')(X)\n",
    "H = tf.keras.layers.Dense(5, activation='swish')(H) \n",
    "H = tf.keras.layers.Dense(5, activation='swish')(H) \n",
    "y = tf.keras.layers.Dense(1)(H)\n",
    "model3 = tf.keras.models.Model(X, y)\n",
    "model3.compile(loss='mse')\n",
    "model3.fit(ind_var, dep_var, epochs=1000, verbose=0)\n",
    "model3.fit(ind_var, dep_var, epochs=10)"
   ]
  },
  {
   "cell_type": "markdown",
   "metadata": {},
   "source": [
    "- 단층 신경망의 경우 동일 횟수로 학습하였을 때 loss가 약 27로, 하나의 hidden layer가 있을 때 보다 더 정교한 모델임을 나타냄\n",
    "- 3개의 hidden layer가 있을 경우에는 loss가 약 14로 주어진 데이터에 더 적합한 모델을 학습"
   ]
  }
 ],
 "metadata": {
  "kernelspec": {
   "display_name": "Python 3",
   "language": "python",
   "name": "python3"
  },
  "language_info": {
   "codemirror_mode": {
    "name": "ipython",
    "version": 3
   },
   "file_extension": ".py",
   "mimetype": "text/x-python",
   "name": "python",
   "nbconvert_exporter": "python",
   "pygments_lexer": "ipython3",
   "version": "3.8.3"
  }
 },
 "nbformat": 4,
 "nbformat_minor": 4
}
