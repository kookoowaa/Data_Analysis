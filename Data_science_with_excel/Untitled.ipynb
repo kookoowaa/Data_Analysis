{
 "cells": [
  {
   "cell_type": "code",
   "execution_count": 1,
   "metadata": {},
   "outputs": [
    {
     "data": {
      "text/html": [
       "<div>\n",
       "<style scoped>\n",
       "    .dataframe tbody tr th:only-of-type {\n",
       "        vertical-align: middle;\n",
       "    }\n",
       "\n",
       "    .dataframe tbody tr th {\n",
       "        vertical-align: top;\n",
       "    }\n",
       "\n",
       "    .dataframe thead th {\n",
       "        text-align: right;\n",
       "    }\n",
       "</style>\n",
       "<table border=\"1\" class=\"dataframe\">\n",
       "  <thead>\n",
       "    <tr style=\"text-align: right;\">\n",
       "      <th></th>\n",
       "      <th>No.</th>\n",
       "      <th>Day</th>\n",
       "      <th>DD</th>\n",
       "      <th>MMM</th>\n",
       "      <th>YYYY</th>\n",
       "      <th>N1</th>\n",
       "      <th>N2</th>\n",
       "      <th>N3</th>\n",
       "      <th>N4</th>\n",
       "      <th>N5</th>\n",
       "      <th>L1</th>\n",
       "      <th>L2</th>\n",
       "      <th>Jackpot</th>\n",
       "      <th>Wins</th>\n",
       "    </tr>\n",
       "  </thead>\n",
       "  <tbody>\n",
       "    <tr>\n",
       "      <th>103</th>\n",
       "      <td>1149</td>\n",
       "      <td>Tue</td>\n",
       "      <td>25</td>\n",
       "      <td>Sep</td>\n",
       "      <td>2018</td>\n",
       "      <td>38</td>\n",
       "      <td>6</td>\n",
       "      <td>20</td>\n",
       "      <td>30</td>\n",
       "      <td>15</td>\n",
       "      <td>4</td>\n",
       "      <td>7</td>\n",
       "      <td>124411811</td>\n",
       "      <td>0</td>\n",
       "    </tr>\n",
       "    <tr>\n",
       "      <th>935</th>\n",
       "      <td>317</td>\n",
       "      <td>Fri</td>\n",
       "      <td>5</td>\n",
       "      <td>Mar</td>\n",
       "      <td>2010</td>\n",
       "      <td>19</td>\n",
       "      <td>18</td>\n",
       "      <td>49</td>\n",
       "      <td>12</td>\n",
       "      <td>43</td>\n",
       "      <td>9</td>\n",
       "      <td>3</td>\n",
       "      <td>41706216</td>\n",
       "      <td>1</td>\n",
       "    </tr>\n",
       "    <tr>\n",
       "      <th>283</th>\n",
       "      <td>969</td>\n",
       "      <td>Tue</td>\n",
       "      <td>3</td>\n",
       "      <td>Jan</td>\n",
       "      <td>2017</td>\n",
       "      <td>34</td>\n",
       "      <td>27</td>\n",
       "      <td>49</td>\n",
       "      <td>23</td>\n",
       "      <td>19</td>\n",
       "      <td>11</td>\n",
       "      <td>1</td>\n",
       "      <td>21591336</td>\n",
       "      <td>0</td>\n",
       "    </tr>\n",
       "    <tr>\n",
       "      <th>709</th>\n",
       "      <td>543</td>\n",
       "      <td>Tue</td>\n",
       "      <td>4</td>\n",
       "      <td>Dec</td>\n",
       "      <td>2012</td>\n",
       "      <td>29</td>\n",
       "      <td>5</td>\n",
       "      <td>28</td>\n",
       "      <td>44</td>\n",
       "      <td>10</td>\n",
       "      <td>2</td>\n",
       "      <td>4</td>\n",
       "      <td>34505412</td>\n",
       "      <td>0</td>\n",
       "    </tr>\n",
       "    <tr>\n",
       "      <th>468</th>\n",
       "      <td>784</td>\n",
       "      <td>Fri</td>\n",
       "      <td>27</td>\n",
       "      <td>Mar</td>\n",
       "      <td>2015</td>\n",
       "      <td>30</td>\n",
       "      <td>39</td>\n",
       "      <td>32</td>\n",
       "      <td>44</td>\n",
       "      <td>2</td>\n",
       "      <td>10</td>\n",
       "      <td>6</td>\n",
       "      <td>47673633</td>\n",
       "      <td>0</td>\n",
       "    </tr>\n",
       "  </tbody>\n",
       "</table>\n",
       "</div>"
      ],
      "text/plain": [
       "      No.   Day  DD  MMM  YYYY   N1  N2  N3  N4  N5  L1  L2    Jackpot  \\\n",
       "103  1149   Tue  25  Sep  2018   38   6  20  30  15   4   7  124411811   \n",
       "935   317   Fri   5  Mar  2010   19  18  49  12  43   9   3   41706216   \n",
       "283   969   Tue   3  Jan  2017   34  27  49  23  19  11   1   21591336   \n",
       "709   543   Tue   4  Dec  2012   29   5  28  44  10   2   4   34505412   \n",
       "468   784   Fri  27  Mar  2015   30  39  32  44   2  10   6   47673633   \n",
       "\n",
       "        Wins  \n",
       "103        0  \n",
       "935        1  \n",
       "283        0  \n",
       "709        0  \n",
       "468        0  "
      ]
     },
     "execution_count": 1,
     "metadata": {},
     "output_type": "execute_result"
    }
   ],
   "source": [
    "import pandas as pd\n",
    "import xlwings as xw\n",
    "df = pd.read_csv(r'C:\\Users\\chpar10\\Downloads\\euromillions.csv')\n",
    "df.sample(5)"
   ]
  },
  {
   "cell_type": "code",
   "execution_count": 10,
   "metadata": {},
   "outputs": [],
   "source": [
    "wb = xw.Book()"
   ]
  },
  {
   "cell_type": "code",
   "execution_count": 12,
   "metadata": {},
   "outputs": [
    {
     "name": "stdout",
     "output_type": "stream",
     "text": [
      "Apps([<Excel App 76>])\n"
     ]
    }
   ],
   "source": [
    "print(xw.apps)"
   ]
  },
  {
   "cell_type": "code",
   "execution_count": 14,
   "metadata": {},
   "outputs": [
    {
     "name": "stdout",
     "output_type": "stream",
     "text": [
      "True\n"
     ]
    }
   ],
   "source": [
    "#creates a worksheet object assigns it to ws\n",
    "ws = wb.sheets[\"Sheet1\"]\n",
    "#checks that wb.sheets[0] equals ws\n",
    "print(ws == wb.sheets[0])"
   ]
  },
  {
   "cell_type": "code",
   "execution_count": 16,
   "metadata": {},
   "outputs": [],
   "source": [
    "ws.name = \"EuroMillions\"\n",
    "ws.range(\"A1\").value = df"
   ]
  },
  {
   "cell_type": "code",
   "execution_count": 20,
   "metadata": {},
   "outputs": [],
   "source": [
    "ws.clear_contents()\n",
    "ws.range(\"A1\").options(index=False).value = df"
   ]
  },
  {
   "cell_type": "code",
   "execution_count": 21,
   "metadata": {},
   "outputs": [
    {
     "name": "stdout",
     "output_type": "stream",
     "text": [
      "The last row is 1253.\n",
      "The DataFrame df has 1252 rows.\n"
     ]
    }
   ],
   "source": [
    "last_row = ws.range(1,1).end('down').row\n",
    "print(\"The last row is {row}.\".format(row=last_row))\n",
    "print(\"The DataFrame df has {rows} rows.\".format(rows=df.shape[0]))"
   ]
  },
  {
   "cell_type": "code",
   "execution_count": 22,
   "metadata": {},
   "outputs": [
    {
     "data": {
      "text/plain": [
       "True"
      ]
     },
     "execution_count": 22,
     "metadata": {},
     "output_type": "execute_result"
    }
   ],
   "source": [
    "ws.range(\n",
    "\"A2:N{row}\".format(row=last_row)\n",
    ").api.Sort(Key1=ws.range(\"A:A\").api, Order1=1)"
   ]
  },
  {
   "cell_type": "code",
   "execution_count": 23,
   "metadata": {},
   "outputs": [],
   "source": [
    "ws.range(\"O1\").value = \"Date\""
   ]
  },
  {
   "cell_type": "code",
   "execution_count": 24,
   "metadata": {},
   "outputs": [],
   "source": [
    "ws.range(\"O2\").value = \"=C2&D2&RIGHT(E2, 2)\""
   ]
  },
  {
   "cell_type": "code",
   "execution_count": 25,
   "metadata": {},
   "outputs": [
    {
     "data": {
      "text/plain": [
       "True"
      ]
     },
     "execution_count": 25,
     "metadata": {},
     "output_type": "execute_result"
    }
   ],
   "source": [
    "ws.range(\"O2\").api.AutoFill(\n",
    "ws.range(\"O2:O{row}\".format(row=last_row)).api,\n",
    "0\n",
    ")"
   ]
  },
  {
   "cell_type": "code",
   "execution_count": 26,
   "metadata": {},
   "outputs": [
    {
     "data": {
      "text/plain": [
       "True"
      ]
     },
     "execution_count": 26,
     "metadata": {},
     "output_type": "execute_result"
    }
   ],
   "source": [
    "from xlwings.constants import AutoFillType\n",
    "\n",
    "ws.range(\"O2\").api.AutoFill(\n",
    "ws.range(\"O2:O{row}\".format(row=last_row)).api,\n",
    "    AutoFillType.xlFillDefault\n",
    ")"
   ]
  },
  {
   "cell_type": "code",
   "execution_count": 29,
   "metadata": {},
   "outputs": [
    {
     "name": "stdout",
     "output_type": "stream",
     "text": [
      "O2\n",
      "O$2\n",
      "$O2\n",
      "$O$2\n",
      "EuroMillions!O2\n",
      "EuroMillions!O$2\n",
      "EuroMillions!$O2\n",
      "EuroMillions!$O$2\n",
      "[Book2]EuroMillions!O2\n",
      "[Book2]EuroMillions!O$2\n",
      "[Book2]EuroMillions!$O2\n",
      "[Book2]EuroMillions!$O$2\n",
      "[Book2]EuroMillions!O2\n",
      "[Book2]EuroMillions!O$2\n",
      "[Book2]EuroMillions!$O2\n",
      "[Book2]EuroMillions!$O$2\n"
     ]
    }
   ],
   "source": [
    "for arg4 in (0, 1):\n",
    "    for arg3 in (0,1):\n",
    "        for arg2 in (0,1):\n",
    "            for arg1 in (0,1):\n",
    "                print(ws.range(\"O2\").get_address(arg1, arg2, arg3, arg4))"
   ]
  },
  {
   "cell_type": "code",
   "execution_count": 31,
   "metadata": {},
   "outputs": [],
   "source": [
    "def autofill(worksheet, cell, last_row):\n",
    "    rg_cell = worksheet.range(cell)\n",
    "    to_fill = \"{col}{top_row}:{col}{last_row}\".format(\n",
    "      col=rg_cell.get_address(0,0)[0],\n",
    "      top_row=rg_cell.row,\n",
    "      last_row=last_row\n",
    "    )\n",
    "    rg_cell.api.Autofill(worksheet.range(to_fill).api, 0)"
   ]
  },
  {
   "cell_type": "code",
   "execution_count": 32,
   "metadata": {},
   "outputs": [
    {
     "name": "stdout",
     "output_type": "stream",
     "text": [
      "<class 'list'>\n"
     ]
    }
   ],
   "source": [
    "print(type(ws.range(\"O2:O{row}\".format(row=last_row)).value))"
   ]
  },
  {
   "cell_type": "code",
   "execution_count": 33,
   "metadata": {},
   "outputs": [
    {
     "name": "stdout",
     "output_type": "stream",
     "text": [
      "['13Feb04', '20Feb04', '27Feb04', '5Mar04', '12Mar04', '19Mar04', '26Mar04', '2Apr04', '9Apr04', '16Apr04']\n"
     ]
    }
   ],
   "source": [
    "print(ws.range('O2:O{row}'.format(row=last_row)).value[:10])"
   ]
  },
  {
   "cell_type": "code",
   "execution_count": 34,
   "metadata": {},
   "outputs": [
    {
     "data": {
      "text/plain": [
       "True"
      ]
     },
     "execution_count": 34,
     "metadata": {},
     "output_type": "execute_result"
    }
   ],
   "source": [
    "ws.range('O2').options(transpose=True).value\\\n",
    "= ws.range('O2:O{row}'.format(row=last_row)).value\n",
    "ws.range('C:E').api.Delete()"
   ]
  },
  {
   "cell_type": "code",
   "execution_count": 35,
   "metadata": {},
   "outputs": [],
   "source": [
    "import datetime\n",
    "\n",
    "for day in ws.range('L2:L{}'.format(last_row)):\n",
    "# checks if day is not prior to the change of the rules\n",
    "    if day.value <= datetime.datetime(2016, 9, 24, 0, 0):\n",
    "        # since day is past the modification date,\n",
    "        # the row we want is the previous one, hence minus 1\n",
    "        to_delete = int(day.get_address(0, 0)[1:])-1\n",
    "        # leave the for cycle\n",
    "        break"
   ]
  },
  {
   "cell_type": "code",
   "execution_count": 36,
   "metadata": {},
   "outputs": [
    {
     "data": {
      "text/plain": [
       "True"
      ]
     },
     "execution_count": 36,
     "metadata": {},
     "output_type": "execute_result"
    }
   ],
   "source": [
    "ws.range('2:{}'.format(to_delete)).api.Delete()"
   ]
  },
  {
   "cell_type": "code",
   "execution_count": 38,
   "metadata": {},
   "outputs": [],
   "source": [
    "ws.range('1:1').api.Font.Bold = True\n",
    "#ws.range('J:J').number_format = \"£##.##0,,' M'\"\n",
    "last_column = ws.range(1,1).end('right').get_address(0,0)[0]\n",
    "ws.range('A1:{}1'.format(last_column)).api.Borders(9).LineStyle = -4119\n",
    "ws.autofit()"
   ]
  },
  {
   "cell_type": "code",
   "execution_count": 39,
   "metadata": {},
   "outputs": [],
   "source": [
    "ws.range('A:L').api.ColumnWidth = ws.range('J:J').api.ColumnWidth\n",
    "wb.sheets.add('Frequencies')\n",
    "frequencies = wb.sheets['Frequencies']\n",
    "\n",
    "# add a header for the numbers\n",
    "frequencies.range('A1').value = 'Number'\n",
    "# populate the fifty cells immediately below with the numbers 1 through 50\n",
    "# since we're starting from the second row, we'll want to substract 1 from the row\n",
    "frequencies.range('A2:A51').value = '=ROW()-1'"
   ]
  },
  {
   "cell_type": "code",
   "execution_count": 40,
   "metadata": {},
   "outputs": [],
   "source": [
    "# add a header for the frequencies\n",
    "frequencies.range('B1').value = 'Frequency'\n",
    "# insert on B2 the result of a standard Excel formula\n",
    "frequencies.range('B2').value = '=COUNTIF(Euromillions!$C$2:$G$201,Frequencies!A2)'\n",
    "autofill(frequencies, 'B2', 51)"
   ]
  },
  {
   "cell_type": "code",
   "execution_count": 41,
   "metadata": {},
   "outputs": [],
   "source": [
    "frequencies.range('D1').value = 'Lucky Star'\n",
    "frequencies.range('E1').value = 'Frequency'\n",
    "frequencies.range('D2:D13').value = '=ROW()-1'\n",
    "frequencies.range('E2').value =\\\n",
    "'=COUNTIF(EuroMillions!$H$2:$I$201,Frequencies!D2)'\n",
    "autofill(frequencies, 'E2', 13)\n",
    "frequencies.autofit()"
   ]
  },
  {
   "cell_type": "code",
   "execution_count": 42,
   "metadata": {},
   "outputs": [],
   "source": [
    "wb.sheets.add('Graphs')\n",
    "graphs = wb.sheets['Graphs']"
   ]
  },
  {
   "cell_type": "code",
   "execution_count": 43,
   "metadata": {},
   "outputs": [],
   "source": [
    "nr_freq = xw.Chart()\n"
   ]
  },
  {
   "cell_type": "code",
   "execution_count": 44,
   "metadata": {},
   "outputs": [],
   "source": [
    "nr_freq.name = 'Number Frequencies'\n",
    "nr_freq.set_source_data(frequencies.range('Frequencies!B1:B51'))\n"
   ]
  },
  {
   "cell_type": "code",
   "execution_count": 45,
   "metadata": {},
   "outputs": [],
   "source": [
    "nr_freq.api[1].FullSeriesCollection(1).XValues = '=Frequencies!A2:A51'\n"
   ]
  },
  {
   "cell_type": "code",
   "execution_count": 46,
   "metadata": {},
   "outputs": [],
   "source": [
    "nr_freq.chart_type = 'column_clustered'"
   ]
  },
  {
   "cell_type": "code",
   "execution_count": 47,
   "metadata": {},
   "outputs": [],
   "source": [
    "nr_freq.height = 250\n",
    "nr_freq.width = 750"
   ]
  },
  {
   "cell_type": "code",
   "execution_count": 48,
   "metadata": {},
   "outputs": [],
   "source": [
    "nr_freq.api[1].SetElement(2)  # Place chart title at the top\n",
    "nr_freq.api[1].ChartTitle.Text = 'Number Frequencies'"
   ]
  },
  {
   "cell_type": "code",
   "execution_count": 49,
   "metadata": {},
   "outputs": [],
   "source": [
    "nr_freq.api[1].HasLegend = 0"
   ]
  },
  {
   "cell_type": "code",
   "execution_count": 50,
   "metadata": {},
   "outputs": [],
   "source": [
    "nr_freq.api[1].Axes(1).TickLabelSpacing = 1"
   ]
  },
  {
   "cell_type": "code",
   "execution_count": 51,
   "metadata": {},
   "outputs": [],
   "source": [
    "graphs.shapes.api('Number Frequencies').Line.Visible = 0"
   ]
  },
  {
   "cell_type": "code",
   "execution_count": 52,
   "metadata": {},
   "outputs": [],
   "source": [
    "ls_freq = xw.Chart()\n",
    "ls_freq.top = 250\n",
    "ls_freq.name = 'Lucky Star Frequencies'\n",
    "ls_freq.set_source_data(frequencies.range('Frequencies!E1:E13'))\n",
    "ls_freq.api[1].FullSeriesCollection(1).XValues = '=Frequencies!D2:D13'\n",
    "ls_freq.chart_type = 'column_clustered'\n",
    "ls_freq.height = 250\n",
    "ls_freq.width = 750\n",
    "ls_freq.api[1].SetElement(2)\n",
    "ls_freq.api[1].ChartTitle.Text = 'Lucky Star Frequencies'\n",
    "ls_freq.api[1].HasLegend = 0\n",
    "ls_freq.api[1].Axes(1).TickLabelSpacing = 1\n",
    "graphs.shapes.api('Lucky Star Frequencies').Line.Visible = 0"
   ]
  },
  {
   "cell_type": "code",
   "execution_count": 53,
   "metadata": {},
   "outputs": [],
   "source": [
    "jackpot = xw.Chart()\n",
    "jackpot.top = 500\n",
    "jackpot.name = 'Jackpot'\n",
    "last_row = ws.range(1,1).end('down').row\n",
    "jackpot.set_source_data(ws.range('Euromillions!J2:J{}'.format(last_row)))\n",
    "jackpot.api[1].FullSeriesCollection(1).XValues\\\n",
    "= 'Euromillions!L2:L{}'.format(last_row)\n",
    "jackpot.chart_type = 'line'\n",
    "jackpot.height = 250\n",
    "jackpot.width = 750\n",
    "jackpot.api[1].SetElement(2)\n",
    "jackpot.api[1].ChartTitle.Text = 'Jackpot'\n",
    "jackpot.api[1].HasLegend = 0\n",
    "graphs.shapes.api('Jackpot').Line.Visible = 0"
   ]
  },
  {
   "cell_type": "markdown",
   "metadata": {},
   "source": [
    "ref to\n",
    "https://www.dataquest.io/blog/python-excel-xlwings-tutorial/"
   ]
  }
 ],
 "metadata": {
  "kernelspec": {
   "display_name": "Python 3.8.2 64-bit",
   "language": "python",
   "name": "python38264bit70b3156a1cb849ecbb8725d4537b0c4f"
  },
  "language_info": {
   "codemirror_mode": {
    "name": "ipython",
    "version": 3
   },
   "file_extension": ".py",
   "mimetype": "text/x-python",
   "name": "python",
   "nbconvert_exporter": "python",
   "pygments_lexer": "ipython3",
   "version": "3.8.2"
  }
 },
 "nbformat": 4,
 "nbformat_minor": 4
}
