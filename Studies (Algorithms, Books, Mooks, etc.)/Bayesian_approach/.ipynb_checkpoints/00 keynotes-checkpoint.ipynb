{
 "cells": [
  {
   "cell_type": "markdown",
   "metadata": {},
   "source": [
    "- PMF: Probability Mass Function (확률질량함수, 이산형분포의 확률함수)\n",
    "- PDF: Probabilty Density Function (확률밀도함수, 연속형분포의 확률함수, 그래프에서 높이)\n",
    "- CMF: Cumulative Mass Function (누적질량함수, 이산형분포의 누적확률함수)\n",
    "- CDF: Cumulative Density Function (누적밀도함수, 연속형분포의 누적확률함수, 그래프에서 면적)"
   ]
  },
  {
   "cell_type": "code",
   "execution_count": null,
   "metadata": {},
   "outputs": [],
   "source": []
  }
 ],
 "metadata": {
  "kernelspec": {
   "display_name": "Python 3",
   "language": "python",
   "name": "python3"
  },
  "language_info": {
   "codemirror_mode": {
    "name": "ipython",
    "version": 3
   },
   "file_extension": ".py",
   "mimetype": "text/x-python",
   "name": "python",
   "nbconvert_exporter": "python",
   "pygments_lexer": "ipython3",
   "version": "3.6.4"
  }
 },
 "nbformat": 4,
 "nbformat_minor": 2
}
