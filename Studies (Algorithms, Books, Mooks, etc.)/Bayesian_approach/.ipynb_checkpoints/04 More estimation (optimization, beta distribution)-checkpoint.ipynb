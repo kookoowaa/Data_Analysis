{
 "cells": [
  {
   "cell_type": "code",
   "execution_count": 1,
   "metadata": {},
   "outputs": [
    {
     "name": "stdout",
     "output_type": "stream",
     "text": [
      "Populating the interactive namespace from numpy and matplotlib\n"
     ]
    }
   ],
   "source": [
    "%pylab inline\n",
    "pylab.rcParams['figure.figsize'] = (16, 8)\n",
    "\n",
    "import thinkbayes\n",
    "from thinkbayes import Pmf\n",
    "from thinkbayes import Suite\n",
    "import pandas as pd"
   ]
  },
  {
   "cell_type": "markdown",
   "metadata": {},
   "source": [
    "# 추정 2\n",
    "___\n",
    "\n",
    "## 1. 유로 문제"
   ]
  },
  {
   "cell_type": "markdown",
   "metadata": {},
   "source": [
    "- 동전 회전을 250번 시행\n",
    "- 앞면이 140회, 뒷면이 110회 나옴\n",
    "- LSE의 베리 브라이트 교수는 '동전이 기울지 않는 이상 결과가 이렇게 치우칠 확률은 7% 미만이다' 라고 언급\n",
    "- **위 데이터로 동전이 기울었음을 증명할 수 있을까?**"
   ]
  },
  {
   "cell_type": "markdown",
   "metadata": {},
   "source": [
    "> 1. 동전이 앞면이 나올 확률을 추정\n",
    "> 2. 데이터가 동전이 기울었다는 가설에 부합하는지 확인"
   ]
  },
  {
   "cell_type": "markdown",
   "metadata": {},
   "source": [
    "- 가설 $H_x$는 1에서 100까지 앞면이 나올 확률이 $x\\%$임\n",
    "- 동전을 던져서 무언가 나올 확률은 균등 사전분포에서 시작 (hypotheses = range(1,101))\n",
    "- 우도함수는 다음과 같이 규정할 수 있음 $p(H) = x/100$, $p(T) = (100-x)/100$"
   ]
  },
  {
   "cell_type": "code",
   "execution_count": 2,
   "metadata": {},
   "outputs": [],
   "source": [
    "class Euro(Suite):\n",
    "    def Likelihood(self, data, hypo):\n",
    "        x = hypo\n",
    "        if data == 'H':\n",
    "            return x/100\n",
    "        else:\n",
    "            return (100-x)/100"
   ]
  },
  {
   "cell_type": "code",
   "execution_count": 3,
   "metadata": {
    "scrolled": true
   },
   "outputs": [
    {
     "data": {
      "text/plain": [
       "{0: 0.0,\n",
       " 1: 1.2563304589679406e-207,\n",
       " 2: 5.731921084330737e-166,\n",
       " 3: 8.338710825995312e-142,\n",
       " 4: 8.269264884325567e-125,\n",
       " 5: 9.652274676137561e-112,\n",
       " 6: 3.668355640015438e-101,\n",
       " 7: 2.6673648652111617e-92,\n",
       " 8: 1.067804311922848e-84,\n",
       " 9: 4.653041866667465e-78,\n",
       " 10: 3.5148639684269944e-72,\n",
       " 11: 6.41370730237118e-67,\n",
       " 12: 3.6116101639380365e-62,\n",
       " 13: 7.558221138889982e-58,\n",
       " 14: 6.791834819435185e-54,\n",
       " 15: 2.938262414300847e-50,\n",
       " 16: 6.710448103474771e-47,\n",
       " 17: 8.723115797935806e-44,\n",
       " 18: 6.869212634536842e-41,\n",
       " 19: 3.452142332222388e-38,\n",
       " 20: 1.1569922381844238e-35,\n",
       " 21: 2.684811430039415e-33,\n",
       " 22: 4.454655201037467e-31,\n",
       " 23: 5.433870634035609e-29,\n",
       " 24: 4.992309179721862e-27,\n",
       " 25: 3.5283582174022986e-25,\n",
       " 26: 1.954296119578907e-23,\n",
       " 27: 8.623311588848912e-22,\n",
       " 28: 3.0756115185781603e-20,\n",
       " 29: 8.981948245990872e-19,\n",
       " 30: 2.1726638865771484e-17,\n",
       " 31: 4.3981455873488677e-16,\n",
       " 32: 7.519861568782927e-15,\n",
       " 33: 1.0949955730436074e-13,\n",
       " 34: 1.3680871977846058e-12,\n",
       " 35: 1.476481205621615e-11,\n",
       " 36: 1.384776640866512e-10,\n",
       " 37: 1.1348391051957842e-09,\n",
       " 38: 8.166234643947254e-09,\n",
       " 39: 5.1827387579933574e-08,\n",
       " 40: 2.9125192970956625e-07,\n",
       " 41: 1.4544329496555018e-06,\n",
       " 42: 6.4745923681861694e-06,\n",
       " 43: 2.5766200888901715e-05,\n",
       " 44: 9.18946360608159e-05,\n",
       " 45: 0.00029436099095403744,\n",
       " 46: 0.0008484817379099203,\n",
       " 47: 0.0022043383200721243,\n",
       " 48: 0.005168607051902973,\n",
       " 49: 0.010949721118273222,\n",
       " 50: 0.02097652612954464,\n",
       " 51: 0.03636017294271646,\n",
       " 52: 0.057047511366895905,\n",
       " 53: 0.08102491804322662,\n",
       " 54: 0.10416464631274965,\n",
       " 55: 0.12116732716001359,\n",
       " 56: 0.12745318058391283,\n",
       " 57: 0.12112739890943303,\n",
       " 58: 0.1038899472977111,\n",
       " 59: 0.0803042171010141,\n",
       " 60: 0.055847866025430765,\n",
       " 61: 0.034875155909277505,\n",
       " 62: 0.01951033115977565,\n",
       " 63: 0.009752120395269067,\n",
       " 64: 0.0043421410356341075,\n",
       " 65: 0.0017162766419818933,\n",
       " 66: 0.0005998799324353833,\n",
       " 67: 0.00018460278472773997,\n",
       " 68: 4.9771173135543766e-05,\n",
       " 69: 1.1692072734279317e-05,\n",
       " 70: 2.3784613828996003e-06,\n",
       " 71: 4.1608405468586835e-07,\n",
       " 72: 6.211055806315606e-08,\n",
       " 73: 7.842363308426345e-09,\n",
       " 74: 8.293570151404889e-10,\n",
       " 75: 7.264576678164172e-11,\n",
       " 76: 5.20441585149909e-12,\n",
       " 77: 3.0060484043714227e-13,\n",
       " 78: 1.3771198885866424e-14,\n",
       " 79: 4.910748410752199e-16,\n",
       " 80: 1.3339212320660294e-17,\n",
       " 81: 2.6917283658588246e-19,\n",
       " 82: 3.9187483783864755e-21,\n",
       " 83: 3.976919202047017e-23,\n",
       " 84: 2.7010375647486107e-25,\n",
       " 85: 1.169285541348939e-27,\n",
       " 86: 3.0415823690532837e-30,\n",
       " 87: 4.422792899951279e-33,\n",
       " 88: 3.286575773874328e-36,\n",
       " 89: 1.114368381294638e-39,\n",
       " 90: 1.489991548014432e-43,\n",
       " 91: 6.48191671642587e-48,\n",
       " 92: 7.070121559550841e-53,\n",
       " 93: 1.3416204901580116e-58,\n",
       " 94: 2.5928030537912303e-65,\n",
       " 95: 2.2245270996241606e-73,\n",
       " 96: 2.1076774788644257e-83,\n",
       " 97: 1.6241019949437566e-96,\n",
       " 98: 2.911941214874374e-115,\n",
       " 99: 9.293081095976543e-148,\n",
       " 100: 0.0}"
      ]
     },
     "execution_count": 3,
     "metadata": {},
     "output_type": "execute_result"
    }
   ],
   "source": [
    "suite = Euro(range(0,101))\n",
    "dataset = 'H'*140 + 'T'*110\n",
    "\n",
    "for data in dataset:\n",
    "    suite.Update(data)\n",
    "\n",
    "suite.d"
   ]
  },
  {
   "cell_type": "code",
   "execution_count": 4,
   "metadata": {},
   "outputs": [
    {
     "data": {
      "text/plain": [
       "Text(0.5,1,'Prior of uniform distribution\\n')"
      ]
     },
     "execution_count": 4,
     "metadata": {},
     "output_type": "execute_result"
    },
    {
     "data": {
      "image/png": "[encoded data removed]",
      "text/plain": [
       "<matplotlib.figure.Figure at 0x17ba1a959b0>"
      ]
     },
     "metadata": {},
     "output_type": "display_data"
    }
   ],
   "source": [
    "pd.Series(suite.d, index = suite.d.keys()).plot(label = 'Uniform')\n",
    "plt.legend()\n",
    "plt.title('Prior of uniform distribution\\n', size = 20)"
   ]
  },
  {
   "cell_type": "markdown",
   "metadata": {},
   "source": [
    "___\n",
    "## 2. 사후 확률 요약하기"
   ]
  },
  {
   "cell_type": "markdown",
   "metadata": {},
   "source": [
    "- 위 사후확률 분포를 요약하는 방법에는 여러 가지가 있음\n",
    "- 한 가지 방법으로는 사후 확률 분포에 가장 근접한 값을 찾는 것이고, 최대 우도 추정값이 될 수 있음\n",
    "- thinkbayes에서는 아래와 같이 최대 우도 추정 가능\n",
    "\n",
    "~~~python\n",
    "    def MaximumLikelihood(self):\n",
    "        \"\"\"Returns the value with the highest probability.\n",
    "        Returns: float probability\n",
    "        \"\"\"\n",
    "        prob, val = max((prob, val) for val, prob in self.Items())\n",
    "        return val\n",
    "~~~"
   ]
  },
  {
   "cell_type": "code",
   "execution_count": 5,
   "metadata": {},
   "outputs": [
    {
     "data": {
      "text/plain": [
       "56"
      ]
     },
     "execution_count": 5,
     "metadata": {},
     "output_type": "execute_result"
    }
   ],
   "source": [
    "suite.MaximumLikelihood()"
   ]
  },
  {
   "cell_type": "markdown",
   "metadata": {},
   "source": [
    "- 혹은 아래와 같이 평균, 또는 중간값으로 요약 가능"
   ]
  },
  {
   "cell_type": "code",
   "execution_count": 6,
   "metadata": {},
   "outputs": [
    {
     "data": {
      "text/plain": [
       "55.95238095238094"
      ]
     },
     "execution_count": 6,
     "metadata": {},
     "output_type": "execute_result"
    }
   ],
   "source": [
    "suite.Mean()"
   ]
  },
  {
   "cell_type": "code",
   "execution_count": 7,
   "metadata": {},
   "outputs": [
    {
     "data": {
      "text/plain": [
       "56"
      ]
     },
     "execution_count": 7,
     "metadata": {},
     "output_type": "execute_result"
    }
   ],
   "source": [
    "thinkbayes.Percentile(suite, 50)"
   ]
  },
  {
   "cell_type": "markdown",
   "metadata": {},
   "source": [
    "- 마지막으로 신뢰구간으로 요약도 가능"
   ]
  },
  {
   "cell_type": "code",
   "execution_count": 8,
   "metadata": {},
   "outputs": [
    {
     "data": {
      "text/plain": [
       "(51, 61)"
      ]
     },
     "execution_count": 8,
     "metadata": {},
     "output_type": "execute_result"
    }
   ],
   "source": [
    "thinkbayes.CredibleInterval(suite, 90)"
   ]
  },
  {
   "cell_type": "markdown",
   "metadata": {},
   "source": [
    ">- 위 결과로 추론하건대, 90% 신뢰구간에서 동전이 평평하다고($H_x = 50\\%$) 주장 할 수 없음\n",
    ">- 다만, 이는 **\"데이터로 동전이 기울었음을 증명할 수 있을까?\"라는 원 질문과는 다름**\n",
    ">- 이 질문에 대답하기 위해서는 <U>**데이터가 가설에 대해 증거를 갖추고 있다는 것이 어떤 의미인지**</U> 확인 필요"
   ]
  },
  {
   "cell_type": "markdown",
   "metadata": {},
   "source": [
    "___\n",
    "## 3. 사전 분포 범람"
   ]
  },
  {
   "cell_type": "markdown",
   "metadata": {},
   "source": [
    "- 만약 동전이 한쪽으로 치우쳐 있다면 **사전확률이 균등분포를 따른다고 보기는 어려움**\n",
    "- 50%에 가까운 $x$에 더 높은 확률을 부여하고 극단 값에 낮은 확률을 부여하는 삼각 사전확률을 대안으로 점검"
   ]
  },
  {
   "cell_type": "code",
   "execution_count": 9,
   "metadata": {},
   "outputs": [],
   "source": [
    "def TrianglePrior():\n",
    "    global suite\n",
    "    suite = Euro()\n",
    "    for x in range(0, 51):\n",
    "        suite.Set(x,x)\n",
    "    for x in range(51, 101):\n",
    "        suite.Set(x, 100-x)\n",
    "    suite.Normalize()"
   ]
  },
  {
   "cell_type": "code",
   "execution_count": 10,
   "metadata": {},
   "outputs": [
    {
     "data": {
      "text/plain": [
       "2500"
      ]
     },
     "execution_count": 10,
     "metadata": {},
     "output_type": "execute_result"
    }
   ],
   "source": [
    "#TrianglePrior()\n",
    "\n",
    "suite = Euro(range(0,101))\n",
    "\n",
    "suite_tr = Euro()\n",
    "for x in range(0, 51):\n",
    "    suite_tr.Set(x,x)\n",
    "for x in range(51, 101):\n",
    "    suite_tr.Set(x, 100-x)\n",
    "suite_tr.Normalize()"
   ]
  },
  {
   "cell_type": "code",
   "execution_count": 11,
   "metadata": {},
   "outputs": [
    {
     "data": {
      "text/plain": [
       "Text(0.5,1,'Prior of uniform distribution and triangle distribution\\n')"
      ]
     },
     "execution_count": 11,
     "metadata": {},
     "output_type": "execute_result"
    },
    {
     "data": {
      "image/png": "[encoded data removed]",
      "text/plain": [
       "<matplotlib.figure.Figure at 0x17ba7e750b8>"
      ]
     },
     "metadata": {},
     "output_type": "display_data"
    }
   ],
   "source": [
    "prior_prob = pd.DataFrame({'range': range(0,101), 'uniform': [i for i in suite.d.values()], 'triangle': [i for i in suite_tr.d.values()]})\n",
    "\n",
    "plot(prior_prob.iloc[:,1], label = 'uniform')\n",
    "plot(prior_prob.iloc[:,2], label = 'triangle')\n",
    "plt.legend()\n",
    "plt.title('Prior of uniform distribution and triangle distribution\\n', size = 20)"
   ]
  },
  {
   "cell_type": "markdown",
   "metadata": {},
   "source": [
    "- 사전 분포에 따른 사후분포는 아래와 같이 확인 가능"
   ]
  },
  {
   "cell_type": "code",
   "execution_count": 12,
   "metadata": {},
   "outputs": [],
   "source": [
    "for data in dataset:\n",
    "    suite.Update(data)\n",
    "    suite_tr.Update(data)"
   ]
  },
  {
   "cell_type": "code",
   "execution_count": 13,
   "metadata": {},
   "outputs": [
    {
     "data": {
      "text/plain": [
       "Text(0.5,1,'Posterior of uniform distribution and triangle distribution\\n')"
      ]
     },
     "execution_count": 13,
     "metadata": {},
     "output_type": "execute_result"
    },
    {
     "data": {
      "image/png": "[encoded data removed]",
      "text/plain": [
       "<matplotlib.figure.Figure at 0x17ba8ea74a8>"
      ]
     },
     "metadata": {},
     "output_type": "display_data"
    }
   ],
   "source": [
    "post_prob = pd.DataFrame({'range': range(0,101), 'uniform': [i for i in suite.d.values()], 'triangle': [i for i in suite_tr.d.values()]})\n",
    "\n",
    "plot(post_prob.iloc[:,1], label = 'uniform')\n",
    "plot(post_prob.iloc[:,2], label = 'triangle')\n",
    "plt.legend()\n",
    "plt.title('Posterior of uniform distribution and triangle distribution\\n', size = 20)"
   ]
  },
  {
   "cell_type": "markdown",
   "metadata": {},
   "source": [
    "- 사후확률의 최대우도값"
   ]
  },
  {
   "cell_type": "code",
   "execution_count": 14,
   "metadata": {},
   "outputs": [
    {
     "name": "stdout",
     "output_type": "stream",
     "text": [
      "(56, 0.12745318058391283) (56, 0.12745318058391283)\n"
     ]
    }
   ],
   "source": [
    "print((suite.MaximumLikelihood(),suite.d[suite.MaximumLikelihood()]), (suite_tr.MaximumLikelihood(),suite.d[suite_tr.MaximumLikelihood()]))"
   ]
  },
  {
   "cell_type": "markdown",
   "metadata": {},
   "source": [
    "- 사후확률의 평균"
   ]
  },
  {
   "cell_type": "code",
   "execution_count": 15,
   "metadata": {
    "scrolled": true
   },
   "outputs": [
    {
     "name": "stdout",
     "output_type": "stream",
     "text": [
      "55.95238095238094 55.74349943859503\n"
     ]
    }
   ],
   "source": [
    "print(suite.Mean(), suite_tr.Mean())"
   ]
  },
  {
   "cell_type": "markdown",
   "metadata": {},
   "source": [
    "- 사후확률의 구간추정 (90%)"
   ]
  },
  {
   "cell_type": "code",
   "execution_count": 16,
   "metadata": {},
   "outputs": [
    {
     "name": "stdout",
     "output_type": "stream",
     "text": [
      "(51, 61) (51, 61)\n"
     ]
    }
   ],
   "source": [
    "print(suite.CredibleInterval(), suite_tr.CredibleInterval())"
   ]
  },
  {
   "cell_type": "markdown",
   "metadata": {},
   "source": [
    "- 두 사전분포로부터 도출한 사후분포는 매우 유사한 형태를 띄게 됨\n",
    "- 최대우도값과 구간추정은 동일하고, 평균은 0.5% 미만의 차이를 보임\n",
    "- 이는 **사전분포범람 (swamping the prior)**의 예시로, 데이터가 충분하다면 서로 다른 사전확률을 가지고도 동일한 사후확률로 수렴하는 경향이 있음"
   ]
  },
  {
   "cell_type": "markdown",
   "metadata": {},
   "source": [
    "___\n",
    "## 4. 최적화"
   ]
  },
  {
   "cell_type": "markdown",
   "metadata": {},
   "source": [
    "- 상기 코드는 이해하기 쉽지만 보다 효율적으로 작동하기 위해 최적화를 수행할 필요가 있음\n",
    "- 런타임을 고려한다면 속도를 향상시킬 몇가지 방법이 있음\n",
    "> #### 1. Update 최적화: suite에 likelihood를 곱할 때 마다 정규화 하는 대신, 모든 likelihood를 적용 후 정규화 수행  \n",
    "> #### 2. Likelihood 최적화: 한회씩 데이터셋을 호출하는 대신 전체 데이터셋을 처리하도록 재작성"
   ]
  },
  {
   "cell_type": "markdown",
   "metadata": {},
   "source": [
    "- 개선하고자 하는 코드의 원래 형태는 다음과 같음:\n",
    "```python\n",
    "dataset = 'H' * heads(숫자) * 'T' * tails(숫자)\n",
    "for data in dataset:\n",
    "    suite.Update(data)\n",
    "    ```"
   ]
  },
  {
   "cell_type": "markdown",
   "metadata": {},
   "source": [
    "- 위 코드에서는 for문을 한번 돌때마다 한번씩 Update를 호출\n",
    "- Update의 원 코드는 다음과 같음:"
   ]
  },
  {
   "cell_type": "code",
   "execution_count": 17,
   "metadata": {},
   "outputs": [],
   "source": [
    "def Update(self, data):\n",
    "    for hypo in self. Values():\n",
    "        like = self.Likelihood(data, hypo)\n",
    "        self.Mult(hypo, like)\n",
    "    return self.Normalize()"
   ]
  },
  {
   "cell_type": "markdown",
   "metadata": {},
   "source": [
    "- 원코드는 업데이트 시 가설을 반복하면서 Normalize를 호출하고 가설을 다시 반복\n",
    "- 정규화 전에 업데이트의 모든 내용을 수행하면 시간과 리소스를 절약 가능\n",
    "- 이를 UpdateSet 메서드를 통해 최적화"
   ]
  },
  {
   "cell_type": "code",
   "execution_count": 18,
   "metadata": {},
   "outputs": [],
   "source": [
    "def UpdateSet(self, dataset):\n",
    "    for data in dataset:\n",
    "        for hypo in self.Values():\n",
    "            like = self.Likelihood(data, hypo)\n",
    "            self.Mult(hypo, like)\n",
    "    return self.Normalize()"
   ]
  },
  {
   "cell_type": "markdown",
   "metadata": {},
   "source": [
    "- 이 함수는 다음과 같이 호출:\n",
    "```python\n",
    "dataset = 'H' * heads(숫자) * 'T' * tails(숫자)\n",
    "suite.UpdateSet(dataset)\n",
    "    ```"
   ]
  },
  {
   "cell_type": "markdown",
   "metadata": {},
   "source": [
    "- 위 코드에서 Likelihood는 dataset의 원소 한개마다 계산 작업을 수행\n",
    "- dataset은 'H' 또는 'T'로 인코딩된 문자열임\n",
    "- Likelihood의 원 코드는 다음과 같음:"
   ]
  },
  {
   "cell_type": "code",
   "execution_count": 19,
   "metadata": {},
   "outputs": [],
   "source": [
    "def Likelihood(self, data, hypo):\n",
    "    x = hypo\n",
    "    if data == 'H':\n",
    "        return x/100\n",
    "    else:\n",
    "        return (100-x)/100"
   ]
  },
  {
   "cell_type": "markdown",
   "metadata": {},
   "source": [
    "- dataset을 'H가 나온 횟수' 또는 'T가 나온 횟수'의 집합으로 인코딩 할 수도 있음\n",
    "- 이 경우 Likelihood는 다음과 같이 최적화 가능:"
   ]
  },
  {
   "cell_type": "code",
   "execution_count": 20,
   "metadata": {},
   "outputs": [],
   "source": [
    "def Likelihood(self, data, hypo):\n",
    "    x = hypo/100\n",
    "    heads, tails = data\n",
    "    like = x**heads * (1-x)**tails\n",
    "    return like"
   ]
  },
  {
   "cell_type": "markdown",
   "metadata": {},
   "source": [
    "- 이 경우 아래와 같이 Update 호출 가능:\n",
    "```python\n",
    "heads, tails = 140, 110\n",
    "suite.Update((heads,tails))\n",
    "```"
   ]
  },
  {
   "cell_type": "markdown",
   "metadata": {},
   "source": [
    "___\n",
    "## 5. 베타 분포"
   ]
  },
  {
   "cell_type": "markdown",
   "metadata": {},
   "source": [
    "- 지금까지는 $x$를 이산적인 값의 집합으로 나타내기 위해 Pmf를 사용함\n",
    "- 하지만 베타 분포 (연속형 분포)를 사용할 경우 문제를 보다 빠르게 풀 수 있음\n",
    "- 베타분포는 0과 1 사이에서 정의되는 **켤레사전분포(Conjugate prior distribution)**로 비율과 확률을 나타내닌 방법으로 적합\n",
    "- 베타 분포의 모양은 $\\alpha$와 $\\beta$ 두 변수에 따라 달라짐\n",
    "- 본 예제에서는 사전분포가 베타분포를 따른다면, 사후확률도 $\\alpha + H$, $\\beta + T$를 따르는 베타 분포가 될 것 ($\\alpha = 1$, $\\beta =1$인 경우에는 균등분포)"
   ]
  },
  {
   "cell_type": "markdown",
   "metadata": {},
   "source": [
    "- thinkbayes에는 베타분포를 나타내는 클래스를 제공\n",
    "```python\n",
    "class Beta(object):\n",
    "    def __init__(self, alpha = 1, beta = 1):\n",
    "        self.alpha = alpha\n",
    "        self.beta = beta\n",
    "```"
   ]
  },
  {
   "cell_type": "markdown",
   "metadata": {},
   "source": [
    "- 아래와 같은 Update 메서드로 베타분포 갱신 수행\n",
    "```python\n",
    "def Update(self, data):\n",
    "    heads, tails = data\n",
    "    self.alpha += heads\n",
    "    self.beta += tails\n",
    "```"
   ]
  },
  {
   "cell_type": "code",
   "execution_count": 32,
   "metadata": {},
   "outputs": [],
   "source": [
    "beta = thinkbayes.Beta()\n",
    "beta.Update((140,110))"
   ]
  },
  {
   "cell_type": "markdown",
   "metadata": {},
   "source": [
    "- 결과는 Mean 메서드로 확인 가능하며, $p(\\alpha)$를 계산\n",
    "```python\n",
    "def Mean(self):\n",
    "    return float(self.alpha) / (self.alpha + self.beta)\n",
    "```"
   ]
  },
  {
   "cell_type": "code",
   "execution_count": 37,
   "metadata": {},
   "outputs": [
    {
     "data": {
      "text/plain": [
       "0.5595238095238095"
      ]
     },
     "execution_count": 37,
     "metadata": {},
     "output_type": "execute_result"
    }
   ],
   "source": [
    "beta.Mean()"
   ]
  }
 ],
 "metadata": {
  "kernelspec": {
   "display_name": "Python 3",
   "language": "python",
   "name": "python3"
  },
  "language_info": {
   "codemirror_mode": {
    "name": "ipython",
    "version": 3
   },
   "file_extension": ".py",
   "mimetype": "text/x-python",
   "name": "python",
   "nbconvert_exporter": "python",
   "pygments_lexer": "ipython3",
   "version": "3.6.4"
  }
 },
 "nbformat": 4,
 "nbformat_minor": 2
}
