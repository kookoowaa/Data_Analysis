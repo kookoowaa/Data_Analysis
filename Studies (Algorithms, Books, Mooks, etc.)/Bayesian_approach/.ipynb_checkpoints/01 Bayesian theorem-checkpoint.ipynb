{
 "cells": [
  {
   "cell_type": "markdown",
   "metadata": {},
   "source": [
    "# 예제"
   ]
  },
  {
   "cell_type": "markdown",
   "metadata": {},
   "source": [
    "> 바닐라쿠키(V) 50개와 초콜렛쿠키(C) 30개가 있다\n",
    "\n",
    "> 1번 바스켓에(B1) V30과 C10, 2번 바스켓에(B2) V20과 C20이 있다\n",
    "\n",
    "> $p(B_1\\ |\\ V)$는?\n",
    "\n",
    "- 위 예제는 베이즈 정의를 잘 표현하는 예제 중 하나 **(상호 독립적이지 않은 사건)**\n",
    "- $p(V\\ |\\ B_1)\\ = \\ \\frac{3}{4}$로 쉽게 구할 수 있으나, $p(B_1\\ |\\ V) \\neq p(V\\ |\\ B_1)$임\n",
    "- $p(B_1\\ |\\ V)$를 찾아가는 과정을 통해 베이즈 이론 이해"
   ]
  },
  {
   "cell_type": "markdown",
   "metadata": {},
   "source": [
    "- 위 예제를 풀어보면 다음과 같음\n",
    "\n",
    "$$p(B_1\\ and\\ V) = p(V\\ and\\ B_1)$$\n",
    "\n",
    "$$p(B_1)p(V\\ |\\ B_1) = p(V)p(B_1\\ |\\ V)$$\n",
    "\n",
    "$$p(B_1\\ |\\ V) = \\frac{p(V)p(B_1\\ |\\ V)}{p(B_1)} = \\frac{p(B_1)p(V\\ |\\ B_1)}{p(V)} $$"
   ]
  },
  {
   "cell_type": "markdown",
   "metadata": {},
   "source": [
    "- 위 식을 통해 간접적인 정보로 원하는 확률 계산이 가능\n",
    "- $p(B_1\\ |\\ V) = \\frac{(1/2)(3/4)}{5/8} = \\frac{3}{5}$ 으로 $p(V\\ |\\ B_1) = \\frac{3}{4}$와는 다른 확률값 반환"
   ]
  },
  {
   "cell_type": "markdown",
   "metadata": {},
   "source": [
    "# 통시적 해석"
   ]
  },
  {
   "cell_type": "markdown",
   "metadata": {},
   "source": [
    "- 데이터 관점을 $D$, 가설을 $H$라 할 때, 베이즈 이론으로 위 관계를 해석하면 아래와 같음 **(통시적 해석)**\n",
    "\n",
    "    $p(H\\ |\\ D) = \\frac{p(H)p(D\\ |\\ H)}{p(D)}$\n",
    "\n",
    "> - $p(H)$는 데이터를 보기 전의 가설 확률로, **사전확률**이라고 지칭\n",
    ">- $p(H\\ |\\ D)$는 데이터를 확인한 이후의 가설확률로, **사후확률**이라고 지칭\n",
    ">- $p(D\\ |\\ H)$는 데이터가 가설에 포함될 확률로, **우도(가능도)**라고 지칭 (계산하기 가장 용이)\n",
    ">- $p(D)$는 어떤 가설에도 포함되는 데이터의 비율로 **한정상수**라고 지칭 (정의가 난해)"
   ]
  },
  {
   "cell_type": "markdown",
   "metadata": {},
   "source": [
    ">- 베이즈 이론은 분할-정복 (divide-and-conquer) 전략을 제시\n",
    ">- $p(A|B)$를 계산하기 어렵다면, $p(B|A), p(A), p(B)$를 통해 간접적으로 이해"
   ]
  }
 ],
 "metadata": {
  "kernelspec": {
   "display_name": "Python 3",
   "language": "python",
   "name": "python3"
  },
  "language_info": {
   "codemirror_mode": {
    "name": "ipython",
    "version": 3
   },
   "file_extension": ".py",
   "mimetype": "text/x-python",
   "name": "python",
   "nbconvert_exporter": "python",
   "pygments_lexer": "ipython3",
   "version": "3.6.4"
  }
 },
 "nbformat": 4,
 "nbformat_minor": 2
}
