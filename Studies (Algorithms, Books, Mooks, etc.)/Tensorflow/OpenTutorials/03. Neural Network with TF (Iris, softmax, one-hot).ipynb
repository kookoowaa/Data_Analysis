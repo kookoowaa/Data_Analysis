{
 "cells": [
  {
   "cell_type": "code",
   "execution_count": 1,
   "metadata": {},
   "outputs": [],
   "source": [
    "import pandas as pd\n",
    "import tensorflow as tf"
   ]
  },
  {
   "cell_type": "markdown",
   "metadata": {},
   "source": [
    "## 데이터 준비"
   ]
  },
  {
   "cell_type": "code",
   "execution_count": 2,
   "metadata": {},
   "outputs": [],
   "source": [
    "directory = 'https://raw.githubusercontent.com/blackdew/tensorflow1/master/csv/iris.csv'\n",
    "iris = pd.read_csv(directory)"
   ]
  },
  {
   "cell_type": "code",
   "execution_count": 3,
   "metadata": {},
   "outputs": [
    {
     "data": {
      "text/html": [
       "<div>\n",
       "<style scoped>\n",
       "    .dataframe tbody tr th:only-of-type {\n",
       "        vertical-align: middle;\n",
       "    }\n",
       "\n",
       "    .dataframe tbody tr th {\n",
       "        vertical-align: top;\n",
       "    }\n",
       "\n",
       "    .dataframe thead th {\n",
       "        text-align: right;\n",
       "    }\n",
       "</style>\n",
       "<table border=\"1\" class=\"dataframe\">\n",
       "  <thead>\n",
       "    <tr style=\"text-align: right;\">\n",
       "      <th></th>\n",
       "      <th>꽃잎길이</th>\n",
       "      <th>꽃잎폭</th>\n",
       "      <th>꽃받침길이</th>\n",
       "      <th>꽃받침폭</th>\n",
       "      <th>품종</th>\n",
       "    </tr>\n",
       "  </thead>\n",
       "  <tbody>\n",
       "    <tr>\n",
       "      <th>0</th>\n",
       "      <td>5.1</td>\n",
       "      <td>3.5</td>\n",
       "      <td>1.4</td>\n",
       "      <td>0.2</td>\n",
       "      <td>setosa</td>\n",
       "    </tr>\n",
       "    <tr>\n",
       "      <th>1</th>\n",
       "      <td>4.9</td>\n",
       "      <td>3.0</td>\n",
       "      <td>1.4</td>\n",
       "      <td>0.2</td>\n",
       "      <td>setosa</td>\n",
       "    </tr>\n",
       "    <tr>\n",
       "      <th>2</th>\n",
       "      <td>4.7</td>\n",
       "      <td>3.2</td>\n",
       "      <td>1.3</td>\n",
       "      <td>0.2</td>\n",
       "      <td>setosa</td>\n",
       "    </tr>\n",
       "    <tr>\n",
       "      <th>3</th>\n",
       "      <td>4.6</td>\n",
       "      <td>3.1</td>\n",
       "      <td>1.5</td>\n",
       "      <td>0.2</td>\n",
       "      <td>setosa</td>\n",
       "    </tr>\n",
       "    <tr>\n",
       "      <th>4</th>\n",
       "      <td>5.0</td>\n",
       "      <td>3.6</td>\n",
       "      <td>1.4</td>\n",
       "      <td>0.2</td>\n",
       "      <td>setosa</td>\n",
       "    </tr>\n",
       "  </tbody>\n",
       "</table>\n",
       "</div>"
      ],
      "text/plain": [
       "   꽃잎길이  꽃잎폭  꽃받침길이  꽃받침폭      품종\n",
       "0   5.1  3.5    1.4   0.2  setosa\n",
       "1   4.9  3.0    1.4   0.2  setosa\n",
       "2   4.7  3.2    1.3   0.2  setosa\n",
       "3   4.6  3.1    1.5   0.2  setosa\n",
       "4   5.0  3.6    1.4   0.2  setosa"
      ]
     },
     "execution_count": 3,
     "metadata": {},
     "output_type": "execute_result"
    }
   ],
   "source": [
    "iris.head()"
   ]
  },
  {
   "cell_type": "code",
   "execution_count": 6,
   "metadata": {},
   "outputs": [
    {
     "data": {
      "text/html": [
       "<div>\n",
       "<style scoped>\n",
       "    .dataframe tbody tr th:only-of-type {\n",
       "        vertical-align: middle;\n",
       "    }\n",
       "\n",
       "    .dataframe tbody tr th {\n",
       "        vertical-align: top;\n",
       "    }\n",
       "\n",
       "    .dataframe thead th {\n",
       "        text-align: right;\n",
       "    }\n",
       "</style>\n",
       "<table border=\"1\" class=\"dataframe\">\n",
       "  <thead>\n",
       "    <tr style=\"text-align: right;\">\n",
       "      <th></th>\n",
       "      <th>꽃잎길이</th>\n",
       "      <th>꽃잎폭</th>\n",
       "      <th>꽃받침길이</th>\n",
       "      <th>꽃받침폭</th>\n",
       "      <th>품종_setosa</th>\n",
       "      <th>품종_versicolor</th>\n",
       "      <th>품종_virginica</th>\n",
       "    </tr>\n",
       "  </thead>\n",
       "  <tbody>\n",
       "    <tr>\n",
       "      <th>0</th>\n",
       "      <td>5.1</td>\n",
       "      <td>3.5</td>\n",
       "      <td>1.4</td>\n",
       "      <td>0.2</td>\n",
       "      <td>1</td>\n",
       "      <td>0</td>\n",
       "      <td>0</td>\n",
       "    </tr>\n",
       "    <tr>\n",
       "      <th>1</th>\n",
       "      <td>4.9</td>\n",
       "      <td>3.0</td>\n",
       "      <td>1.4</td>\n",
       "      <td>0.2</td>\n",
       "      <td>1</td>\n",
       "      <td>0</td>\n",
       "      <td>0</td>\n",
       "    </tr>\n",
       "    <tr>\n",
       "      <th>2</th>\n",
       "      <td>4.7</td>\n",
       "      <td>3.2</td>\n",
       "      <td>1.3</td>\n",
       "      <td>0.2</td>\n",
       "      <td>1</td>\n",
       "      <td>0</td>\n",
       "      <td>0</td>\n",
       "    </tr>\n",
       "    <tr>\n",
       "      <th>3</th>\n",
       "      <td>4.6</td>\n",
       "      <td>3.1</td>\n",
       "      <td>1.5</td>\n",
       "      <td>0.2</td>\n",
       "      <td>1</td>\n",
       "      <td>0</td>\n",
       "      <td>0</td>\n",
       "    </tr>\n",
       "    <tr>\n",
       "      <th>4</th>\n",
       "      <td>5.0</td>\n",
       "      <td>3.6</td>\n",
       "      <td>1.4</td>\n",
       "      <td>0.2</td>\n",
       "      <td>1</td>\n",
       "      <td>0</td>\n",
       "      <td>0</td>\n",
       "    </tr>\n",
       "  </tbody>\n",
       "</table>\n",
       "</div>"
      ],
      "text/plain": [
       "   꽃잎길이  꽃잎폭  꽃받침길이  꽃받침폭  품종_setosa  품종_versicolor  품종_virginica\n",
       "0   5.1  3.5    1.4   0.2          1              0             0\n",
       "1   4.9  3.0    1.4   0.2          1              0             0\n",
       "2   4.7  3.2    1.3   0.2          1              0             0\n",
       "3   4.6  3.1    1.5   0.2          1              0             0\n",
       "4   5.0  3.6    1.4   0.2          1              0             0"
      ]
     },
     "execution_count": 6,
     "metadata": {},
     "output_type": "execute_result"
    }
   ],
   "source": [
    "iris = pd.get_dummies(iris)\n",
    "iris.head()"
   ]
  },
  {
   "cell_type": "code",
   "execution_count": 7,
   "metadata": {},
   "outputs": [],
   "source": [
    "ind_var = iris.iloc[:,:4]\n",
    "dep_var = iris.iloc[:,4:]"
   ]
  },
  {
   "cell_type": "code",
   "execution_count": 9,
   "metadata": {},
   "outputs": [
    {
     "name": "stdout",
     "output_type": "stream",
     "text": [
      "(150, 4) (150, 3)\n"
     ]
    }
   ],
   "source": [
    "print(ind_var.shape, dep_var.shape)"
   ]
  },
  {
   "cell_type": "markdown",
   "metadata": {},
   "source": [
    "## 모델의 구조 만들기"
   ]
  },
  {
   "cell_type": "code",
   "execution_count": 10,
   "metadata": {},
   "outputs": [],
   "source": [
    "X = tf.keras.layers.Input(shape=[4])\n",
    "Y = tf.keras.layers.Dense(3, activation='softmax')(X)\n",
    "model = tf.keras.models.Model(X, Y)\n",
    "model.compile(loss='categorical_crossentropy',\n",
    "             metrics='accuracy')"
   ]
  },
  {
   "cell_type": "markdown",
   "metadata": {},
   "source": [
    "## 모델 학습하기"
   ]
  },
  {
   "cell_type": "code",
   "execution_count": 11,
   "metadata": {},
   "outputs": [
    {
     "name": "stdout",
     "output_type": "stream",
     "text": [
      "Epoch 1/10\n",
      "5/5 [==============================] - 0s 998us/step - loss: 5.6837 - accuracy: 0.3333\n",
      "Epoch 2/10\n",
      "5/5 [==============================] - 0s 1ms/step - loss: 5.5593 - accuracy: 0.3333\n",
      "Epoch 3/10\n",
      "5/5 [==============================] - 0s 998us/step - loss: 5.4766 - accuracy: 0.3333\n",
      "Epoch 4/10\n",
      "5/5 [==============================] - 0s 1ms/step - loss: 5.4037 - accuracy: 0.3333\n",
      "Epoch 5/10\n",
      "5/5 [==============================] - 0s 2ms/step - loss: 5.3368 - accuracy: 0.3333\n",
      "Epoch 6/10\n",
      "5/5 [==============================] - 0s 1ms/step - loss: 5.2755 - accuracy: 0.3333\n",
      "Epoch 7/10\n",
      "5/5 [==============================] - 0s 2ms/step - loss: 5.2141 - accuracy: 0.3333\n",
      "Epoch 8/10\n",
      "5/5 [==============================] - 0s 1ms/step - loss: 5.1582 - accuracy: 0.3333\n",
      "Epoch 9/10\n",
      "5/5 [==============================] - 0s 2ms/step - loss: 5.1009 - accuracy: 0.3333\n",
      "Epoch 10/10\n",
      "5/5 [==============================] - 0s 1ms/step - loss: 5.0437 - accuracy: 0.3333\n",
      "\n",
      "Epoch 1/10\n",
      "5/5 [==============================] - 0s 800us/step - loss: 0.1597 - accuracy: 0.9667\n",
      "Epoch 2/10\n",
      "5/5 [==============================] - 0s 1ms/step - loss: 0.1594 - accuracy: 0.9667\n",
      "Epoch 3/10\n",
      "5/5 [==============================] - 0s 1ms/step - loss: 0.1594 - accuracy: 0.9733\n",
      "Epoch 4/10\n",
      "5/5 [==============================] - 0s 1ms/step - loss: 0.1591 - accuracy: 0.9733\n",
      "Epoch 5/10\n",
      "5/5 [==============================] - 0s 1ms/step - loss: 0.1600 - accuracy: 0.9733\n",
      "Epoch 6/10\n",
      "5/5 [==============================] - 0s 997us/step - loss: 0.1590 - accuracy: 0.9733\n",
      "Epoch 7/10\n",
      "5/5 [==============================] - 0s 1ms/step - loss: 0.1593 - accuracy: 0.9733\n",
      "Epoch 8/10\n",
      "5/5 [==============================] - 0s 1ms/step - loss: 0.1588 - accuracy: 0.9733\n",
      "Epoch 9/10\n",
      "5/5 [==============================] - 0s 997us/step - loss: 0.1584 - accuracy: 0.9733\n",
      "Epoch 10/10\n",
      "5/5 [==============================] - 0s 798us/step - loss: 0.1584 - accuracy: 0.9667\n"
     ]
    },
    {
     "data": {
      "text/plain": [
       "<tensorflow.python.keras.callbacks.History at 0x1e29c234d00>"
      ]
     },
     "execution_count": 11,
     "metadata": {},
     "output_type": "execute_result"
    }
   ],
   "source": [
    "model.fit(ind_var,\n",
    "          dep_var,\n",
    "          epochs=10)\n",
    "model.fit(ind_var,\n",
    "          dep_var,\n",
    "          epochs=1000,\n",
    "          verbose=0)\n",
    "print()\n",
    "model.fit(ind_var,\n",
    "          dep_var,\n",
    "          epochs=10)"
   ]
  },
  {
   "cell_type": "code",
   "execution_count": 13,
   "metadata": {},
   "outputs": [
    {
     "data": {
      "text/html": [
       "<div>\n",
       "<style scoped>\n",
       "    .dataframe tbody tr th:only-of-type {\n",
       "        vertical-align: middle;\n",
       "    }\n",
       "\n",
       "    .dataframe tbody tr th {\n",
       "        vertical-align: top;\n",
       "    }\n",
       "\n",
       "    .dataframe thead th {\n",
       "        text-align: right;\n",
       "    }\n",
       "</style>\n",
       "<table border=\"1\" class=\"dataframe\">\n",
       "  <thead>\n",
       "    <tr style=\"text-align: right;\">\n",
       "      <th></th>\n",
       "      <th>0</th>\n",
       "      <th>1</th>\n",
       "      <th>2</th>\n",
       "    </tr>\n",
       "  </thead>\n",
       "  <tbody>\n",
       "    <tr>\n",
       "      <th>0</th>\n",
       "      <td>0.998919</td>\n",
       "      <td>0.001081</td>\n",
       "      <td>9.164519e-08</td>\n",
       "    </tr>\n",
       "    <tr>\n",
       "      <th>1</th>\n",
       "      <td>0.995615</td>\n",
       "      <td>0.004385</td>\n",
       "      <td>7.721193e-07</td>\n",
       "    </tr>\n",
       "    <tr>\n",
       "      <th>2</th>\n",
       "      <td>0.998002</td>\n",
       "      <td>0.001997</td>\n",
       "      <td>3.346266e-07</td>\n",
       "    </tr>\n",
       "    <tr>\n",
       "      <th>3</th>\n",
       "      <td>0.994637</td>\n",
       "      <td>0.005362</td>\n",
       "      <td>1.546767e-06</td>\n",
       "    </tr>\n",
       "    <tr>\n",
       "      <th>4</th>\n",
       "      <td>0.999135</td>\n",
       "      <td>0.000865</td>\n",
       "      <td>7.733865e-08</td>\n",
       "    </tr>\n",
       "  </tbody>\n",
       "</table>\n",
       "</div>"
      ],
      "text/plain": [
       "          0         1             2\n",
       "0  0.998919  0.001081  9.164519e-08\n",
       "1  0.995615  0.004385  7.721193e-07\n",
       "2  0.998002  0.001997  3.346266e-07\n",
       "3  0.994637  0.005362  1.546767e-06\n",
       "4  0.999135  0.000865  7.733865e-08"
      ]
     },
     "execution_count": 13,
     "metadata": {},
     "output_type": "execute_result"
    }
   ],
   "source": [
    "pd.DataFrame(model.predict(ind_var[:5]))"
   ]
  },
  {
   "cell_type": "code",
   "execution_count": 14,
   "metadata": {},
   "outputs": [
    {
     "data": {
      "text/html": [
       "<div>\n",
       "<style scoped>\n",
       "    .dataframe tbody tr th:only-of-type {\n",
       "        vertical-align: middle;\n",
       "    }\n",
       "\n",
       "    .dataframe tbody tr th {\n",
       "        vertical-align: top;\n",
       "    }\n",
       "\n",
       "    .dataframe thead th {\n",
       "        text-align: right;\n",
       "    }\n",
       "</style>\n",
       "<table border=\"1\" class=\"dataframe\">\n",
       "  <thead>\n",
       "    <tr style=\"text-align: right;\">\n",
       "      <th></th>\n",
       "      <th>품종_setosa</th>\n",
       "      <th>품종_versicolor</th>\n",
       "      <th>품종_virginica</th>\n",
       "    </tr>\n",
       "  </thead>\n",
       "  <tbody>\n",
       "    <tr>\n",
       "      <th>0</th>\n",
       "      <td>1</td>\n",
       "      <td>0</td>\n",
       "      <td>0</td>\n",
       "    </tr>\n",
       "    <tr>\n",
       "      <th>1</th>\n",
       "      <td>1</td>\n",
       "      <td>0</td>\n",
       "      <td>0</td>\n",
       "    </tr>\n",
       "    <tr>\n",
       "      <th>2</th>\n",
       "      <td>1</td>\n",
       "      <td>0</td>\n",
       "      <td>0</td>\n",
       "    </tr>\n",
       "    <tr>\n",
       "      <th>3</th>\n",
       "      <td>1</td>\n",
       "      <td>0</td>\n",
       "      <td>0</td>\n",
       "    </tr>\n",
       "    <tr>\n",
       "      <th>4</th>\n",
       "      <td>1</td>\n",
       "      <td>0</td>\n",
       "      <td>0</td>\n",
       "    </tr>\n",
       "  </tbody>\n",
       "</table>\n",
       "</div>"
      ],
      "text/plain": [
       "   품종_setosa  품종_versicolor  품종_virginica\n",
       "0          1              0             0\n",
       "1          1              0             0\n",
       "2          1              0             0\n",
       "3          1              0             0\n",
       "4          1              0             0"
      ]
     },
     "execution_count": 14,
     "metadata": {},
     "output_type": "execute_result"
    }
   ],
   "source": [
    "dep_var[:5]"
   ]
  },
  {
   "cell_type": "markdown",
   "metadata": {},
   "source": [
    "## 모델의 수식"
   ]
  },
  {
   "cell_type": "code",
   "execution_count": 17,
   "metadata": {},
   "outputs": [
    {
     "data": {
      "text/plain": [
       "[array([[ 1.2120858 ,  0.79970855, -0.62333703],\n",
       "        [ 1.92979   , -0.71278566, -1.605099  ],\n",
       "        [-3.3558195 ,  0.07102513,  1.630443  ],\n",
       "        [-3.9565172 , -1.8591785 ,  1.597882  ]], dtype=float32),\n",
       " array([ 1.4604897,  0.7665555, -1.1026498], dtype=float32)]"
      ]
     },
     "execution_count": 17,
     "metadata": {},
     "output_type": "execute_result"
    }
   ],
   "source": [
    "model.get_weights()"
   ]
  },
  {
   "cell_type": "markdown",
   "metadata": {},
   "source": [
    "- 모델은 총 3개의 수식을 반환 (열에 따라)\n",
    "- 예를 들어 setosa의 경우 $1.21*꽃잎길이 + 1.92*꽃잎폭 -3.36*꽃받침길이 - 3.96*꽃받침폭 + 1.46$으로 계산하게 됨"
   ]
  }
 ],
 "metadata": {
  "kernelspec": {
   "display_name": "Python 3",
   "language": "python",
   "name": "python3"
  },
  "language_info": {
   "codemirror_mode": {
    "name": "ipython",
    "version": 3
   },
   "file_extension": ".py",
   "mimetype": "text/x-python",
   "name": "python",
   "nbconvert_exporter": "python",
   "pygments_lexer": "ipython3",
   "version": "3.8.3"
  }
 },
 "nbformat": 4,
 "nbformat_minor": 4
}
