{
 "cells": [
  {
   "cell_type": "markdown",
   "metadata": {},
   "source": [
    "# 딥러닝\n",
    "## 5. 딥러닝의 미래"
   ]
  },
  {
   "cell_type": "markdown",
   "metadata": {},
   "source": [
    "### 1) 이미지 스타일 변환\n",
    "- \"A Neural Algorithm of Artistic Style\" 논문에서 두 이미지를 입력해서 새로운 그림을 생성하는 연구를 발표\n",
    "- 큰틀에서 스타일 이미지의 특징을 담은 '스타일 행렬'을 학습하고 콘텐츠 미이지를 이에 맞게 변형하도록 학습\n",
    "- 실제로 이런 효과를 적용한 사진 앱들이 이미 많이 등장\n",
    "![](image/fig 8-23.png)"
   ]
  },
  {
   "cell_type": "markdown",
   "metadata": {},
   "source": [
    "___\n",
    "### 2) 이미지 생성\n",
    "- 대량의 이미지를 사용하여 학습이 필요하지만, 학습이 끝난 후에는 아무런 입력 이미지 없이도 새로운 이미지를 생성 가능\n",
    "- **DCGAN**(Deep Convolutional Generative Adversrial Network)로 이미지 생성이 가능하며, 아래 침실이미지는 모두 DCGAN으로 생성\n",
    "![](image/fig 8-24.png)\n",
    "- DCGAN의 핵심은 생성자와 식별자로 불리는 2개의 신경망을 이용하여, 실제 이미지와 생성한 이미지의 정교함을 겨루도록 학습(GAN)\n",
    "- DCGAN은 기존 기계학습과는 다르게 지도학습이 아닌 자율학습 문제임\n",
    "___"
   ]
  },
  {
   "cell_type": "markdown",
   "metadata": {},
   "source": [
    "### 3) 자율 주행\n",
    "- 자율주행은 경로계획, 탐사기술 등 다양한 기술을 모아 구현하지만, 그 중 주변 환경을 인식하는 기술이 중요한 문제 중 하나\n",
    "- CNN 기반 신경망인 **SegNet**은 아래와 같이 주변 환경을 정확하게 인식(분할)\n",
    "![](image/fig 8-25.png)\n",
    "___"
   ]
  },
  {
   "cell_type": "markdown",
   "metadata": {},
   "source": [
    "### 4) Deep Q-Network(강화학습)\n",
    "- **강화학습**(enforced learning)은 '지도학습'과는 다른 분야로, 컴퓨터 스스로 시행착오 과정에서 학습하게 하려는 영역임\n",
    "- 기본 틀은 환경에 맞게 행동을 선택하고, 더 나은 보상을 받는 쪽으로 행동 지침을 정하는 것으로 아래 그림 참조\n",
    "![](image/fig 8-26.png)"
   ]
  },
  {
   "cell_type": "markdown",
   "metadata": {},
   "source": [
    "- 슈퍼마리오 같은 불명확한 환경에서는 예상보상을 지표로 삼는 것이 효과적인 강화 학습을 유도할 수 있음\n",
    "- Q학습이라는 강화학습 알고리즘을 기초로 한 (최적행동가치함수) CNN이 **DQN**(Deep Q-Network)로 비디오 게임 자율학습 사례가 보고 됨\n",
    "- DQN에서 사용하는 CNN은 게임 영상 프레임을 입력하여 최종적으로는 게임을 제어하는 움직임에(조이스틱/키보드) 대하여 각 동작의 '가치'를 출력\n",
    "- 과거 게임 학습에서 게임의 상태 데이터는 미리 추출하는 것이 보통이었으나, DQN에서는 영상만으로 학습이 가능\n",
    "![](image/fig 8-27.png)"
   ]
  }
 ],
 "metadata": {
  "kernelspec": {
   "display_name": "Python 3",
   "language": "python",
   "name": "python3"
  },
  "language_info": {
   "codemirror_mode": {
    "name": "ipython",
    "version": 3
   },
   "file_extension": ".py",
   "mimetype": "text/x-python",
   "name": "python",
   "nbconvert_exporter": "python",
   "pygments_lexer": "ipython3",
   "version": "3.6.4"
  }
 },
 "nbformat": 4,
 "nbformat_minor": 2
}
