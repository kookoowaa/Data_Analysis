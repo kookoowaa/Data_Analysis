{
 "cells": [
  {
   "cell_type": "markdown",
   "metadata": {},
   "source": [
    "# *합성곱 신경망*\n",
    " ## 7. 대표적인 CNN"
   ]
  },
  {
   "cell_type": "markdown",
   "metadata": {},
   "source": [
    "> ### - CNN은 다양하게 구성 가능\n",
    "> ### - 그 중 CNN을 대중적으로 이끈 데에는 LeNet과 AlexNet이 있음\n",
    "\n",
    "___"
   ]
  },
  {
   "cell_type": "markdown",
   "metadata": {},
   "source": [
    "### 1) LeNet\n",
    "\n",
    "- **LeNet**은 손글씨 숫자를 인식하는 네트워크로 1998년에 제안 **(CNN의 원조!)**\n",
    "- Convolution Layer와  Pooling Layer를 반복하다가 (원소를 줄여나가는 서브샘플링), 마지막으로 Affine Layer(완전연결)를 거치면서 결과를 출력\n",
    "- LeNet은 Sigmoid 함수를 사용하며, 서브샘플링을 통해 데이터의 크기가 계속 줄어드는 형태\n",
    "- 현재의 CNN은 주로 ReLU 함수를 사용하며, 최대 풀링으로 연산\n",
    "![](image/fig 7-27.png)\n",
    "___"
   ]
  },
  {
   "cell_type": "markdown",
   "metadata": {},
   "source": [
    "### 2) AlexNet\n",
    "\n",
    "- **AlexNet**은 2012년에 발표되어 딥러닝 열풍을 일으키는 데 큰 역할을 함\n",
    "- 그 구성은 기본적으로 LeNet에 기초\n",
    "![](image/fig 7-28.png)\n",
    "- 다만 차이가 있다면 ①활성화 함수로 ReLU 사용, ②LRN<sup>(Local Response Normalization)</sup>이라는 국소적 정규화 계층 이용, ③드롭아웃 사용, 정도가 있음\n",
    "- 결과적으로 빅데이터와 GPUI의 발전이 LeNet의 제한적 환경에 해결책을 제시 (학습데이터 + 병렬계산) "
   ]
  }
 ],
 "metadata": {
  "kernelspec": {
   "display_name": "Python 3",
   "language": "python",
   "name": "python3"
  },
  "language_info": {
   "codemirror_mode": {
    "name": "ipython",
    "version": 3
   },
   "file_extension": ".py",
   "mimetype": "text/x-python",
   "name": "python",
   "nbconvert_exporter": "python",
   "pygments_lexer": "ipython3",
   "version": "3.6.4"
  }
 },
 "nbformat": 4,
 "nbformat_minor": 2
}
