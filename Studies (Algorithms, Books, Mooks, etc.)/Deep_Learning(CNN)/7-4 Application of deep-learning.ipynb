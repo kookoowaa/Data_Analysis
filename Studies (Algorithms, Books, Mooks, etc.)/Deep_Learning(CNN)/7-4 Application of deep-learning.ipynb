{
 "cells": [
  {
   "cell_type": "markdown",
   "metadata": {},
   "source": [
    "# *딥러닝*\n",
    " ## 4. 딥러닝의 활용"
   ]
  },
  {
   "cell_type": "markdown",
   "metadata": {},
   "source": [
    "### 1) 사물 검출\n",
    "\n",
    " - 아래 그림과 같이 이미지 속에 담긴 사물의 위치와 종류를 알아내는 기술로, 사물 인식보다 어려운 문제 (이미지 어딘가에 있을 사물들의 위치까지 파악)\n",
    " ![](image/fig 8-17.png)\n",
    " "
   ]
  },
  {
   "cell_type": "markdown",
   "metadata": {},
   "source": [
    "- **R-CNN**(Regions with Convolutional Neural Network)이 유명하며 처리 흐름은 아래와 같음\n",
    "![](image/fig 8-18.png)\n",
    "- 주목할 곳은 '2. 후보영역추출'과 '3.CNN특징계산'으로, 먼저 사물이 위치한 영역을 찾고 각 영역에 CNN을 적용하여 분류하는 기법임\n",
    "- 최근에는 후보영역추출까지 CNN을오 처리하는 '**Faster R-CNN** 기법도 등장\n",
    "___"
   ]
  },
  {
   "cell_type": "markdown",
   "metadata": {},
   "source": [
    "### 2) 분할\n",
    "- **분할**(segmentation)이란 이미지를 픽셀 수준에서 분류하는 문제임\n",
    "- 픽셀 단위로 객체마다 채색된 학습 데이터를 사용해 학습 (supervised learning)\n",
    "\n",
    "    [우측이 학습용 이미지]\n",
    "    \n",
    "![](image/fig 8-19.png)\n",
    "- 신경망을 이용해 분할하는 가장 단순한 방법은 모든 픽셀을 각각 추론하는 것이지만, 그만큼 forward 처리에 긴 시간이 소요\n",
    "- 낭비를 줄이기 위해 **FCN**(Fully Convolutional Network)이 고안되었고 합성곱 계층만으로 네트워크를 구성\n",
    "- 대신 마지막에 공간 크기를 확대하는 처리를 도입하여 공간 볼륨을 유지\n",
    "___"
   ]
  },
  {
   "cell_type": "markdown",
   "metadata": {},
   "source": [
    "### 3) 사진 캡션 생성\n",
    "- **NIC**(Neural Image Caption) 모델이 대표적으로 CNN과 RNN(language generating RNN)으로 구성함\n",
    "![](image/fig 8-22.png)\n"
   ]
  },
  {
   "cell_type": "markdown",
   "metadata": {},
   "source": [
    "- NIC는 CNN으로 사진에서 특징을 추출하고, RNN은 CNN이 추출한 특징을 초깃값으로 텍스트를 '순환적'으로 생성\n",
    "- NIC는 기본적으로 2개의 신경망을 조합한 구성으로 사진이나 자연어와 같이 여러 종류의 정보를 조합하고 처리하는 멀티모달 처리(multimodal processing)를 수행\n",
    "- 이하 NIC 예시\n",
    "![](image/fig 8-21.png)\n",
    "___"
   ]
  }
 ],
 "metadata": {
  "kernelspec": {
   "display_name": "Python 3",
   "language": "python",
   "name": "python3"
  },
  "language_info": {
   "codemirror_mode": {
    "name": "ipython",
    "version": 3
   },
   "file_extension": ".py",
   "mimetype": "text/x-python",
   "name": "python",
   "nbconvert_exporter": "python",
   "pygments_lexer": "ipython3",
   "version": "3.6.4"
  }
 },
 "nbformat": 4,
 "nbformat_minor": 2
}
